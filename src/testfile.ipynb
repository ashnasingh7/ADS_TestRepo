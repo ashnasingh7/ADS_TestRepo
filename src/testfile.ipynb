{
 "cells": [
  {
   "cell_type": "markdown",
   "metadata": {
    "application/vnd.databricks.v1+cell": {
     "cellMetadata": {},
     "inputWidgets": {},
     "nuid": "fbc2f942-5463-46bb-80e1-ddef27ba811f",
     "showTitle": false,
     "title": ""
    },
    "deletable": false,
    "editable": false,
    "nbgrader": {
     "cell_type": "markdown",
     "checksum": "2782d81d53865fdef15ad39816365286",
     "grade": false,
     "grade_id": "cell-87c529506f79245c",
     "locked": true,
     "schema_version": 3,
     "solution": false,
     "task": false
    }
   },
   "source": [
    "# PSYC 111A Final Exam - Winter 2021"
   ]
  },
  {
   "cell_type": "code",
   "execution_count": 0,
   "metadata": {
    "application/vnd.databricks.v1+cell": {
     "cellMetadata": {},
     "inputWidgets": {},
     "nuid": "f7243252-c0bb-4081-98ff-fda773b24e94",
     "showTitle": false,
     "title": ""
    },
    "deletable": false,
    "editable": false,
    "nbgrader": {
     "cell_type": "code",
     "checksum": "b5416c02a6d4e78fa4f41a68595677dc",
     "grade": false,
     "grade_id": "cell-e5dca76311ff3ae2",
     "locked": true,
     "schema_version": 3,
     "solution": false,
     "task": false
    }
   },
   "outputs": [],
   "source": [
    "# Run this code to load the R Packages\n",
    "suppressMessages(suppressWarnings(suppressPackageStartupMessages({\n",
    "  library(mosaic)\n",
    "  library(supernova)\n",
    "  library(Lock5withR)\n",
    "  library(gridExtra)\n",
    "  library(magrittr)\n",
    "  library(tidyverse)\n",
    "  library(testthat)})))"
   ]
  },
  {
   "cell_type": "markdown",
   "metadata": {
    "application/vnd.databricks.v1+cell": {
     "cellMetadata": {},
     "inputWidgets": {},
     "nuid": "6c45bbfb-81c1-4287-9ed9-2a70b0c551e4",
     "showTitle": false,
     "title": ""
    },
    "deletable": false,
    "editable": false,
    "nbgrader": {
     "cell_type": "markdown",
     "checksum": "8361c3f57ac60234a8ce67bd29ab9a5b",
     "grade": false,
     "grade_id": "cell-1420aee8eff54eeb",
     "locked": true,
     "schema_version": 3,
     "solution": false,
     "task": false
    }
   },
   "source": [
    "In this final exam, you will consider a real research study from beginning to end. The first section will focus on the design and methodological choices about how the study was conducted. The second section will focus on cleaning and analyzing the data from this study. Here is a brief summary of the background and methods of the study: \n",
    "\n",
    "*Previous evidence suggests that mindfulness training may improve aspects of psychosocial well-being. Whilst mindfulness is traditionally taught in person, consumers are increasingly turning to mindfulness-based smartphone apps as an alternative delivery medium for training. Despite this growing trend, few studies have explored whether mindfulness delivered via a smartphone app can enhance psychosocial well-being within the general public. The present pilot randomized controlled trial compared the impact of engaging with the self-guided mindfulness meditation (MM) app ‘Headspace’ for a period of 10 or 30 days, to a waitlist (WL) control, using a cohort of adults from the general population. The Satisfaction with Life Scale, Perceived Stress Scale, and Wagnild Resilience Scale were administered online at baseline and after 10 and 30 days of the intervention. (Champion, Economides, & Chandler, 2018)*\n"
   ]
  },
  {
   "cell_type": "markdown",
   "metadata": {
    "application/vnd.databricks.v1+cell": {
     "cellMetadata": {},
     "inputWidgets": {},
     "nuid": "c37dd7a9-193f-43fe-9fe4-79e85b6b59be",
     "showTitle": false,
     "title": ""
    },
    "deletable": false,
    "editable": false,
    "nbgrader": {
     "cell_type": "markdown",
     "checksum": "4b888d8e6dbccfface72a0101e34d03f",
     "grade": false,
     "grade_id": "cell-b5c994deb8c0fdff",
     "locked": true,
     "schema_version": 3,
     "solution": false,
     "task": false
    }
   },
   "source": [
    "# Part 1 - Design and Methodology  \n",
    "\n",
    "### (37 points total)"
   ]
  },
  {
   "cell_type": "markdown",
   "metadata": {
    "application/vnd.databricks.v1+cell": {
     "cellMetadata": {},
     "inputWidgets": {},
     "nuid": "49862bc2-1f10-4902-a776-b9e338a25ee3",
     "showTitle": false,
     "title": ""
    },
    "deletable": false,
    "editable": false,
    "nbgrader": {
     "cell_type": "markdown",
     "checksum": "b14bda1f24431b616da0f41c040fef53",
     "grade": false,
     "grade_id": "cell-6a61e9e31b777b84",
     "locked": true,
     "schema_version": 3,
     "solution": false,
     "task": false
    }
   },
   "source": [
    "Some of the following questions are multiple choice. In these instances, you will be asked to save your answer to a specific variable. When saving your answer, please remember to use quotes around the letter and make it lowercase (ex. \"a\"). There are visible test functions you can use to verify whether the answer is properly formatted (**NOTE: this will <u>NOT</u> tell you if the answer is correct**).\n",
    "\n",
    "The other questions are open response. For these, please answer in **<u>150 words max</u>**. Please be clear and concise in your answers."
   ]
  },
  {
   "cell_type": "markdown",
   "metadata": {
    "application/vnd.databricks.v1+cell": {
     "cellMetadata": {},
     "inputWidgets": {},
     "nuid": "887a4c55-01a6-410b-afde-c8d8f0c2b48e",
     "showTitle": false,
     "title": ""
    },
    "deletable": false,
    "editable": false,
    "nbgrader": {
     "cell_type": "markdown",
     "checksum": "fb40ad7603400688f22352cb161bb4ed",
     "grade": false,
     "grade_id": "cell-02518a8bf7c74f70",
     "locked": true,
     "schema_version": 3,
     "solution": false,
     "task": false
    }
   },
   "source": [
    "1.\tIn your own words, what is the broad question that this study is investigating? What is the specific question that will be tested with these methods? **(3 points)**"
   ]
  },
  {
   "cell_type": "markdown",
   "metadata": {
    "application/vnd.databricks.v1+cell": {
     "cellMetadata": {},
     "inputWidgets": {},
     "nuid": "348e7f85-842e-4bef-a450-04e0c3656ccb",
     "showTitle": false,
     "title": ""
    },
    "deletable": false,
    "nbgrader": {
     "cell_type": "markdown",
     "checksum": "f78d76719c283805e0ebceff84963038",
     "grade": true,
     "grade_id": "cell-a855d95fd840064b",
     "locked": false,
     "points": 3,
     "schema_version": 3,
     "solution": true,
     "task": false
    }
   },
   "source": [
    "> The broad question this study is investigating is the impact of mindfulness training on psychosocial well-being. The specific question that will be tested is whether self-guided mindfulness training via the app 'Headspace' enhances psychosocial well-being."
   ]
  },
  {
   "cell_type": "markdown",
   "metadata": {
    "application/vnd.databricks.v1+cell": {
     "cellMetadata": {},
     "inputWidgets": {},
     "nuid": "7a2de560-8827-44a8-88a8-850dfe27c722",
     "showTitle": false,
     "title": ""
    },
    "deletable": false,
    "editable": false,
    "nbgrader": {
     "cell_type": "markdown",
     "checksum": "c354f545225ce624828a2b573c33e416",
     "grade": false,
     "grade_id": "cell-3cef545a16f87535",
     "locked": true,
     "schema_version": 3,
     "solution": false,
     "task": false
    }
   },
   "source": [
    "2.\tWhat kind of research design is being used? Save your answer to `mc.2`. **(1 point)**\n",
    "\n",
    "    a.\tExperimental\n",
    "    \n",
    "    b.\tQuasi-experimental\n",
    "    \n",
    "    c.\tCorrelational\n",
    "    \n",
    "    d.\tDescriptive"
   ]
  },
  {
   "cell_type": "code",
   "execution_count": 0,
   "metadata": {
    "application/vnd.databricks.v1+cell": {
     "cellMetadata": {},
     "inputWidgets": {},
     "nuid": "f1b4a8b5-4a18-4be9-adab-aff2eaa6bd46",
     "showTitle": false,
     "title": ""
    },
    "deletable": false,
    "nbgrader": {
     "cell_type": "code",
     "checksum": "8399c41fe8efecd04bd900a228c35b38",
     "grade": false,
     "grade_id": "cell-0230342a43b911b7",
     "locked": false,
     "schema_version": 3,
     "solution": true,
     "task": false
    }
   },
   "outputs": [],
   "source": [
    "mc.2 <- \"a\""
   ]
  },
  {
   "cell_type": "code",
   "execution_count": 0,
   "metadata": {
    "application/vnd.databricks.v1+cell": {
     "cellMetadata": {},
     "inputWidgets": {},
     "nuid": "f52d204b-6b41-4a25-8590-7998cdb45499",
     "showTitle": false,
     "title": ""
    },
    "deletable": false,
    "editable": false,
    "nbgrader": {
     "cell_type": "code",
     "checksum": "98f325b433d8484cfafdb65eeece5990",
     "grade": true,
     "grade_id": "cell-de57866d57f7ebb5",
     "locked": true,
     "points": 1,
     "schema_version": 3,
     "solution": false,
     "task": false
    }
   },
   "outputs": [],
   "source": [
    "if (test_that(\"testMC2.1\", {\n",
    "    expect_true(mc.2 %in% c(\"a\", \"b\", \"c\", \"d\"))\n",
    "})) {\n",
    "    print(\"Your answer is formatted properly!\")\n",
    "} else {\n",
    "    stop(\"mc.2 should be one of a, b, c, d\")\n",
    "}\n"
   ]
  },
  {
   "cell_type": "markdown",
   "metadata": {
    "application/vnd.databricks.v1+cell": {
     "cellMetadata": {},
     "inputWidgets": {},
     "nuid": "bb645670-0554-4a1b-a9ab-d905433db0b7",
     "showTitle": false,
     "title": ""
    },
    "deletable": false,
    "editable": false,
    "nbgrader": {
     "cell_type": "markdown",
     "checksum": "1b02121d92fd9f651069b80decddd016",
     "grade": false,
     "grade_id": "cell-fe590d2521723507",
     "locked": true,
     "schema_version": 3,
     "solution": false,
     "task": false
    }
   },
   "source": [
    "3.\tThe main independent variable in this design is the mindfulness intervention, in which people either engage in self-guided meditation (MM) or a waitlist control (WL) that gets no intervention. How many levels does the independent variable have, and was it manipulated within or between subjects? Save your answer to `mc.3` **(1 point)**\n",
    "\n",
    "    a. 2 levels, within subjects\n",
    "\n",
    "    b. 3 levels, within subjects\n",
    "\n",
    "    c. 2 levels, between subjects\n",
    "\n",
    "    d. 3 levels, between subjects"
   ]
  },
  {
   "cell_type": "code",
   "execution_count": 0,
   "metadata": {
    "application/vnd.databricks.v1+cell": {
     "cellMetadata": {},
     "inputWidgets": {},
     "nuid": "22665800-53a8-4b9c-8c82-5e71c15baa71",
     "showTitle": false,
     "title": ""
    },
    "deletable": false,
    "nbgrader": {
     "cell_type": "code",
     "checksum": "2f059f1d439a0ad258c522c772a4f5be",
     "grade": false,
     "grade_id": "cell-214a1a7f9aa991ff",
     "locked": false,
     "schema_version": 3,
     "solution": true,
     "task": false
    }
   },
   "outputs": [],
   "source": [
    "mc.3 <- \"c\""
   ]
  },
  {
   "cell_type": "code",
   "execution_count": 0,
   "metadata": {
    "application/vnd.databricks.v1+cell": {
     "cellMetadata": {},
     "inputWidgets": {},
     "nuid": "9b31b14d-c7a6-491f-a90d-890fe0713c14",
     "showTitle": false,
     "title": ""
    },
    "deletable": false,
    "editable": false,
    "nbgrader": {
     "cell_type": "code",
     "checksum": "ae01b778476ebac84b8f5a79dd540707",
     "grade": true,
     "grade_id": "cell-400e6529f20d251b",
     "locked": true,
     "points": 1,
     "schema_version": 3,
     "solution": false,
     "task": false
    }
   },
   "outputs": [],
   "source": [
    "if (test_that(\"testMC3.1\", {\n",
    "    expect_true(mc.3 %in% c(\"a\", \"b\", \"c\", \"d\"))\n",
    "})) {\n",
    "    print(\"Your answer is formatted properly!\")\n",
    "} else {\n",
    "    stop(\"mc.3 should be one of a, b, c, d\")\n",
    "}\n"
   ]
  },
  {
   "cell_type": "markdown",
   "metadata": {
    "application/vnd.databricks.v1+cell": {
     "cellMetadata": {},
     "inputWidgets": {},
     "nuid": "fbb56ad0-1309-4417-b246-84249906c777",
     "showTitle": false,
     "title": ""
    },
    "deletable": false,
    "editable": false,
    "nbgrader": {
     "cell_type": "markdown",
     "checksum": "33704824a35641541c93c330c5710983",
     "grade": false,
     "grade_id": "cell-528d985e91055666",
     "locked": true,
     "schema_version": 3,
     "solution": false,
     "task": false
    }
   },
   "source": [
    "4.\tAnother independent variable is the timepoint at which participants are measured. All participants (in both the MM and WL conditions) completed measures of well-being at baseline (the day they began the study), 10 days later, and 30 days later. How many levels does this independent variable have, and was it manipulated within or between subjects? Save your answer to `mc.4`. **(1 point)**\n",
    "\n",
    "    a.\t2 levels, within subjects\n",
    "    \n",
    "    b.\t3 levels, within subjects\n",
    "    \n",
    "    c.\t2 levels, between subjects\n",
    "    \n",
    "    d.\t3 levels, between subjects\n"
   ]
  },
  {
   "cell_type": "code",
   "execution_count": 0,
   "metadata": {
    "application/vnd.databricks.v1+cell": {
     "cellMetadata": {},
     "inputWidgets": {},
     "nuid": "1c611990-9659-479f-9b60-f31625c6c29d",
     "showTitle": false,
     "title": ""
    },
    "deletable": false,
    "nbgrader": {
     "cell_type": "code",
     "checksum": "8114092264ea019008648cbd217b7d41",
     "grade": false,
     "grade_id": "cell-9642b9f77310d31e",
     "locked": false,
     "schema_version": 3,
     "solution": true,
     "task": false
    }
   },
   "outputs": [],
   "source": [
    "mc.4 <- \"b\""
   ]
  },
  {
   "cell_type": "code",
   "execution_count": 0,
   "metadata": {
    "application/vnd.databricks.v1+cell": {
     "cellMetadata": {},
     "inputWidgets": {},
     "nuid": "6ffb27d8-e03b-423e-9c12-1eeee7663746",
     "showTitle": false,
     "title": ""
    },
    "deletable": false,
    "editable": false,
    "nbgrader": {
     "cell_type": "code",
     "checksum": "0f2ffa3ec260be25db32254328d8ce07",
     "grade": true,
     "grade_id": "cell-9356f501bbe12977",
     "locked": true,
     "points": 1,
     "schema_version": 3,
     "solution": false,
     "task": false
    }
   },
   "outputs": [],
   "source": [
    "if (test_that(\"testMC4.1\", {\n",
    "    expect_true(mc.4 %in% c(\"a\", \"b\", \"c\", \"d\"))\n",
    "})) {\n",
    "    print(\"Your answer is formatted properly!\")\n",
    "} else {\n",
    "    stop(\"mc.4 should be one of a, b, c, d\")\n",
    "}\n"
   ]
  },
  {
   "cell_type": "markdown",
   "metadata": {
    "application/vnd.databricks.v1+cell": {
     "cellMetadata": {},
     "inputWidgets": {},
     "nuid": "e07abdfc-9764-444b-80cf-ed90cab17700",
     "showTitle": false,
     "title": ""
    },
    "deletable": false,
    "editable": false,
    "nbgrader": {
     "cell_type": "markdown",
     "checksum": "a2704601da23703950da0adc473ad879",
     "grade": false,
     "grade_id": "cell-570fd3133790300c",
     "locked": true,
     "schema_version": 3,
     "solution": false,
     "task": false
    }
   },
   "source": [
    "5.\tThere were 3 main dependent variables measured in this study. One of them, the Satisfaction with Life Scale, is described in the paper like this: “The Satisfaction with Life Scale (SWLS) is a 5-item scale that assesses global satisfaction (e.g. ‘so far I have gotten the important things I want in my life’). Individuals indicate their degree of agreement or disagreement with the items using a 7-point Likert scale (1 = strongly disagree to 7 = strongly agree). The scale is shown to have strong psychometric properties including internal consistency (α = .87) and a high test-retest reliability (α = .82).” Explain what the authors mean when they say this scale has strong internal consistency and test-retest reliability. **(3 points)**"
   ]
  },
  {
   "cell_type": "markdown",
   "metadata": {
    "application/vnd.databricks.v1+cell": {
     "cellMetadata": {},
     "inputWidgets": {},
     "nuid": "0fc7be9a-b026-4bf3-af6e-d9f917c93063",
     "showTitle": false,
     "title": ""
    },
    "deletable": false,
    "nbgrader": {
     "cell_type": "markdown",
     "checksum": "ba6726f7c7962ff47ab86637db070db8",
     "grade": true,
     "grade_id": "cell-d4f0b6d629779213",
     "locked": false,
     "points": 3,
     "schema_version": 3,
     "solution": true,
     "task": false
    }
   },
   "source": [
    "> Internal consistency means that there is a high correlation between the 5 items on the scale on how well they measure the same construct. For example, a participant who indicated high satisfaction with life according to one item would indicate the same when rating agreement with another item. Test-retest reliability refers to the strong correlation between scores across time. Since this scale has strong test-retest reliability, a participant who completes the test twice will score very similarly."
   ]
  },
  {
   "cell_type": "markdown",
   "metadata": {
    "application/vnd.databricks.v1+cell": {
     "cellMetadata": {},
     "inputWidgets": {},
     "nuid": "94afd20c-c365-4363-896b-b731f82a32df",
     "showTitle": false,
     "title": ""
    },
    "deletable": false,
    "editable": false,
    "nbgrader": {
     "cell_type": "markdown",
     "checksum": "8c29f06430cd2afdd23edd1b645fc927",
     "grade": false,
     "grade_id": "cell-50d27eb886266fa7",
     "locked": true,
     "schema_version": 3,
     "solution": false,
     "task": false
    }
   },
   "source": [
    "6. What type and scale of data will the Satisfaction With Life Scale (SWLS) produce? Save your answer to `mc.6` **(1 point)**\n",
    "\n",
    "    a. Self-report, ratio\n",
    "\n",
    "    b. Self-report, ordinal\n",
    "\n",
    "    c. Behavioral, ratio\n",
    "\n",
    "    d. Behavioral, ordinal"
   ]
  },
  {
   "cell_type": "code",
   "execution_count": 0,
   "metadata": {
    "application/vnd.databricks.v1+cell": {
     "cellMetadata": {},
     "inputWidgets": {},
     "nuid": "de0debc3-66ce-4cc1-afdd-2f3175eab4c4",
     "showTitle": false,
     "title": ""
    },
    "deletable": false,
    "nbgrader": {
     "cell_type": "code",
     "checksum": "a3572ee8aef22499335900fcd4dfa8db",
     "grade": false,
     "grade_id": "cell-a5086e885c8b0034",
     "locked": false,
     "schema_version": 3,
     "solution": true,
     "task": false
    }
   },
   "outputs": [],
   "source": [
    "mc.6 <- \"b\""
   ]
  },
  {
   "cell_type": "code",
   "execution_count": 0,
   "metadata": {
    "application/vnd.databricks.v1+cell": {
     "cellMetadata": {},
     "inputWidgets": {},
     "nuid": "b10cdd91-7990-493a-b26c-02c61e27299f",
     "showTitle": false,
     "title": ""
    },
    "deletable": false,
    "editable": false,
    "nbgrader": {
     "cell_type": "code",
     "checksum": "fc6634730be9f7d22e664c08d0bb5ab6",
     "grade": true,
     "grade_id": "cell-ebdb464bb1ca437f",
     "locked": true,
     "points": 1,
     "schema_version": 3,
     "solution": false,
     "task": false
    }
   },
   "outputs": [],
   "source": [
    "if (test_that(\"testMC6.1\", {\n",
    "    expect_true(mc.6 %in% c(\"a\", \"b\", \"c\", \"d\"))\n",
    "})) {\n",
    "    print(\"Your answer is formatted properly!\")\n",
    "} else {\n",
    "    stop(\"mc.6 should be one of a, b, c, d\")\n",
    "}\n"
   ]
  },
  {
   "cell_type": "markdown",
   "metadata": {
    "application/vnd.databricks.v1+cell": {
     "cellMetadata": {},
     "inputWidgets": {},
     "nuid": "307a434d-255e-47b7-978c-100462dbe7f4",
     "showTitle": false,
     "title": ""
    },
    "deletable": false,
    "editable": false,
    "nbgrader": {
     "cell_type": "markdown",
     "checksum": "a9eae5b5487159bcb77ebb51baa33c26",
     "grade": false,
     "grade_id": "cell-50d73f9b05cb174a",
     "locked": true,
     "schema_version": 3,
     "solution": false,
     "task": false
    }
   },
   "source": [
    "7.\tIn your own words, explain why there is some controversy over whether it is appropriate to treat Likert scale data as continuous. Does it ever make sense to model Likert data with a mean? Why or why not? **(3 points)** "
   ]
  },
  {
   "cell_type": "markdown",
   "metadata": {
    "application/vnd.databricks.v1+cell": {
     "cellMetadata": {},
     "inputWidgets": {},
     "nuid": "971467ff-bcdb-4f22-a727-df4e062f34f7",
     "showTitle": false,
     "title": ""
    },
    "deletable": false,
    "nbgrader": {
     "cell_type": "markdown",
     "checksum": "802398475bf43c0185f9d49f6a97ce01",
     "grade": true,
     "grade_id": "cell-7995bd5c1ebd60a6",
     "locked": false,
     "points": 3,
     "schema_version": 3,
     "solution": true,
     "task": false
    }
   },
   "source": [
    "> There is controversy over whether it is appropriate to treat Likert scale data as continuous, because a Likert scale technically consists of ordered categories. It does not make sense to model Likert data with a mean, because the mode could be used to figure out the most common answer. Assigning values to scale points and finding the mean could result in a value that does not correspond to a specific Likert scale point. Also, intervals between scale values cannot always be considered equal."
   ]
  },
  {
   "cell_type": "markdown",
   "metadata": {
    "application/vnd.databricks.v1+cell": {
     "cellMetadata": {},
     "inputWidgets": {},
     "nuid": "c015d7d0-b2ac-486b-900b-ef80571a41f3",
     "showTitle": false,
     "title": ""
    },
    "deletable": false,
    "editable": false,
    "nbgrader": {
     "cell_type": "markdown",
     "checksum": "9fbe9c43177b611b468917e97849a10c",
     "grade": false,
     "grade_id": "cell-1de4c116949f3e56",
     "locked": true,
     "schema_version": 3,
     "solution": false,
     "task": false
    }
   },
   "source": [
    "8.\tAnother dependent variable in this study was the Perceived Stress Scale (PSS) is described like this: “The Perceived Stress Scale (PSS) measures the degree to which situations in an individual’s life might be interpreted as stressful. The 10-item scale aims to establish how unpredictable, uncontrollable and overloaded respondents’ find their lives with respect to the previous month. Respondents answer questions about their feelings and thoughts using a 5-point Likert scale (0 = never to 4 = very often). Scores range from 0–40 with higher scores indicating more stress. The scale has high test-retest reliability (α = .85) and its validity with other measures ranges from .52-.76.” What type of validity are the authors referring to when they say, “validity with other measures ranges from .52-.76”? Save your answer to `mc.8` **(1 point)**\n",
    "\n",
    "    a.\tInternal validity\n",
    "\n",
    "    b.\tExternal validity\n",
    "\n",
    "    c.\tConvergent validity\n",
    "\n",
    "    d.\tDivergent validity"
   ]
  },
  {
   "cell_type": "code",
   "execution_count": 0,
   "metadata": {
    "application/vnd.databricks.v1+cell": {
     "cellMetadata": {},
     "inputWidgets": {},
     "nuid": "5b7e92b7-db01-4b6f-9bb9-562e197b81af",
     "showTitle": false,
     "title": ""
    },
    "deletable": false,
    "nbgrader": {
     "cell_type": "code",
     "checksum": "2d874ebaba662878303890db46a4a445",
     "grade": false,
     "grade_id": "cell-e557ebc96afdfacb",
     "locked": false,
     "schema_version": 3,
     "solution": true,
     "task": false
    }
   },
   "outputs": [],
   "source": [
    "mc.8 <- \"c\""
   ]
  },
  {
   "cell_type": "code",
   "execution_count": 0,
   "metadata": {
    "application/vnd.databricks.v1+cell": {
     "cellMetadata": {},
     "inputWidgets": {},
     "nuid": "bb36e44c-16a0-4394-8420-b1bd039ea936",
     "showTitle": false,
     "title": ""
    },
    "deletable": false,
    "editable": false,
    "nbgrader": {
     "cell_type": "code",
     "checksum": "1e831aff545411bcccbbc5ee295ca6ff",
     "grade": true,
     "grade_id": "cell-341b29219d20aaaa",
     "locked": true,
     "points": 1,
     "schema_version": 3,
     "solution": false,
     "task": false
    }
   },
   "outputs": [],
   "source": [
    "if (test_that(\"testMC8.1\", {\n",
    "    expect_true(mc.8 %in% c(\"a\", \"b\", \"c\", \"d\"))\n",
    "})) {\n",
    "    print(\"Your answer is formatted properly!\")\n",
    "} else {\n",
    "    stop(\"mc.8 should be one of a, b, c, d\")\n",
    "}\n"
   ]
  },
  {
   "cell_type": "markdown",
   "metadata": {
    "application/vnd.databricks.v1+cell": {
     "cellMetadata": {},
     "inputWidgets": {},
     "nuid": "dd495368-558f-4cb9-9f63-e9f2dd52b896",
     "showTitle": false,
     "title": ""
    },
    "deletable": false,
    "editable": false,
    "nbgrader": {
     "cell_type": "markdown",
     "checksum": "1caf52bb6220a17b75641d67d500334b",
     "grade": false,
     "grade_id": "cell-458d13712e567cff",
     "locked": true,
     "schema_version": 3,
     "solution": false,
     "task": false
    }
   },
   "source": [
    "9.\tWhat part of the description in the previous question is the conceptual definition of perceived stress? What part is the operational definition? **(3 points)**"
   ]
  },
  {
   "cell_type": "markdown",
   "metadata": {
    "application/vnd.databricks.v1+cell": {
     "cellMetadata": {},
     "inputWidgets": {},
     "nuid": "722180d4-897f-4297-9004-46184fd9cb58",
     "showTitle": false,
     "title": ""
    },
    "deletable": false,
    "nbgrader": {
     "cell_type": "markdown",
     "checksum": "7145a914e4556cf7f42d98b112bc574b",
     "grade": true,
     "grade_id": "cell-c12c6ea700ffc658",
     "locked": false,
     "points": 3,
     "schema_version": 3,
     "solution": true,
     "task": false
    }
   },
   "source": [
    "> The conceptual defenition of perceived stress is \"how unpredictable, uncontrollable, and overloaded respondednts' find their lives.\" The operational definition is a participant's score on the Perceived Stress Scale."
   ]
  },
  {
   "cell_type": "markdown",
   "metadata": {
    "application/vnd.databricks.v1+cell": {
     "cellMetadata": {},
     "inputWidgets": {},
     "nuid": "87a6efe1-011f-4f7a-9532-ca306974f38a",
     "showTitle": false,
     "title": ""
    },
    "deletable": false,
    "editable": false,
    "nbgrader": {
     "cell_type": "markdown",
     "checksum": "e63135b500ce2da7af36d86e9877a713",
     "grade": false,
     "grade_id": "cell-c649ccda236e8b1f",
     "locked": true,
     "schema_version": 3,
     "solution": false,
     "task": false
    }
   },
   "source": [
    "10.\tTo check their manipulation, the researchers also measured participants’ engagement with the Headspace app over the 30-day course of the study. Participants were asked to report the number of days they had used the application. What type and scale of data did the researchers get from this measure of engagement? Save your answer to `mc.10` **(1 point)**\n",
    "\n",
    "    a.\tSelf-report, ratio\n",
    "\n",
    "    b.\tSelf-report, interval\n",
    "\n",
    "    c.\tBehavioral, ratio\n",
    "\n",
    "    d.\tBehavioral, interval"
   ]
  },
  {
   "cell_type": "code",
   "execution_count": 0,
   "metadata": {
    "application/vnd.databricks.v1+cell": {
     "cellMetadata": {},
     "inputWidgets": {},
     "nuid": "aca80024-c1f8-4e8b-884d-f7b2e69ccdbc",
     "showTitle": false,
     "title": ""
    },
    "deletable": false,
    "nbgrader": {
     "cell_type": "code",
     "checksum": "d00ef790387e21357d37943ea7885f8e",
     "grade": false,
     "grade_id": "cell-a08025a19a181276",
     "locked": false,
     "schema_version": 3,
     "solution": true,
     "task": false
    }
   },
   "outputs": [],
   "source": [
    "mc.10 <- \"a\""
   ]
  },
  {
   "cell_type": "code",
   "execution_count": 0,
   "metadata": {
    "application/vnd.databricks.v1+cell": {
     "cellMetadata": {},
     "inputWidgets": {},
     "nuid": "4a742461-b678-4173-8703-bd2dd651f07f",
     "showTitle": false,
     "title": ""
    },
    "deletable": false,
    "editable": false,
    "nbgrader": {
     "cell_type": "code",
     "checksum": "1c05a7bb21c53ddb305241de7a369fe0",
     "grade": true,
     "grade_id": "cell-85bf5ca3a1b25cf3",
     "locked": true,
     "points": 1,
     "schema_version": 3,
     "solution": false,
     "task": false
    }
   },
   "outputs": [],
   "source": [
    "if (test_that(\"testMC10.1\", {\n",
    "    expect_true(mc.10 %in% c(\"a\", \"b\", \"c\", \"d\"))\n",
    "})) {\n",
    "    print(\"Your answer is formatted properly!\")\n",
    "} else {\n",
    "    stop(\"mc.10 should be one of a, b, c, d\")\n",
    "}\n"
   ]
  },
  {
   "cell_type": "markdown",
   "metadata": {
    "application/vnd.databricks.v1+cell": {
     "cellMetadata": {},
     "inputWidgets": {},
     "nuid": "4c550578-a2e8-4c46-b844-a0b58931f3d7",
     "showTitle": false,
     "title": ""
    },
    "deletable": false,
    "editable": false,
    "nbgrader": {
     "cell_type": "markdown",
     "checksum": "c9e2a090fef642da4a777b013daa30a5",
     "grade": false,
     "grade_id": "cell-169b3ed4d57875e0",
     "locked": true,
     "schema_version": 3,
     "solution": false,
     "task": false
    }
   },
   "source": [
    "11.\tThe authors recruited their sample by sending a mass email to a cohort of employees at a particular company in the UK, inviting them to volunteer to take part in a study on mindfulness and well-being. This email also encouraged all recipients to identify and suggest other people they knew who would be interested in participating. What type of sampling method best describes this procedure? Save your answer to `mc.11` **(1 point)**\n",
    "\n",
    "    a.\tSnowball\n",
    "\n",
    "    b.\tSimple random\n",
    "\n",
    "    c.\tSystematic\n",
    "\n",
    "    d.\tConvenience"
   ]
  },
  {
   "cell_type": "code",
   "execution_count": 0,
   "metadata": {
    "application/vnd.databricks.v1+cell": {
     "cellMetadata": {},
     "inputWidgets": {},
     "nuid": "41cfd44e-cf2e-4369-b2d7-097e716bacac",
     "showTitle": false,
     "title": ""
    },
    "deletable": false,
    "nbgrader": {
     "cell_type": "code",
     "checksum": "af57744eb3b2d2700fca620fc5022065",
     "grade": false,
     "grade_id": "cell-d0f114b888c66090",
     "locked": false,
     "schema_version": 3,
     "solution": true,
     "task": false
    }
   },
   "outputs": [],
   "source": [
    "mc.11 <- \"a\""
   ]
  },
  {
   "cell_type": "code",
   "execution_count": 0,
   "metadata": {
    "application/vnd.databricks.v1+cell": {
     "cellMetadata": {},
     "inputWidgets": {},
     "nuid": "ee948f61-51c7-4239-bd7b-e3461bd4c289",
     "showTitle": false,
     "title": ""
    },
    "deletable": false,
    "editable": false,
    "nbgrader": {
     "cell_type": "code",
     "checksum": "2f82af28903be11441b28221f81dd6c2",
     "grade": true,
     "grade_id": "cell-dd1484e96d8a49bf",
     "locked": true,
     "points": 1,
     "schema_version": 3,
     "solution": false,
     "task": false
    }
   },
   "outputs": [],
   "source": [
    "if (test_that(\"testMC11.1\", {\n",
    "    expect_true(mc.11 %in% c(\"a\", \"b\", \"c\", \"d\"))\n",
    "})) {\n",
    "    print(\"Your answer is formatted properly!\")\n",
    "} else {\n",
    "    stop(\"mc.11 should be one of a, b, c, d\")\n",
    "}\n"
   ]
  },
  {
   "cell_type": "markdown",
   "metadata": {
    "application/vnd.databricks.v1+cell": {
     "cellMetadata": {},
     "inputWidgets": {},
     "nuid": "459384ab-ae9b-44d2-b869-8f8668fa8143",
     "showTitle": false,
     "title": ""
    },
    "deletable": false,
    "editable": false,
    "nbgrader": {
     "cell_type": "markdown",
     "checksum": "fd2c61b09c6297111af9025467140b49",
     "grade": false,
     "grade_id": "cell-a0efed5b47d39df2",
     "locked": true,
     "schema_version": 3,
     "solution": false,
     "task": false
    }
   },
   "source": [
    "12.\tWhat is the sampling frame in this study? Save your answer to `mc.12` **(1 point)**\n",
    "\n",
    "    a.\tAll adults in the UK\n",
    "    \n",
    "    b.\tAll employees of the company\n",
    "    \n",
    "    c.\tThe cohort of employees at the company\n",
    "    \n",
    "    d.\tThe cohort of employees and their social contacts"
   ]
  },
  {
   "cell_type": "code",
   "execution_count": 0,
   "metadata": {
    "application/vnd.databricks.v1+cell": {
     "cellMetadata": {},
     "inputWidgets": {},
     "nuid": "69df5a10-06a3-49d1-bf54-d63c0c28386f",
     "showTitle": false,
     "title": ""
    },
    "deletable": false,
    "nbgrader": {
     "cell_type": "code",
     "checksum": "3318a7337947a2d6fecf5012d8e5d99f",
     "grade": false,
     "grade_id": "cell-3f655e54243f4e64",
     "locked": false,
     "schema_version": 3,
     "solution": true,
     "task": false
    }
   },
   "outputs": [],
   "source": [
    "mc.12 <- \"d\""
   ]
  },
  {
   "cell_type": "code",
   "execution_count": 0,
   "metadata": {
    "application/vnd.databricks.v1+cell": {
     "cellMetadata": {},
     "inputWidgets": {},
     "nuid": "25f09f69-28f4-4fb0-987f-068fff629888",
     "showTitle": false,
     "title": ""
    },
    "deletable": false,
    "editable": false,
    "nbgrader": {
     "cell_type": "code",
     "checksum": "418d1f00bde3ba6ecfab0d676dab4c18",
     "grade": true,
     "grade_id": "cell-6fcd703c807b2013",
     "locked": true,
     "points": 1,
     "schema_version": 3,
     "solution": false,
     "task": false
    }
   },
   "outputs": [],
   "source": [
    "if (test_that(\"testMC12.1\", {\n",
    "    expect_true(mc.12 %in% c(\"a\", \"b\", \"c\", \"d\"))\n",
    "})) {\n",
    "    print(\"Your answer is formatted properly!\")\n",
    "} else {\n",
    "    stop(\"mc.12 should be one of a, b, c, d\")\n",
    "}\n"
   ]
  },
  {
   "cell_type": "markdown",
   "metadata": {
    "application/vnd.databricks.v1+cell": {
     "cellMetadata": {},
     "inputWidgets": {},
     "nuid": "6d99f75f-da1c-4c32-a915-0135137781e2",
     "showTitle": false,
     "title": ""
    },
    "deletable": false,
    "editable": false,
    "nbgrader": {
     "cell_type": "markdown",
     "checksum": "946906119747352c37ae49a545ff5030",
     "grade": false,
     "grade_id": "cell-fbf5451a4a6ecc14",
     "locked": true,
     "schema_version": 3,
     "solution": false,
     "task": false
    }
   },
   "source": [
    "13.\tDo you think the authors’ sample is likely to be biased? Why or why not? **(3 points)**"
   ]
  },
  {
   "cell_type": "markdown",
   "metadata": {
    "application/vnd.databricks.v1+cell": {
     "cellMetadata": {},
     "inputWidgets": {},
     "nuid": "89da9406-8a0c-44d3-b679-c58a226efc51",
     "showTitle": false,
     "title": ""
    },
    "deletable": false,
    "nbgrader": {
     "cell_type": "markdown",
     "checksum": "9bedfd4b3e169136afe294e64565e71e",
     "grade": true,
     "grade_id": "cell-e4de49d92712873c",
     "locked": false,
     "points": 3,
     "schema_version": 3,
     "solution": true,
     "task": false
    }
   },
   "source": [
    "> Since this study uses non-probability sampling, meaning that not all adults from the general population have an equal probability of being selected, this sample is likely to be biased. The cohort of employees at the UK compmany is not representative of all adults from the general population. Also, since people are invited to participate and can choose not to, this could result in self-selection bias. For example, people might be more willing to participate if they already enjoy using headpspace or are into mindfulness practices leading to biased results which cannot be generalized."
   ]
  },
  {
   "cell_type": "markdown",
   "metadata": {
    "application/vnd.databricks.v1+cell": {
     "cellMetadata": {},
     "inputWidgets": {},
     "nuid": "78f2310b-892c-4ee0-8ade-1289911bd9ba",
     "showTitle": false,
     "title": ""
    },
    "deletable": false,
    "editable": false,
    "nbgrader": {
     "cell_type": "markdown",
     "checksum": "5577bd0595c384f6048c492f90759d7b",
     "grade": false,
     "grade_id": "cell-fd76ee71b550838f",
     "locked": true,
     "schema_version": 3,
     "solution": false,
     "task": false
    }
   },
   "source": [
    "14.\tA biased sample mostly presents a threat to which of the following. Save your answer to `mc.14` **(1 point)**\n",
    "\n",
    "    a.\tInternal validity\n",
    "    \n",
    "    b.\tExternal validity\n",
    "    \n",
    "    c.\tMeasurement validity\n",
    "    \n",
    "    d.\tMeasurement reliability"
   ]
  },
  {
   "cell_type": "code",
   "execution_count": 0,
   "metadata": {
    "application/vnd.databricks.v1+cell": {
     "cellMetadata": {},
     "inputWidgets": {},
     "nuid": "a443edfc-b7d4-44e5-aa7c-2b191b125c84",
     "showTitle": false,
     "title": ""
    },
    "deletable": false,
    "nbgrader": {
     "cell_type": "code",
     "checksum": "5092eba43bd6be3e3c0b22a885a222ad",
     "grade": false,
     "grade_id": "cell-9dc7af68ae478af1",
     "locked": false,
     "schema_version": 3,
     "solution": true,
     "task": false
    }
   },
   "outputs": [],
   "source": [
    "mc.14 <- \"b\""
   ]
  },
  {
   "cell_type": "code",
   "execution_count": 0,
   "metadata": {
    "application/vnd.databricks.v1+cell": {
     "cellMetadata": {},
     "inputWidgets": {},
     "nuid": "ccc06c79-f1ac-4bca-8da8-c7c90c32650e",
     "showTitle": false,
     "title": ""
    },
    "deletable": false,
    "editable": false,
    "nbgrader": {
     "cell_type": "code",
     "checksum": "7d13e5cf53d4973b20378dd083d58676",
     "grade": true,
     "grade_id": "cell-ee99b43178f4fd14",
     "locked": true,
     "points": 1,
     "schema_version": 3,
     "solution": false,
     "task": false
    }
   },
   "outputs": [],
   "source": [
    "if (test_that(\"testMC14.1\", {\n",
    "    expect_true(mc.14 %in% c(\"a\", \"b\", \"c\", \"d\"))\n",
    "})) {\n",
    "    print(\"Your answer is formatted properly!\")\n",
    "} else {\n",
    "    stop(\"mc.14 should be one of a, b, c, d\")\n",
    "}\n"
   ]
  },
  {
   "cell_type": "markdown",
   "metadata": {
    "application/vnd.databricks.v1+cell": {
     "cellMetadata": {},
     "inputWidgets": {},
     "nuid": "0dbd34b4-779c-4463-aa5b-c36ff3dcd4e6",
     "showTitle": false,
     "title": ""
    },
    "deletable": false,
    "editable": false,
    "nbgrader": {
     "cell_type": "markdown",
     "checksum": "73ffcb0ccd50ad95e8ee6b4786b3df4a",
     "grade": false,
     "grade_id": "cell-d35c11ad0e23bf89",
     "locked": true,
     "schema_version": 3,
     "solution": false,
     "task": false
    }
   },
   "source": [
    "15.\tWhen screening participants for the study, the researchers excluded anyone who had a history of, presence, or ongoing treatment for a psychological disorder, and anyone above a pre-determined threshold on a general health questionnaire. Their reasoning was that they wanted to exclude participants who are likely to be experiencing high levels of distress. Doing this helps to mitigate ___ in their measurement of well-being. Save your answer to `mc.15` **(1 point)**\n",
    "\n",
    "    a.\tRange effects\n",
    "\n",
    "    b.\tExperimenter bias\n",
    "\n",
    "    c.\tDemand characteristics\n",
    "\n",
    "    d.\tSocially desirable responding"
   ]
  },
  {
   "cell_type": "code",
   "execution_count": 0,
   "metadata": {
    "application/vnd.databricks.v1+cell": {
     "cellMetadata": {},
     "inputWidgets": {},
     "nuid": "45ecc2de-3191-4690-b503-bd39fe16c25d",
     "showTitle": false,
     "title": ""
    },
    "deletable": false,
    "nbgrader": {
     "cell_type": "code",
     "checksum": "e81a2d40e9f17776dd26d39cb1cc26fd",
     "grade": false,
     "grade_id": "cell-3efb866c7b18d101",
     "locked": false,
     "schema_version": 3,
     "solution": true,
     "task": false
    }
   },
   "outputs": [],
   "source": [
    "mc.15 <- \"a\""
   ]
  },
  {
   "cell_type": "code",
   "execution_count": 0,
   "metadata": {
    "application/vnd.databricks.v1+cell": {
     "cellMetadata": {},
     "inputWidgets": {},
     "nuid": "20dd7bea-04eb-4551-b591-19d2d7799205",
     "showTitle": false,
     "title": ""
    },
    "deletable": false,
    "editable": false,
    "nbgrader": {
     "cell_type": "code",
     "checksum": "f5aaa815f18d755e1ed55738a5e816b6",
     "grade": true,
     "grade_id": "cell-5d43032c76937102",
     "locked": true,
     "points": 1,
     "schema_version": 3,
     "solution": false,
     "task": false
    }
   },
   "outputs": [],
   "source": [
    "if (test_that(\"testMC15.1\", {\n",
    "    expect_true(mc.15 %in% c(\"a\", \"b\", \"c\", \"d\"))\n",
    "})) {\n",
    "    print(\"Your answer is formatted properly!\")\n",
    "} else {\n",
    "    stop(\"mc.15 should be one of a, b, c, d\")\n",
    "}\n"
   ]
  },
  {
   "cell_type": "markdown",
   "metadata": {
    "application/vnd.databricks.v1+cell": {
     "cellMetadata": {},
     "inputWidgets": {},
     "nuid": "b5428d01-d559-40b6-bdae-99f4390cfc9f",
     "showTitle": false,
     "title": ""
    },
    "deletable": false,
    "editable": false,
    "nbgrader": {
     "cell_type": "markdown",
     "checksum": "67e9d36c3bba2af179abb5e1cbfdf035",
     "grade": false,
     "grade_id": "cell-b4e8cc613ddaa8ff",
     "locked": true,
     "schema_version": 3,
     "solution": false,
     "task": false
    }
   },
   "source": [
    "16.\tBeyond the exclusion criteria above, participants met inclusion criteria if they were over 18 and had access to a smartphone. Given the information about how the sample was recruited and how volunteers were excluded, what is the best description of the population the researchers are interested in studying? Save your answer to `mc.16` **(1 point)**\n",
    "\n",
    "    a.\tAll adults in the UK\n",
    "\n",
    "    b.\tAll adults with smartphone access\n",
    "\n",
    "    c.\tAll adults without clinically-diagnosed mental distress or major life stressors\n",
    "\n",
    "    d.\tAll adults with smartphone access and without clinically-diagnosed mental distress or major life stressors"
   ]
  },
  {
   "cell_type": "code",
   "execution_count": 0,
   "metadata": {
    "application/vnd.databricks.v1+cell": {
     "cellMetadata": {},
     "inputWidgets": {},
     "nuid": "6f69c080-ad7d-4273-8386-5e7652a14999",
     "showTitle": false,
     "title": ""
    },
    "deletable": false,
    "nbgrader": {
     "cell_type": "code",
     "checksum": "cf06a2ba89f51b02e814b746b5cc272c",
     "grade": false,
     "grade_id": "cell-21393b2676d9cbc3",
     "locked": false,
     "schema_version": 3,
     "solution": true,
     "task": false
    }
   },
   "outputs": [],
   "source": [
    "mc.16 <- \"d\""
   ]
  },
  {
   "cell_type": "code",
   "execution_count": 0,
   "metadata": {
    "application/vnd.databricks.v1+cell": {
     "cellMetadata": {},
     "inputWidgets": {},
     "nuid": "1d591597-caf9-41d8-bfd2-929c3bb4a7f6",
     "showTitle": false,
     "title": ""
    },
    "deletable": false,
    "editable": false,
    "nbgrader": {
     "cell_type": "code",
     "checksum": "d27632ae0f750a80f9d4de641acffa79",
     "grade": true,
     "grade_id": "cell-4aba7379781551be",
     "locked": true,
     "points": 1,
     "schema_version": 3,
     "solution": false,
     "task": false
    }
   },
   "outputs": [],
   "source": [
    "if (test_that(\"testMC16.1\", {\n",
    "    expect_true(mc.16 %in% c(\"a\", \"b\", \"c\", \"d\"))\n",
    "})) {\n",
    "    print(\"Your answer is formatted properly!\")\n",
    "} else {\n",
    "    stop(\"mc.16 should be one of a, b, c, d\")\n",
    "}\n"
   ]
  },
  {
   "cell_type": "markdown",
   "metadata": {
    "application/vnd.databricks.v1+cell": {
     "cellMetadata": {},
     "inputWidgets": {},
     "nuid": "482664d4-073a-4ef0-a0a2-c8fabcd6e203",
     "showTitle": false,
     "title": ""
    },
    "deletable": false,
    "editable": false,
    "nbgrader": {
     "cell_type": "markdown",
     "checksum": "380b443146f0f2264a0d690c0db9fd3f",
     "grade": false,
     "grade_id": "cell-7fca8b5fcc12495a",
     "locked": true,
     "schema_version": 3,
     "solution": false,
     "task": false
    }
   },
   "source": [
    "17.\tThe authors report that they ultimately recruited 74 participants who met all inclusion and exclusion criteria, but that only 62 of them successfully completed the intervention and measurements at all 3 time points. They note that the rate of dropout was higher for the MM group (23.7%) than the WL group (8.33%), but this was not a statistically significant difference. What kind of confound could this produce in their design? Save your answer to `mc.17` **(1 point)**\n",
    "\n",
    "    a.\tOrder effects\n",
    "\n",
    "    b.\tDifferential attrition\n",
    "\n",
    "    c.\tAssignment bias\n",
    "\n",
    "    d.\tSampling bias"
   ]
  },
  {
   "cell_type": "code",
   "execution_count": 0,
   "metadata": {
    "application/vnd.databricks.v1+cell": {
     "cellMetadata": {},
     "inputWidgets": {},
     "nuid": "5078f78d-e70c-44e4-b91c-6853909daf66",
     "showTitle": false,
     "title": ""
    },
    "deletable": false,
    "nbgrader": {
     "cell_type": "code",
     "checksum": "e8fc7ec9f9f4ed5e36d5e34b0ef97803",
     "grade": false,
     "grade_id": "cell-bac443fa2f5c347f",
     "locked": false,
     "schema_version": 3,
     "solution": true,
     "task": false
    }
   },
   "outputs": [],
   "source": [
    "mc.17 <- \"b\""
   ]
  },
  {
   "cell_type": "code",
   "execution_count": 0,
   "metadata": {
    "application/vnd.databricks.v1+cell": {
     "cellMetadata": {},
     "inputWidgets": {},
     "nuid": "5a9f9a28-9c91-48a1-a7b0-e8f916ee4b05",
     "showTitle": false,
     "title": ""
    },
    "deletable": false,
    "editable": false,
    "nbgrader": {
     "cell_type": "code",
     "checksum": "2b46d8c4d34d75e320e867f1a852a20c",
     "grade": true,
     "grade_id": "cell-e4f519cb630215e7",
     "locked": true,
     "points": 1,
     "schema_version": 3,
     "solution": false,
     "task": false
    }
   },
   "outputs": [],
   "source": [
    "if (test_that(\"testMC17.1\", {\n",
    "    expect_true(mc.17 %in% c(\"a\", \"b\", \"c\", \"d\"))\n",
    "})) {\n",
    "    print(\"Your answer is formatted properly!\")\n",
    "} else {\n",
    "    stop(\"mc.17 should be one of a, b, c, d\")\n",
    "}\n"
   ]
  },
  {
   "cell_type": "markdown",
   "metadata": {
    "application/vnd.databricks.v1+cell": {
     "cellMetadata": {},
     "inputWidgets": {},
     "nuid": "879e45a9-863b-4915-b3c0-fdcd46fdcfda",
     "showTitle": false,
     "title": ""
    },
    "deletable": false,
    "editable": false,
    "nbgrader": {
     "cell_type": "markdown",
     "checksum": "750e833ed03d35f453397c30206e4f42",
     "grade": false,
     "grade_id": "cell-fb9a7ed1bbf95043",
     "locked": true,
     "schema_version": 3,
     "solution": false,
     "task": false
    }
   },
   "source": [
    "18.\tIn your own words, explain what it would mean if the results of this study were confounded by the dropout rate. What consequence would this have on the conclusions that could be drawn from the data? **(3 points)**"
   ]
  },
  {
   "cell_type": "markdown",
   "metadata": {
    "application/vnd.databricks.v1+cell": {
     "cellMetadata": {},
     "inputWidgets": {},
     "nuid": "3d368468-e3a9-4b4e-8fbb-9509b9843280",
     "showTitle": false,
     "title": ""
    },
    "deletable": false,
    "nbgrader": {
     "cell_type": "markdown",
     "checksum": "185b2570ba172f0f920e0e7eb928b98c",
     "grade": true,
     "grade_id": "cell-64c3abc22c3d4fc8",
     "locked": false,
     "points": 3,
     "schema_version": 3,
     "solution": true,
     "task": false
    }
   },
   "source": [
    "> If the results of this study were confounded by the dropout rate it could affect the validity of the results. For example, it could result in a type 2 error. Since more participants dropped out from the MM group, the researcher might conclude that there was no significant effect of Headpsace mindfulness training when there actually is."
   ]
  },
  {
   "cell_type": "markdown",
   "metadata": {
    "application/vnd.databricks.v1+cell": {
     "cellMetadata": {},
     "inputWidgets": {},
     "nuid": "ea8ad7ec-cdcd-40a8-ad8d-648301f24182",
     "showTitle": false,
     "title": ""
    },
    "deletable": false,
    "editable": false,
    "nbgrader": {
     "cell_type": "markdown",
     "checksum": "4985b943b770e9db14b089a73f2f3a4a",
     "grade": false,
     "grade_id": "cell-093305ab25049fc7",
     "locked": true,
     "schema_version": 3,
     "solution": false,
     "task": false
    }
   },
   "source": [
    "19.\tIn this study, participants were randomly assigned to the MM or WL conditions. This type of control measure is most likely to eliminate ___ confounds in their design. Save your answer to `mc.19` **(1 point)**\n",
    "\n",
    "    a.\tProgressive error\n",
    "\n",
    "    b.\tCarryover effect\n",
    "\n",
    "    c.\tIndividual differences\n",
    "\n",
    "    d.\tOrder effect"
   ]
  },
  {
   "cell_type": "code",
   "execution_count": 0,
   "metadata": {
    "application/vnd.databricks.v1+cell": {
     "cellMetadata": {},
     "inputWidgets": {},
     "nuid": "d10de737-a786-4116-ae10-e52fe0daf944",
     "showTitle": false,
     "title": ""
    },
    "deletable": false,
    "nbgrader": {
     "cell_type": "code",
     "checksum": "f3f35b0ae49a05f858622a701bbd332d",
     "grade": false,
     "grade_id": "cell-af4a76009a03a6e1",
     "locked": false,
     "schema_version": 3,
     "solution": true,
     "task": false
    }
   },
   "outputs": [],
   "source": [
    "mc.19 <- \"c\""
   ]
  },
  {
   "cell_type": "code",
   "execution_count": 0,
   "metadata": {
    "application/vnd.databricks.v1+cell": {
     "cellMetadata": {},
     "inputWidgets": {},
     "nuid": "a967b6d7-d43f-4b0f-9824-b6b845939113",
     "showTitle": false,
     "title": ""
    },
    "deletable": false,
    "editable": false,
    "nbgrader": {
     "cell_type": "code",
     "checksum": "e24bdbc9c729ad6b4b5a51ea1ca21e68",
     "grade": true,
     "grade_id": "cell-4ca6f84ad42343b4",
     "locked": true,
     "points": 1,
     "schema_version": 3,
     "solution": false,
     "task": false
    }
   },
   "outputs": [],
   "source": [
    "if (test_that(\"testMC19.1\", {\n",
    "    expect_true(mc.19 %in% c(\"a\", \"b\", \"c\", \"d\"))\n",
    "})) {\n",
    "    print(\"Your answer is formatted properly!\")\n",
    "} else {\n",
    "    stop(\"mc.19 should be one of a, b, c, d\")\n",
    "}\n"
   ]
  },
  {
   "cell_type": "markdown",
   "metadata": {
    "application/vnd.databricks.v1+cell": {
     "cellMetadata": {},
     "inputWidgets": {},
     "nuid": "c42a5a39-bb9f-4cd9-8514-dd15d07f0779",
     "showTitle": false,
     "title": ""
    },
    "deletable": false,
    "editable": false,
    "nbgrader": {
     "cell_type": "markdown",
     "checksum": "f62c2e3a74ef7d654678677135c20c92",
     "grade": false,
     "grade_id": "cell-6478db853188cdab",
     "locked": true,
     "schema_version": 3,
     "solution": false,
     "task": false
    }
   },
   "source": [
    "20.\tThe authors reported that the random assignment procedure resulted in two groups with very similar mean ages, but with unbalanced proportions of female participants (more females on the waitlist than in the intervention). Describe a different control strategy the authors could have used to reduce the chances of gender confounding their design. **(3 points)**"
   ]
  },
  {
   "cell_type": "markdown",
   "metadata": {
    "application/vnd.databricks.v1+cell": {
     "cellMetadata": {},
     "inputWidgets": {},
     "nuid": "e64d668c-5bfa-4ca0-a26e-76929dd82b2d",
     "showTitle": false,
     "title": ""
    },
    "deletable": false,
    "nbgrader": {
     "cell_type": "markdown",
     "checksum": "e15979bc1ee5833ffc8505e8d80a4e12",
     "grade": true,
     "grade_id": "cell-5c76bb8458509bcf",
     "locked": false,
     "points": 3,
     "schema_version": 3,
     "solution": true,
     "task": false
    }
   },
   "source": [
    "> The authors could have used a matched-pairs design to make sure there are an equal number of males and females in each condition. After gathering their random sample, the authors could have first split them up by gender then randomly assigned them to condition. This would decrease the chance of gender confounding the design.  "
   ]
  },
  {
   "cell_type": "markdown",
   "metadata": {
    "application/vnd.databricks.v1+cell": {
     "cellMetadata": {},
     "inputWidgets": {},
     "nuid": "98ab4c2a-b0bc-4038-a86d-99b02fda734f",
     "showTitle": false,
     "title": ""
    },
    "deletable": false,
    "editable": false,
    "nbgrader": {
     "cell_type": "markdown",
     "checksum": "86b0cfa19fbaf776a6ef126b9f11cf9b",
     "grade": false,
     "grade_id": "cell-9659f1f4e40f4fb3",
     "locked": true,
     "schema_version": 3,
     "solution": false,
     "task": false
    }
   },
   "source": [
    "21.\tWhat the authors of this study ultimately want to know is whether engaging with the Headspace app for 30 days can improve mental well-being (as measured by the scales described above). Based on what we have described in these questions, will they be able to draw that kind of causal conclusion? Why or why not? **(3 points)**"
   ]
  },
  {
   "cell_type": "markdown",
   "metadata": {
    "application/vnd.databricks.v1+cell": {
     "cellMetadata": {},
     "inputWidgets": {},
     "nuid": "526aff43-f687-4b0d-8784-d801072e3f34",
     "showTitle": false,
     "title": ""
    },
    "deletable": false,
    "nbgrader": {
     "cell_type": "markdown",
     "checksum": "3eaabc8af510069fca7e13f8f9792a71",
     "grade": true,
     "grade_id": "cell-4e2502b42177e337",
     "locked": false,
     "points": 3,
     "schema_version": 3,
     "solution": true,
     "task": false
    }
   },
   "source": [
    "> The authors will not be able to draw a causal conclusion from their study. First, due to attrition some population groups in the MM group will be underepresented in the final data. This attrition has the potential to be differential meaning the final data could be biased, and this would compromise the generalizability and external validity of the findings. Also, if gender is an explantory variable in self-guided mindfulness then the unbalanced proportions of female particpants could bias the results. Since gender and attrition have the potential to confound the results, a causal conclusion cannot be drawn."
   ]
  },
  {
   "cell_type": "markdown",
   "metadata": {
    "application/vnd.databricks.v1+cell": {
     "cellMetadata": {},
     "inputWidgets": {},
     "nuid": "634a4a0d-108e-41dc-9517-a35bbb2dec0e",
     "showTitle": false,
     "title": ""
    }
   },
   "source": [
    "# Part 2 - Cleaning and Analyzing\n",
    "\n",
    "### (63 points total)\n",
    "\n",
    "In the following sections you will clean and analyze the data from the same study you were evaluating in Part 1. There are 10 subsections to this part, addressing all of the coding skills and statistical concepts we have covered this quarter.\n",
    "\n",
    "In the questions, if we ask you to save the answer to a `variable` or `object`, it usually means we want you to save the answer to the **`variable` on its own**. If we ask you to save the answer to a `$variable`, it usually means we want you to save the answer to **a column named *variable*** in the dataframe."
   ]
  },
  {
   "cell_type": "code",
   "execution_count": 0,
   "metadata": {
    "application/vnd.databricks.v1+cell": {
     "cellMetadata": {},
     "inputWidgets": {},
     "nuid": "f802bd25-6b88-4bda-9208-fdb232e133e1",
     "showTitle": false,
     "title": ""
    },
    "deletable": false,
    "editable": false,
    "nbgrader": {
     "cell_type": "code",
     "checksum": "8b24b4a07f055e714a86507ff864d7aa",
     "grade": false,
     "grade_id": "cell-0068a266a563cd35",
     "locked": true,
     "schema_version": 3,
     "solution": false,
     "task": false
    }
   },
   "outputs": [],
   "source": [
    "#Run this code to create the dataframe where your indvidualized data will be input\n",
    "suppressMessages(suppressWarnings({\n",
    "    mindfulness = read_csv(\"https://www.ethanhurwitz.com/datasets/mindfulness_study.csv\")\n",
    "    }))"
   ]
  },
  {
   "cell_type": "markdown",
   "metadata": {
    "application/vnd.databricks.v1+cell": {
     "cellMetadata": {},
     "inputWidgets": {},
     "nuid": "9b16fcaf-b471-439f-b634-aa04c82ad70d",
     "showTitle": false,
     "title": ""
    },
    "deletable": false,
    "editable": false,
    "nbgrader": {
     "cell_type": "markdown",
     "checksum": "b673e18728183df09aaa02c62c5dc6db",
     "grade": false,
     "grade_id": "cell-a0b50bbc5c487f11",
     "locked": true,
     "schema_version": 3,
     "solution": false,
     "task": false
    },
    "scrolled": true
   },
   "source": [
    "Save your AD/SSID login (the part of your UCSD email address before the @ucsd.edu) to a variable called `ADlogin` -- This will be used to load your specific data. \n",
    "\n",
    "**NOTE**: Each student has a unique dataset to work with. All the autograding will test for the answers for *your specific dataset*, so please make sure you enter this correctly and run the cells below right below! (there will be no output, just save `ADlogin` then run them)"
   ]
  },
  {
   "cell_type": "code",
   "execution_count": 0,
   "metadata": {
    "application/vnd.databricks.v1+cell": {
     "cellMetadata": {},
     "inputWidgets": {},
     "nuid": "c5580d30-1839-4425-945a-c7718317c3bf",
     "showTitle": false,
     "title": ""
    },
    "deletable": false,
    "nbgrader": {
     "cell_type": "code",
     "checksum": "44739e9ce571ce6c659107ce8bd56d50",
     "grade": false,
     "grade_id": "cell-62b99de91facfd78",
     "locked": false,
     "schema_version": 3,
     "solution": true,
     "task": false
    }
   },
   "outputs": [],
   "source": [
    "ADlogin <- \"assingh\""
   ]
  },
  {
   "cell_type": "code",
   "execution_count": 0,
   "metadata": {
    "application/vnd.databricks.v1+cell": {
     "cellMetadata": {},
     "inputWidgets": {},
     "nuid": "df28236a-6a7b-4132-8cca-cfe6378ddf0f",
     "showTitle": false,
     "title": ""
    },
    "deletable": false,
    "editable": false,
    "nbgrader": {
     "cell_type": "code",
     "checksum": "8ee776c30373fdc51b55ed1f761b9f4f",
     "grade": true,
     "grade_id": "cell-fd674ca76f365488",
     "locked": true,
     "points": 0,
     "schema_version": 3,
     "solution": false,
     "task": false
    }
   },
   "outputs": [],
   "source": []
  },
  {
   "cell_type": "markdown",
   "metadata": {
    "application/vnd.databricks.v1+cell": {
     "cellMetadata": {},
     "inputWidgets": {},
     "nuid": "bbc1cf92-5469-4f51-9fee-277d235a0550",
     "showTitle": false,
     "title": ""
    },
    "deletable": false,
    "editable": false,
    "nbgrader": {
     "cell_type": "markdown",
     "checksum": "50ca974e0896cf6abbf48c4f3a33c1dc",
     "grade": false,
     "grade_id": "cell-4b9d9d80052de237",
     "locked": true,
     "schema_version": 3,
     "solution": false,
     "task": false
    }
   },
   "source": [
    "The data frame `mindfulness` contains data from a study comparing the effects of an app-based mindfulness intervention and a waitlist control group. This dataset contains the following variables: \n",
    "- `Group (A = app, B = waitlist)` - The group participants were randomized to\n",
    "- `Age` - Participant age\n",
    "- `Sex (1 = male, 2 = female)` - Participant's biological sex\n",
    "- `SWLS baseline` - Satisfaction with Life Scale scores at baseline\n",
    "- `SWLS day 10` - Satisfaction with Life Scale scores after 10 days of intervention\n",
    "- `SWLS day 30` - Satisfaction with Life Scale scores after 30 days of intervention\n",
    "- `PSS baseline` - Perceived Stress Scale scores at baseline\n",
    "- `PSS day 10` - Perceived Stress Scale scores after 10 days of intervention\n",
    "- `PSS day 30` - Perceived Stress Scale scores after 30 days of intervention\n",
    "- `WRS baseline` - Wagnild Resilience Scale ratings at baseline\n",
    "- `WRS day 10` - Wagnild Resilience Scale scores after 10 days of intervention\n",
    "- `WRS day 30` - Wagnild Resilience Scale scores after 30 days of intervention\n",
    "- `GHQ` - General Health Questionnaire scores (higher total scores indicate greater distress)\n",
    "- `daysUsingApp` - Number of days App was used during the intervention period"
   ]
  },
  {
   "cell_type": "markdown",
   "metadata": {
    "application/vnd.databricks.v1+cell": {
     "cellMetadata": {},
     "inputWidgets": {},
     "nuid": "797b929b-4465-444d-97db-146f7a40a1db",
     "showTitle": false,
     "title": ""
    },
    "deletable": false,
    "editable": false,
    "nbgrader": {
     "cell_type": "markdown",
     "checksum": "c5053fa4a91c956b41d499340aac96b3",
     "grade": false,
     "grade_id": "cell-98317cc47fc534df",
     "locked": true,
     "schema_version": 3,
     "solution": false,
     "task": false
    }
   },
   "source": [
    "## 1.0 - Cleaning and Prepping the Data"
   ]
  },
  {
   "cell_type": "markdown",
   "metadata": {
    "application/vnd.databricks.v1+cell": {
     "cellMetadata": {},
     "inputWidgets": {},
     "nuid": "6f505c05-f93e-4401-b9dd-355732948118",
     "showTitle": false,
     "title": ""
    },
    "deletable": false,
    "editable": false,
    "nbgrader": {
     "cell_type": "markdown",
     "checksum": "6c3d65069fbb7c699b467c8e4ba3a8db",
     "grade": false,
     "grade_id": "cell-4ef50cf278671bf5",
     "locked": true,
     "schema_version": 3,
     "solution": false,
     "task": false
    }
   },
   "source": [
    "As is often the case, the data we have is not immediately ready to be worked with. It needs a bit of cleaning and manipulation. Let's outline a few things that should be addressed:\n",
    "\n",
    "- We want to change the variable names so they are both more informative and more easy to work with.\n",
    "- We want to recode several of the variables.\n",
    "- We want to compute some convenience variables.\n",
    "\n",
    "***NOTE:*** **Please save all the changes to the dataframe `mindfulness` instead of creating a new dataframe**. But before making any changes to your data, you might want to create a copy into a new dataframe called `mindfulness_original`. We'll still use `mindfulness` as the main dataframe to work with, but keep this new one as a backup of your original data just in case!"
   ]
  },
  {
   "cell_type": "markdown",
   "metadata": {
    "application/vnd.databricks.v1+cell": {
     "cellMetadata": {},
     "inputWidgets": {},
     "nuid": "25df2604-a082-4847-9467-51ba45a54773",
     "showTitle": false,
     "title": ""
    },
    "deletable": false,
    "editable": false,
    "nbgrader": {
     "cell_type": "markdown",
     "checksum": "2e2daf616b90058f396b9902818c4d5d",
     "grade": false,
     "grade_id": "cell-ee3f160185937b5e",
     "locked": true,
     "schema_version": 3,
     "solution": false,
     "task": false
    }
   },
   "source": [
    "1.1 - Let's start with changing our variable names. For consistency in grading and comparing, let's all use the same naming convention here. Make the following changes: **(0.5 points)**\n",
    "\n",
    "   - Change `Group (A = app, B = waitlist)` to `Group`"
   ]
  },
  {
   "cell_type": "code",
   "execution_count": 0,
   "metadata": {
    "application/vnd.databricks.v1+cell": {
     "cellMetadata": {},
     "inputWidgets": {},
     "nuid": "38c27fc6-bdb0-43c8-a08e-b050d55074b2",
     "showTitle": false,
     "title": ""
    },
    "deletable": false,
    "nbgrader": {
     "cell_type": "code",
     "checksum": "36b63cb6bc4e8cc9fd349b1e287c5053",
     "grade": false,
     "grade_id": "cell-574bf1c879b078e1",
     "locked": false,
     "schema_version": 3,
     "solution": true,
     "task": false
    }
   },
   "outputs": [],
   "source": [
    "mindfulness_original <- data.frame(mindfulness)\n",
    "\n",
    "mindfulness <- mindfulness %>%\n",
    "  rename(\"Group\" = `Group (A = app, B = waitlist)`)\n"
   ]
  },
  {
   "cell_type": "code",
   "execution_count": 0,
   "metadata": {
    "application/vnd.databricks.v1+cell": {
     "cellMetadata": {},
     "inputWidgets": {},
     "nuid": "e40a576d-2bc7-41fd-98ea-c128613faad4",
     "showTitle": false,
     "title": ""
    },
    "deletable": false,
    "editable": false,
    "nbgrader": {
     "cell_type": "code",
     "checksum": "2f87804b5089ac5200739b5fc5f5f29b",
     "grade": true,
     "grade_id": "cell-42cab2f3fa9f7275",
     "locked": true,
     "points": 0.5,
     "schema_version": 3,
     "solution": false,
     "task": false
    }
   },
   "outputs": [],
   "source": []
  },
  {
   "cell_type": "markdown",
   "metadata": {
    "application/vnd.databricks.v1+cell": {
     "cellMetadata": {},
     "inputWidgets": {},
     "nuid": "0067add2-f5f4-48fa-beaa-0599b8931550",
     "showTitle": false,
     "title": ""
    },
    "deletable": false,
    "editable": false,
    "nbgrader": {
     "cell_type": "markdown",
     "checksum": "e8bef9fc6d79586a9c1a03ab615f504e",
     "grade": false,
     "grade_id": "cell-a5f3e76640d7c576",
     "locked": true,
     "schema_version": 3,
     "solution": false,
     "task": false
    }
   },
   "source": [
    "   - Change `Sex (1 = male, 2 = female)` to `Sex` **(0.5 points)**"
   ]
  },
  {
   "cell_type": "code",
   "execution_count": 0,
   "metadata": {
    "application/vnd.databricks.v1+cell": {
     "cellMetadata": {},
     "inputWidgets": {},
     "nuid": "3870a12f-f3cd-4745-9482-1b3d106d2775",
     "showTitle": false,
     "title": ""
    },
    "deletable": false,
    "nbgrader": {
     "cell_type": "code",
     "checksum": "1a1dd036c3e2386fd9bfeeee211b4bdc",
     "grade": false,
     "grade_id": "cell-26be7608e430c5dd",
     "locked": false,
     "schema_version": 3,
     "solution": true,
     "task": false
    }
   },
   "outputs": [],
   "source": [
    "mindfulness <- mindfulness %>%\n",
    "  rename(\"Sex\" = `Sex (1 = male, 2 = female)`)\n",
    "\n"
   ]
  },
  {
   "cell_type": "code",
   "execution_count": 0,
   "metadata": {
    "application/vnd.databricks.v1+cell": {
     "cellMetadata": {},
     "inputWidgets": {},
     "nuid": "f9920b14-c7e7-4b92-9cb3-18a4e5fd54d6",
     "showTitle": false,
     "title": ""
    },
    "deletable": false,
    "editable": false,
    "nbgrader": {
     "cell_type": "code",
     "checksum": "8c41d38f6f3dd96f2c90dceb56466ecb",
     "grade": true,
     "grade_id": "cell-877479a874d4bd46",
     "locked": true,
     "points": 0.5,
     "schema_version": 3,
     "solution": false,
     "task": false
    }
   },
   "outputs": [],
   "source": []
  },
  {
   "cell_type": "markdown",
   "metadata": {
    "application/vnd.databricks.v1+cell": {
     "cellMetadata": {},
     "inputWidgets": {},
     "nuid": "b7fb5fd1-662b-4166-af3b-33343212b308",
     "showTitle": false,
     "title": ""
    },
    "deletable": false,
    "editable": false,
    "nbgrader": {
     "cell_type": "markdown",
     "checksum": "a4713cb07e716181128ad8daf7073377",
     "grade": false,
     "grade_id": "cell-dd02d06dc8650517",
     "locked": true,
     "schema_version": 3,
     "solution": false,
     "task": false
    }
   },
   "source": [
    "   - For all measures taken at day 10 and day 30, remove the word \"day\". *(HINT: Be mindful of the hanging space after the word \"day\")* (E.g. `SWLS day 10` after renaming should be `SWLS 10`) **(0.5 points)**"
   ]
  },
  {
   "cell_type": "code",
   "execution_count": 0,
   "metadata": {
    "application/vnd.databricks.v1+cell": {
     "cellMetadata": {},
     "inputWidgets": {},
     "nuid": "9064e05c-2683-46d6-b74e-659d28999ba3",
     "showTitle": false,
     "title": ""
    },
    "deletable": false,
    "nbgrader": {
     "cell_type": "code",
     "checksum": "c308fc4ad371690e48f35e6db8932fbc",
     "grade": false,
     "grade_id": "cell-9351f9e3b3febc45",
     "locked": false,
     "schema_version": 3,
     "solution": true,
     "task": false
    }
   },
   "outputs": [],
   "source": [
    "colnames(mindfulness) <- gsub(\"day \",\"\",colnames(mindfulness))\n"
   ]
  },
  {
   "cell_type": "code",
   "execution_count": 0,
   "metadata": {
    "application/vnd.databricks.v1+cell": {
     "cellMetadata": {},
     "inputWidgets": {},
     "nuid": "b7092a7e-b478-4514-8dcb-2caf66446e1b",
     "showTitle": false,
     "title": ""
    },
    "deletable": false,
    "editable": false,
    "nbgrader": {
     "cell_type": "code",
     "checksum": "5375c27fe00fa769382156d7e644fc17",
     "grade": true,
     "grade_id": "cell-cc91a5ffc55ab88c",
     "locked": true,
     "points": 0.5,
     "schema_version": 3,
     "solution": false,
     "task": false
    }
   },
   "outputs": [],
   "source": []
  },
  {
   "cell_type": "markdown",
   "metadata": {
    "application/vnd.databricks.v1+cell": {
     "cellMetadata": {},
     "inputWidgets": {},
     "nuid": "d70b5b91-a6eb-4ac4-9656-b38b3bdadb6d",
     "showTitle": false,
     "title": ""
    },
    "deletable": false,
    "editable": false,
    "nbgrader": {
     "cell_type": "markdown",
     "checksum": "71466ae8bb43649bf6dd49545f312e7d",
     "grade": false,
     "grade_id": "cell-c2b8efe08c072ff5",
     "locked": true,
     "schema_version": 3,
     "solution": false,
     "task": false
    }
   },
   "source": [
    "   - For all SWLS, PSS and WRS measures, replace the space with an underscore. **(0.5 points)**"
   ]
  },
  {
   "cell_type": "code",
   "execution_count": 0,
   "metadata": {
    "application/vnd.databricks.v1+cell": {
     "cellMetadata": {},
     "inputWidgets": {},
     "nuid": "8a9fc492-27d6-44e1-a4c8-1fd3eb66c5c8",
     "showTitle": false,
     "title": ""
    },
    "deletable": false,
    "nbgrader": {
     "cell_type": "code",
     "checksum": "8b3b04ba1ef9ff133e497c017144cd50",
     "grade": false,
     "grade_id": "cell-af3aa200d0ec0912",
     "locked": false,
     "schema_version": 3,
     "solution": true,
     "task": false
    }
   },
   "outputs": [],
   "source": [
    "colnames(mindfulness) <- gsub(x = colnames(mindfulness), pattern = \" \", replacement = \"_\")  \n"
   ]
  },
  {
   "cell_type": "code",
   "execution_count": 0,
   "metadata": {
    "application/vnd.databricks.v1+cell": {
     "cellMetadata": {},
     "inputWidgets": {},
     "nuid": "3aaf00da-7d5b-4626-9f7b-61f468479594",
     "showTitle": false,
     "title": ""
    },
    "deletable": false,
    "editable": false,
    "nbgrader": {
     "cell_type": "code",
     "checksum": "dc2c43d4547a0b60279162b49a01aee6",
     "grade": true,
     "grade_id": "cell-cfe316787dc87420",
     "locked": true,
     "points": 0.5,
     "schema_version": 3,
     "solution": false,
     "task": false
    }
   },
   "outputs": [],
   "source": []
  },
  {
   "cell_type": "markdown",
   "metadata": {
    "application/vnd.databricks.v1+cell": {
     "cellMetadata": {},
     "inputWidgets": {},
     "nuid": "b86bc102-302c-4706-811e-9c030f2302d2",
     "showTitle": false,
     "title": ""
    },
    "deletable": false,
    "editable": false,
    "nbgrader": {
     "cell_type": "markdown",
     "checksum": "f88bb11721b4f2c974e32d85e23f0bcf",
     "grade": false,
     "grade_id": "cell-e956685db36ef697",
     "locked": true,
     "schema_version": 3,
     "solution": false,
     "task": false
    }
   },
   "source": [
    "1.2 - Next, let's recode some variables.\n",
    "\n",
    "- Change `Group` to a factor with values based on the coding convention specified in the original variable name. **(0.5 points)**"
   ]
  },
  {
   "cell_type": "code",
   "execution_count": 0,
   "metadata": {
    "application/vnd.databricks.v1+cell": {
     "cellMetadata": {},
     "inputWidgets": {},
     "nuid": "8db768b4-a0dd-4a50-a22e-dda2cf1bb152",
     "showTitle": false,
     "title": ""
    },
    "deletable": false,
    "nbgrader": {
     "cell_type": "code",
     "checksum": "afda19b778c9a1beedbed559d373dcca",
     "grade": false,
     "grade_id": "cell-dd29d03bf0ddcb50",
     "locked": false,
     "schema_version": 3,
     "solution": true,
     "task": false
    }
   },
   "outputs": [],
   "source": [
    "mindfulness$Group <- as.factor(mindfulness$Group)\n",
    "\n",
    "mindfulness <- mindfulness %>%\n",
    "mutate(Group = recode(Group, \"A\" = \"app\", \"B\" = \"waitlist\")) \n"
   ]
  },
  {
   "cell_type": "code",
   "execution_count": 0,
   "metadata": {
    "application/vnd.databricks.v1+cell": {
     "cellMetadata": {},
     "inputWidgets": {},
     "nuid": "dc2beda5-c7d3-4fe7-a4b1-7b879c194153",
     "showTitle": false,
     "title": ""
    },
    "deletable": false,
    "editable": false,
    "nbgrader": {
     "cell_type": "code",
     "checksum": "e51f6ced523bc4e90e86120ffb8647f9",
     "grade": true,
     "grade_id": "cell-da27f839188c87a1",
     "locked": true,
     "points": 0.5,
     "schema_version": 3,
     "solution": false,
     "task": false
    }
   },
   "outputs": [],
   "source": []
  },
  {
   "cell_type": "markdown",
   "metadata": {
    "application/vnd.databricks.v1+cell": {
     "cellMetadata": {},
     "inputWidgets": {},
     "nuid": "d98debaa-118a-4d0c-9a53-05d50f42db24",
     "showTitle": false,
     "title": ""
    },
    "deletable": false,
    "editable": false,
    "nbgrader": {
     "cell_type": "markdown",
     "checksum": "b2aa36195c7844461057698785d0bc9e",
     "grade": false,
     "grade_id": "cell-a0cf1e6b3ac4af08",
     "locked": true,
     "schema_version": 3,
     "solution": false,
     "task": false
    }
   },
   "source": [
    "- Change `Sex` to a factor with values based on the coding convention specified in the original variable name. **(0.5 points)**"
   ]
  },
  {
   "cell_type": "code",
   "execution_count": 0,
   "metadata": {
    "application/vnd.databricks.v1+cell": {
     "cellMetadata": {},
     "inputWidgets": {},
     "nuid": "671204df-0fc0-4ca4-b86d-6a77e39ebb4d",
     "showTitle": false,
     "title": ""
    },
    "deletable": false,
    "nbgrader": {
     "cell_type": "code",
     "checksum": "a1263be130e57afde53751077dd6d6ac",
     "grade": false,
     "grade_id": "cell-6d835a2492121a3b",
     "locked": false,
     "schema_version": 3,
     "solution": true,
     "task": false
    }
   },
   "outputs": [],
   "source": [
    "mindfulness$Sex <- as.factor(mindfulness$Sex)\n",
    "\n",
    "mindfulness <- mindfulness %>%\n",
    "mutate(Sex = recode(Sex, \"1\" = \"male\", \"2\" = \"female\")) \n"
   ]
  },
  {
   "cell_type": "code",
   "execution_count": 0,
   "metadata": {
    "application/vnd.databricks.v1+cell": {
     "cellMetadata": {},
     "inputWidgets": {},
     "nuid": "0bf94569-54ea-43c3-a406-dead599650ca",
     "showTitle": false,
     "title": ""
    },
    "deletable": false,
    "editable": false,
    "nbgrader": {
     "cell_type": "code",
     "checksum": "f999307ff9cb6210c13078f6b3e73410",
     "grade": true,
     "grade_id": "cell-419f915fe84f676d",
     "locked": true,
     "points": 0.5,
     "schema_version": 3,
     "solution": false,
     "task": false
    }
   },
   "outputs": [],
   "source": []
  },
  {
   "cell_type": "markdown",
   "metadata": {
    "application/vnd.databricks.v1+cell": {
     "cellMetadata": {},
     "inputWidgets": {},
     "nuid": "fb3a22eb-f14c-4dac-ad0b-9cc92a197d86",
     "showTitle": false,
     "title": ""
    },
    "deletable": false,
    "editable": false,
    "nbgrader": {
     "cell_type": "markdown",
     "checksum": "a086f4e19ba3d30b695ed737e23b739c",
     "grade": false,
     "grade_id": "cell-0cecc4c8ed502c65",
     "locked": true,
     "schema_version": 3,
     "solution": false,
     "task": false
    }
   },
   "source": [
    "1.3 - Finally, let's compute some convenience variables. We are interested in the effects of some intervention. So we want to compare some scores from before the intervention to scores from after it. For our 3 main measures, let's see how scores changed from baseline to the final assessment (at 30 days). \n",
    "\n",
    "Specifically, add 3 new variables to `mindfulness` called, `$SWLS_Dif`, `$PSS_Dif`, and `$RWS_Dif` that show these differences. **(1.5 points)**"
   ]
  },
  {
   "cell_type": "code",
   "execution_count": 0,
   "metadata": {
    "application/vnd.databricks.v1+cell": {
     "cellMetadata": {},
     "inputWidgets": {},
     "nuid": "f99e3bb6-cab8-435f-8adf-2137c4a2ecad",
     "showTitle": false,
     "title": ""
    },
    "deletable": false,
    "nbgrader": {
     "cell_type": "code",
     "checksum": "39cbd0bb1e0b2ebf0a3b43f18b535d7f",
     "grade": false,
     "grade_id": "cell-197350ffaf4804f2",
     "locked": false,
     "schema_version": 3,
     "solution": true,
     "task": false
    }
   },
   "outputs": [],
   "source": [
    "mindfulness <- mindfulness %>%\n",
    "mutate(\"SWLS_Dif\" = SWLS_30 - SWLS_baseline, \n",
    "      \"PSS_Dif\" = PSS_30 - PSS_baseline, \n",
    "      \"RWS_Dif\" = RWS_30 - RWS_baseline)\n"
   ]
  },
  {
   "cell_type": "code",
   "execution_count": 0,
   "metadata": {
    "application/vnd.databricks.v1+cell": {
     "cellMetadata": {},
     "inputWidgets": {},
     "nuid": "0259c154-6481-457b-94c1-fd84c16d757b",
     "showTitle": false,
     "title": ""
    },
    "deletable": false,
    "editable": false,
    "nbgrader": {
     "cell_type": "code",
     "checksum": "735fcb2ac39df53350d1f004cd5c2c6e",
     "grade": true,
     "grade_id": "cell-923fed631919da27",
     "locked": true,
     "points": 1.5,
     "schema_version": 3,
     "solution": false,
     "task": false
    }
   },
   "outputs": [],
   "source": []
  },
  {
   "cell_type": "markdown",
   "metadata": {
    "application/vnd.databricks.v1+cell": {
     "cellMetadata": {},
     "inputWidgets": {},
     "nuid": "490737cb-1c11-4a73-b55d-9dc20b8268c3",
     "showTitle": false,
     "title": ""
    },
    "deletable": false,
    "editable": false,
    "nbgrader": {
     "cell_type": "markdown",
     "checksum": "680db563fde0ff52759f224da0c5059f",
     "grade": false,
     "grade_id": "cell-45495a2a8a21084c",
     "locked": true,
     "schema_version": 3,
     "solution": false,
     "task": false
    }
   },
   "source": [
    "1.4 Are there any negative values in these variables? If so, is that a problem? What would negative values here mean? **(1 point)**"
   ]
  },
  {
   "cell_type": "markdown",
   "metadata": {
    "application/vnd.databricks.v1+cell": {
     "cellMetadata": {},
     "inputWidgets": {},
     "nuid": "3416b856-d0e8-4856-9d27-6450a5240313",
     "showTitle": false,
     "title": ""
    },
    "deletable": false,
    "nbgrader": {
     "cell_type": "markdown",
     "checksum": "6cce10718750ba551304890a988c15fb",
     "grade": true,
     "grade_id": "cell-2fa4eff964dc5b5b",
     "locked": false,
     "points": 1,
     "schema_version": 3,
     "solution": true,
     "task": false
    }
   },
   "source": [
    "> There are negative values in these variables. It is not a problem, it just means that some participants reported decreased psychosocial well-being after 30 days."
   ]
  },
  {
   "cell_type": "markdown",
   "metadata": {
    "application/vnd.databricks.v1+cell": {
     "cellMetadata": {},
     "inputWidgets": {},
     "nuid": "543a303b-c98e-42af-98b9-d956b6a3308a",
     "showTitle": false,
     "title": ""
    },
    "deletable": false,
    "editable": false,
    "nbgrader": {
     "cell_type": "markdown",
     "checksum": "c7b7ed18e28c024fcfaa26bf29168871",
     "grade": false,
     "grade_id": "cell-cae2894cf3f191a8",
     "locked": true,
     "schema_version": 3,
     "solution": false,
     "task": false
    }
   },
   "source": [
    "## 2.0 - Summary Stats and Demographics\n",
    "\n",
    "Let's take a moment to consider our participants here. Who is this sample comprised of? Let's summarize some basic information about the participants who comprise this sample."
   ]
  },
  {
   "cell_type": "markdown",
   "metadata": {
    "application/vnd.databricks.v1+cell": {
     "cellMetadata": {},
     "inputWidgets": {},
     "nuid": "06b38def-f23e-479e-9ace-00ae5bec026f",
     "showTitle": false,
     "title": ""
    },
    "deletable": false,
    "editable": false,
    "nbgrader": {
     "cell_type": "markdown",
     "checksum": "5f1a1ef0271ec518549666dfc7489823",
     "grade": false,
     "grade_id": "cell-e85fa798b3e1f532",
     "locked": true,
     "schema_version": 3,
     "solution": false,
     "task": false
    }
   },
   "source": [
    "2.1 - How many participants are in this study? Save this value to an object called `nParticipants`. **(0.5 points)**"
   ]
  },
  {
   "cell_type": "code",
   "execution_count": 0,
   "metadata": {
    "application/vnd.databricks.v1+cell": {
     "cellMetadata": {},
     "inputWidgets": {},
     "nuid": "f1dcde95-3012-4cea-ad51-af5bb3572b34",
     "showTitle": false,
     "title": ""
    },
    "deletable": false,
    "nbgrader": {
     "cell_type": "code",
     "checksum": "e1829fa13ceb6e83cfad721244ebef33",
     "grade": false,
     "grade_id": "cell-b8a9eeff74d96fec",
     "locked": false,
     "schema_version": 3,
     "solution": true,
     "task": false
    }
   },
   "outputs": [],
   "source": [
    "nParticipants = count(mindfulness) %>%\n",
    "pull()\n"
   ]
  },
  {
   "cell_type": "code",
   "execution_count": 0,
   "metadata": {
    "application/vnd.databricks.v1+cell": {
     "cellMetadata": {},
     "inputWidgets": {},
     "nuid": "d6690862-baf4-45e5-8bbd-7f5083bf4fe6",
     "showTitle": false,
     "title": ""
    },
    "deletable": false,
    "editable": false,
    "nbgrader": {
     "cell_type": "code",
     "checksum": "cb916c539d9848820e70328dcd49f425",
     "grade": true,
     "grade_id": "cell-e13b7f9e5922f38b",
     "locked": true,
     "points": 0.5,
     "schema_version": 3,
     "solution": false,
     "task": false
    }
   },
   "outputs": [],
   "source": []
  },
  {
   "cell_type": "markdown",
   "metadata": {
    "application/vnd.databricks.v1+cell": {
     "cellMetadata": {},
     "inputWidgets": {},
     "nuid": "ce5ab033-0b48-443d-b3c8-3c73de8e6b36",
     "showTitle": false,
     "title": ""
    },
    "deletable": false,
    "editable": false,
    "nbgrader": {
     "cell_type": "markdown",
     "checksum": "53bf21f2acc9fa0b9db5a7f8d4dccab6",
     "grade": false,
     "grade_id": "cell-ac822f86cce2db7f",
     "locked": true,
     "schema_version": 3,
     "solution": false,
     "task": false
    }
   },
   "source": [
    "2.2 - What about for each group? Find the number of participants in each group and save the values to objects called `nParticipantsApp` and `nParticipantsWaitlist`. **(0.5 points)**"
   ]
  },
  {
   "cell_type": "code",
   "execution_count": 0,
   "metadata": {
    "application/vnd.databricks.v1+cell": {
     "cellMetadata": {},
     "inputWidgets": {},
     "nuid": "dc0a4c10-0f91-419f-90e8-5a59d9e47610",
     "showTitle": false,
     "title": ""
    },
    "deletable": false,
    "nbgrader": {
     "cell_type": "code",
     "checksum": "45af907bc0c06291b2258ea899770bfd",
     "grade": false,
     "grade_id": "cell-dde3738f9d813716",
     "locked": false,
     "schema_version": 3,
     "solution": true,
     "task": false
    }
   },
   "outputs": [],
   "source": [
    "nParticipantsApp <- (count(filter(mindfulness, Group == \"app\"))) %>%\n",
    "pull() %>%\n",
    "as.numeric()\n",
    "\n",
    "nParticipantsWaitlist <- (count(filter(mindfulness, Group == \"waitlist\"))) %>%\n",
    "pull() %>%\n",
    "as.numeric()\n",
    "\n",
    "nParticipantsApp\n",
    "nParticipantsWaitlist"
   ]
  },
  {
   "cell_type": "code",
   "execution_count": 0,
   "metadata": {
    "application/vnd.databricks.v1+cell": {
     "cellMetadata": {},
     "inputWidgets": {},
     "nuid": "99318973-7248-4303-8e62-0e53dc0b5aa4",
     "showTitle": false,
     "title": ""
    },
    "deletable": false,
    "editable": false,
    "nbgrader": {
     "cell_type": "code",
     "checksum": "1886fb412c5f5b78e8fed956099d6be2",
     "grade": true,
     "grade_id": "cell-697fbd8ec0b02db9",
     "locked": true,
     "points": 0.5,
     "schema_version": 3,
     "solution": false,
     "task": false
    }
   },
   "outputs": [],
   "source": []
  },
  {
   "cell_type": "markdown",
   "metadata": {
    "application/vnd.databricks.v1+cell": {
     "cellMetadata": {},
     "inputWidgets": {},
     "nuid": "c3817000-5a50-4e22-a484-5e5e2dde5aaf",
     "showTitle": false,
     "title": ""
    },
    "deletable": false,
    "editable": false,
    "nbgrader": {
     "cell_type": "markdown",
     "checksum": "530e04b125567c716657ce7047de5d53",
     "grade": false,
     "grade_id": "cell-ebf2b8b279c38543",
     "locked": true,
     "schema_version": 3,
     "solution": false,
     "task": false
    }
   },
   "source": [
    "2.3 - What is the average age of participants in this study? In each group? Round these values to 2 decimal places and save to objects called: `mAge`, `mAgeApp`, and `mAgeWaitlist`. **(0.75 points)**"
   ]
  },
  {
   "cell_type": "code",
   "execution_count": 0,
   "metadata": {
    "application/vnd.databricks.v1+cell": {
     "cellMetadata": {},
     "inputWidgets": {},
     "nuid": "a0b6cff1-c142-4309-b9fc-99f8e22f5a57",
     "showTitle": false,
     "title": ""
    },
    "deletable": false,
    "nbgrader": {
     "cell_type": "code",
     "checksum": "78c6e1af74d8de6a76547e7d9c4a059b",
     "grade": false,
     "grade_id": "cell-57ccec72009768c4",
     "locked": false,
     "schema_version": 3,
     "solution": true,
     "task": false
    }
   },
   "outputs": [],
   "source": [
    "#mAge\n",
    "mAge <- mean(mindfulness$Age)\n",
    "mAge <- format(round(mAge, 2), nsmall = 2) %>%\n",
    "as.numeric()\n",
    "\n",
    "#mAgeApp\n",
    "app.Age <- mindfulness %>%\n",
    "subset(Group == \"app\", select=c(Age)) \n",
    "mAgeApp <- mean(app.Age$Age)\n",
    "\n",
    "mAgeApp <- format(round(mAgeApp, 2), nsmall = 2) %>%\n",
    "as.numeric()\n",
    "\n",
    "#mAgeWaitlist\n",
    "waitlist.Age <- mindfulness %>%\n",
    "subset(Group == \"waitlist\", select=c(Age)) \n",
    "mAgeWaitlist <- mean(waitlist.Age$Age)\n",
    "\n",
    "mAgeWaitlist <- format(round(mAgeWaitlist, 2), nsmall = 2) %>%\n",
    "as.numeric()\n"
   ]
  },
  {
   "cell_type": "code",
   "execution_count": 0,
   "metadata": {
    "application/vnd.databricks.v1+cell": {
     "cellMetadata": {},
     "inputWidgets": {},
     "nuid": "612306fa-db19-4658-8ea1-7d684288f808",
     "showTitle": false,
     "title": ""
    },
    "deletable": false,
    "editable": false,
    "nbgrader": {
     "cell_type": "code",
     "checksum": "38f39a82dc4e647bb34b981bd520207b",
     "grade": true,
     "grade_id": "cell-63dd269e51dc3f8a",
     "locked": true,
     "points": 0.75,
     "schema_version": 3,
     "solution": false,
     "task": false
    }
   },
   "outputs": [],
   "source": []
  },
  {
   "cell_type": "markdown",
   "metadata": {
    "application/vnd.databricks.v1+cell": {
     "cellMetadata": {},
     "inputWidgets": {},
     "nuid": "95167e26-9f69-456a-8d98-5ab83b1121ab",
     "showTitle": false,
     "title": ""
    },
    "deletable": false,
    "editable": false,
    "nbgrader": {
     "cell_type": "markdown",
     "checksum": "fde07e6daf58053eed102ffeb974b6c3",
     "grade": false,
     "grade_id": "cell-5530659a5e9bfc14",
     "locked": true,
     "schema_version": 3,
     "solution": false,
     "task": false
    }
   },
   "source": [
    "2.4 - What about the distribution of sex? How many of these participants were female? In each group? Save these values to objects called `nFemales`, `nFemalesApp`, and `nFemalesWaitlist`. **(0.75 points)**"
   ]
  },
  {
   "cell_type": "code",
   "execution_count": 0,
   "metadata": {
    "application/vnd.databricks.v1+cell": {
     "cellMetadata": {},
     "inputWidgets": {},
     "nuid": "9678379d-0198-4db1-ab61-57983fc1277b",
     "showTitle": false,
     "title": ""
    },
    "deletable": false,
    "nbgrader": {
     "cell_type": "code",
     "checksum": "d2f01041b6fe984a0db006c81ca87076",
     "grade": false,
     "grade_id": "cell-d936cba733e4fd9f",
     "locked": false,
     "schema_version": 3,
     "solution": true,
     "task": false
    }
   },
   "outputs": [],
   "source": [
    "#nFemales\n",
    "nFemales <- mindfulness %>%\n",
    "tally(Sex == \"female\") %>%\n",
    "pull()\n",
    "\n",
    "#nFemalesApp\n",
    "app.female <- mindfulness %>%\n",
    "subset(Group == \"app\", select=c(Sex)) \n",
    "nFemalesApp <- count(app.female$Sex) %>%\n",
    "as.numeric()\n",
    "\n",
    "#nFemalesWaitlist\n",
    "waitlist.female <- mindfulness %>%\n",
    "subset(Group == \"waitlist\", select=c(Sex)) \n",
    "nFemalesWaitlist <- count(waitlist.female$Sex) %>%\n",
    "as.numeric()\n"
   ]
  },
  {
   "cell_type": "code",
   "execution_count": 0,
   "metadata": {
    "application/vnd.databricks.v1+cell": {
     "cellMetadata": {},
     "inputWidgets": {},
     "nuid": "7b710330-a00c-43d0-b9da-4622979060f1",
     "showTitle": false,
     "title": ""
    },
    "deletable": false,
    "editable": false,
    "nbgrader": {
     "cell_type": "code",
     "checksum": "dcafdca7764c23178da1dbf28d61d85a",
     "grade": true,
     "grade_id": "cell-8377a8b7a6e001c6",
     "locked": true,
     "points": 0.75,
     "schema_version": 3,
     "solution": false,
     "task": false
    }
   },
   "outputs": [],
   "source": []
  },
  {
   "cell_type": "markdown",
   "metadata": {
    "application/vnd.databricks.v1+cell": {
     "cellMetadata": {},
     "inputWidgets": {},
     "nuid": "3a632591-20f6-4f99-b253-2a0672709808",
     "showTitle": false,
     "title": ""
    },
    "deletable": false,
    "editable": false,
    "nbgrader": {
     "cell_type": "markdown",
     "checksum": "ee05cbd459043cd2cd5288677788bb2c",
     "grade": false,
     "grade_id": "cell-d18b688ad6eb42eb",
     "locked": true,
     "schema_version": 3,
     "solution": false,
     "task": false
    }
   },
   "source": [
    "2.5 - Do our groups have different scores at baseline? Find the average score on our 3 measures for each group. Do these values seem substantially different to you (no statistical analysis needed)? Would it be a problem if they were? Why or why not? **(2 points)**"
   ]
  },
  {
   "cell_type": "code",
   "execution_count": 0,
   "metadata": {
    "application/vnd.databricks.v1+cell": {
     "cellMetadata": {},
     "inputWidgets": {},
     "nuid": "409f07ff-cdd7-4f08-941f-5b7b0f6e8f0f",
     "showTitle": false,
     "title": ""
    }
   },
   "outputs": [],
   "source": [
    "#APP\n",
    "#m.app.SWLS_baseline\n",
    "app.SWLS_baseline <- mindfulness %>%\n",
    "subset(Group == \"app\", select=c(SWLS_baseline)) \n",
    "m.app.SWLS_baseline <- mean(app.SWLS_baseline$SWLS_baseline)\n",
    "m.app.SWLS_baseline\n",
    "\n",
    "#m.app.PSS_baseline\n",
    "app.PSS_baseline <- mindfulness %>%\n",
    "subset(Group == \"app\", select=c(PSS_baseline)) \n",
    "m.app.PSS_baseline <- mean(app.PSS_baseline$PSS_baseline)\n",
    "m.app.PSS_baseline\n",
    "\n",
    "#m.app.RWS_baseline\n",
    "app.RWS_baseline <- mindfulness %>%\n",
    "subset(Group == \"app\", select=c(RWS_baseline)) \n",
    "m.app.RWS_baseline <- mean(app.RWS_baseline$RWS_baseline)\n",
    "m.app.RWS_baseline\n",
    "\n",
    "#WAITLIST\n",
    "#m.app.SWLS_baseline\n",
    "waitlist.SWLS_baseline <- mindfulness %>%\n",
    "subset(Group == \"waitlist\", select=c(SWLS_baseline)) \n",
    "m.waitlist.SWLS_baseline <- mean(waitlist.SWLS_baseline$SWLS_baseline)\n",
    "m.waitlist.SWLS_baseline\n",
    "\n",
    "#m.app.PSS_baseline\n",
    "waitlist.PSS_baseline <- mindfulness %>%\n",
    "subset(Group == \"waitlist\", select=c(PSS_baseline)) \n",
    "m.waitlist.PSS_baseline <- mean(waitlist.PSS_baseline$PSS_baseline)\n",
    "m.waitlist.PSS_baseline\n",
    "\n",
    "#m.app.RWS_baseline\n",
    "waitlist.RWS_baseline <- mindfulness %>%\n",
    "subset(Group == \"waitlist\", select=c(RWS_baseline)) \n",
    "m.waitlist.RWS_baseline <- mean(waitlist.RWS_baseline$RWS_baseline)\n",
    "m.waitlist.RWS_baseline\n"
   ]
  },
  {
   "cell_type": "markdown",
   "metadata": {
    "application/vnd.databricks.v1+cell": {
     "cellMetadata": {},
     "inputWidgets": {},
     "nuid": "c94e5d76-33be-4c8a-8872-1641d8420a45",
     "showTitle": false,
     "title": ""
    },
    "deletable": false,
    "nbgrader": {
     "cell_type": "markdown",
     "checksum": "777201ee87bcdef6f5892746e93e057f",
     "grade": true,
     "grade_id": "cell-94f6914667835a95",
     "locked": false,
     "points": 2,
     "schema_version": 3,
     "solution": true,
     "task": false
    }
   },
   "source": [
    "> Both groups had very similar baseline scores for all three measures. For SWLS it was 24.17 (app) and 24.55 (waitlist). For PSS it was 16.90 (app) and 17.73 (waitlist). For RWS it was 73.69 (app) and 75 (waitlist). If these scores were substantially different it would not be an issue when it comes to data analysis, because you could still calculate the difference between baseline and 10 or 30 day scores. However, the scores being different can create a confound. If the scores for the experimental group are already very high compared to the control group it could limit the effect of Headspace on mindfulness. This would limit the generalizability of the results and how much comparison can be done between the two groups, because the app's effect has not been tested on people at average levels psychosocial well-being."
   ]
  },
  {
   "cell_type": "markdown",
   "metadata": {
    "application/vnd.databricks.v1+cell": {
     "cellMetadata": {},
     "inputWidgets": {},
     "nuid": "48944a14-7e74-4895-8693-1e6a993b76ab",
     "showTitle": false,
     "title": ""
    },
    "cell_id": "00008-304d20cc-9f64-451b-84ad-15cfb5f68814",
    "deletable": false,
    "editable": false,
    "nbgrader": {
     "cell_type": "markdown",
     "checksum": "316248e3d3d2fabaec51b9c3eda0c46b",
     "grade": false,
     "grade_id": "cell-a97294c4458442f0",
     "locked": true,
     "schema_version": 3,
     "solution": false,
     "task": false
    },
    "tags": []
   },
   "source": [
    "## 3.0 - Explore Variation"
   ]
  },
  {
   "cell_type": "markdown",
   "metadata": {
    "application/vnd.databricks.v1+cell": {
     "cellMetadata": {},
     "inputWidgets": {},
     "nuid": "4d87007f-19de-4d8d-bcd0-fbe495b6f83b",
     "showTitle": false,
     "title": ""
    },
    "cell_id": "890c467f-f3ef-46bb-9759-5dee3b7a96a7",
    "deletable": false,
    "editable": false,
    "nbgrader": {
     "cell_type": "markdown",
     "checksum": "c4c55ce3d9c2589c0044a6d2cc0de986",
     "grade": false,
     "grade_id": "cell-df935078c4968f30",
     "locked": true,
     "schema_version": 3,
     "solution": false,
     "task": false
    }
   },
   "source": [
    "3.1 - Let's start by exploring variation in `PSS_Dif`, one of the main outcome measures of this study. Create a histogram that would help us do this. **(0.5 points)**"
   ]
  },
  {
   "cell_type": "code",
   "execution_count": 0,
   "metadata": {
    "application/vnd.databricks.v1+cell": {
     "cellMetadata": {},
     "inputWidgets": {},
     "nuid": "012dd27b-0d49-4495-a3a2-d7a6f3e5bf7c",
     "showTitle": false,
     "title": ""
    },
    "deletable": false,
    "nbgrader": {
     "cell_type": "code",
     "checksum": "0cc320840d280040a4da847600365f51",
     "grade": true,
     "grade_id": "cell-f87fda6608151a31",
     "locked": false,
     "points": 0.5,
     "schema_version": 3,
     "solution": true,
     "task": false
    }
   },
   "outputs": [],
   "source": [
    "mindfulness %>%\n",
    "ggplot(aes(x = PSS_Dif)) +\n",
    "geom_histogram(bins = 10, color = \"black\", fill = \"palevioletred1\") "
   ]
  },
  {
   "cell_type": "markdown",
   "metadata": {
    "application/vnd.databricks.v1+cell": {
     "cellMetadata": {},
     "inputWidgets": {},
     "nuid": "b6d2e991-dd30-4ac6-8f3f-45b803c15ab4",
     "showTitle": false,
     "title": ""
    },
    "cell_id": "7488160a-1b78-4796-a5e2-a4bdbfb6165d",
    "deletable": false,
    "editable": false,
    "nbgrader": {
     "cell_type": "markdown",
     "checksum": "6cfdb8ed43a9525b5612e9d56ab5378c",
     "grade": false,
     "grade_id": "cell-367c6f0e1da7e2cb",
     "locked": true,
     "schema_version": 3,
     "solution": false,
     "task": false
    }
   },
   "source": [
    "3.2 - Find one of the tallest bars and the lowest bars in the histogram. What does it mean for a bar to be really low, or really tall in this histogram? **(0.5 points)**"
   ]
  },
  {
   "cell_type": "markdown",
   "metadata": {
    "application/vnd.databricks.v1+cell": {
     "cellMetadata": {},
     "inputWidgets": {},
     "nuid": "346e1ae6-640d-4657-9fd7-b89be27598c4",
     "showTitle": false,
     "title": ""
    },
    "deletable": false,
    "nbgrader": {
     "cell_type": "markdown",
     "checksum": "ed20160cc3506401e05948cac956fdf6",
     "grade": true,
     "grade_id": "cell-46639ca56429d8e7",
     "locked": false,
     "points": 0.5,
     "schema_version": 3,
     "solution": true,
     "task": false
    }
   },
   "source": [
    "> One of the tallest bars is approximately at -5 and one of the lowest bars is at -15. If a bar is realy tall it means that most people's perceived stress changed by that much over the course of the study. In this case many people saw a decrease in stress by about 5 points. If a bar is really low it means that few people's perceived stress changed by that much over the course of the study. In this case few people saw a decrease in stress by about 15 points."
   ]
  },
  {
   "cell_type": "markdown",
   "metadata": {
    "application/vnd.databricks.v1+cell": {
     "cellMetadata": {},
     "inputWidgets": {},
     "nuid": "f74fe359-2082-401e-8393-df33a0d92806",
     "showTitle": false,
     "title": ""
    },
    "cell_id": "faa13889-bd0f-4073-8640-ab3ab2b8800b",
    "deletable": false,
    "editable": false,
    "nbgrader": {
     "cell_type": "markdown",
     "checksum": "fe8c7b297aa250739498f2e0970686ab",
     "grade": false,
     "grade_id": "cell-6eb40761c33c6064",
     "locked": true,
     "schema_version": 3,
     "solution": false,
     "task": false
    }
   },
   "source": [
    "3.3 - Make a boxplot of the same variable. **(0.5 points)**"
   ]
  },
  {
   "cell_type": "code",
   "execution_count": 0,
   "metadata": {
    "application/vnd.databricks.v1+cell": {
     "cellMetadata": {},
     "inputWidgets": {},
     "nuid": "91b7a6f4-eea5-469d-acf4-b221c4905110",
     "showTitle": false,
     "title": ""
    },
    "deletable": false,
    "nbgrader": {
     "cell_type": "code",
     "checksum": "089f2f40658b6003c3bc4568ba519cd2",
     "grade": true,
     "grade_id": "cell-0cc7829640b26853",
     "locked": false,
     "points": 0.5,
     "schema_version": 3,
     "solution": true,
     "task": false
    }
   },
   "outputs": [],
   "source": [
    "mindfulness %>%\n",
    "ggplot(aes(y = PSS_Dif)) +\n",
    "geom_boxplot(color = \"black\", fill = \"palevioletred1\") "
   ]
  },
  {
   "cell_type": "markdown",
   "metadata": {
    "application/vnd.databricks.v1+cell": {
     "cellMetadata": {},
     "inputWidgets": {},
     "nuid": "f291464f-f2e7-4fb6-b93e-ff546790d903",
     "showTitle": false,
     "title": ""
    },
    "cell_id": "efaed929-19f9-44f8-b1a4-bb87c5bf9351",
    "deletable": false,
    "editable": false,
    "nbgrader": {
     "cell_type": "markdown",
     "checksum": "3f442466c082ff5f66659b822da3f155",
     "grade": false,
     "grade_id": "cell-9da39108e101a0bf",
     "locked": true,
     "schema_version": 3,
     "solution": false,
     "task": false
    }
   },
   "source": [
    "3.4 - How would you describe this distribution of `PSS_Dif` scores? What have we learned by looking at this distribution? **(1 point)**"
   ]
  },
  {
   "cell_type": "markdown",
   "metadata": {
    "application/vnd.databricks.v1+cell": {
     "cellMetadata": {},
     "inputWidgets": {},
     "nuid": "c90ded25-34a3-4457-85c5-4ba7810de4cb",
     "showTitle": false,
     "title": ""
    },
    "deletable": false,
    "nbgrader": {
     "cell_type": "markdown",
     "checksum": "3cf8554c57f615796730f8976b881326",
     "grade": true,
     "grade_id": "cell-8c0e388b66c2d9f1",
     "locked": false,
     "points": 1,
     "schema_version": 3,
     "solution": true,
     "task": false
    }
   },
   "source": [
    "> The spread of change in stress is medium with the range being between -15 and 15. Most people perceived a decrease in stress between 0 and 5, no change in perceived stress, or an increase in perceived stress between 0 and 4 points. The median change in stress perception was at a decrease of 2 points. There were three particpants who saw a very large decrease in stress compared to the other participants. This distribution shows that over the study almost half experienced an decrease in stress while the rest experienced an increase. This could be better analyzed by faceting by `Group`."
   ]
  },
  {
   "cell_type": "markdown",
   "metadata": {
    "application/vnd.databricks.v1+cell": {
     "cellMetadata": {},
     "inputWidgets": {},
     "nuid": "702876e2-0386-45d9-95f6-e498a7caad0b",
     "showTitle": false,
     "title": ""
    },
    "deletable": false,
    "editable": false,
    "nbgrader": {
     "cell_type": "markdown",
     "checksum": "e36b9ba3ace56de18415e3e4caad7ed1",
     "grade": false,
     "grade_id": "cell-401fe183125adcb9",
     "locked": true,
     "schema_version": 3,
     "solution": false,
     "task": false
    }
   },
   "source": [
    "## 4.0 - Empty Model"
   ]
  },
  {
   "cell_type": "markdown",
   "metadata": {
    "application/vnd.databricks.v1+cell": {
     "cellMetadata": {},
     "inputWidgets": {},
     "nuid": "7c8abc9e-153a-4993-8684-4c05132d8576",
     "showTitle": false,
     "title": ""
    },
    "cell_id": "00019-3421fd6a-8491-4ce0-a47b-cbd3e34db213",
    "deletable": false,
    "editable": false,
    "nbgrader": {
     "cell_type": "markdown",
     "checksum": "0e905ff70fe4516a0b9a01f76d1b17e5",
     "grade": false,
     "grade_id": "cell-9b3714806a89e908",
     "locked": true,
     "schema_version": 3,
     "solution": false,
     "task": false
    },
    "output_cleared": false,
    "tags": []
   },
   "source": [
    "4.1 - If we didn’t know anything about a participant, we might simply guess that they would have an average amount for their `PSS_Dif` score. How would we write this as a word equation? **(0.5 points)**"
   ]
  },
  {
   "cell_type": "markdown",
   "metadata": {
    "application/vnd.databricks.v1+cell": {
     "cellMetadata": {},
     "inputWidgets": {},
     "nuid": "8959a620-f8e5-4df0-8b6c-9bd1d9b9ae1d",
     "showTitle": false,
     "title": ""
    },
    "deletable": false,
    "nbgrader": {
     "cell_type": "markdown",
     "checksum": "1e332829e5936fe8bed3bf8a2e8b6c73",
     "grade": true,
     "grade_id": "cell-37141b0894a0f88e",
     "locked": false,
     "points": 0.5,
     "schema_version": 3,
     "solution": true,
     "task": false
    }
   },
   "source": [
    "> `PSS_Dif` = mean(`PSS_Dif`) + error"
   ]
  },
  {
   "cell_type": "markdown",
   "metadata": {
    "application/vnd.databricks.v1+cell": {
     "cellMetadata": {},
     "inputWidgets": {},
     "nuid": "a7f42c30-8c1f-44da-9099-c8d83c55d35c",
     "showTitle": false,
     "title": ""
    },
    "cell_id": "00020-bbbb0cc9-39db-43bf-9ac9-61ae94be4cfa",
    "deletable": false,
    "editable": false,
    "nbgrader": {
     "cell_type": "markdown",
     "checksum": "54b01c49dc2ecadb0120757336327762",
     "grade": false,
     "grade_id": "cell-26a8ce89cd6a767e",
     "locked": true,
     "schema_version": 3,
     "solution": false,
     "task": false
    },
    "output_cleared": false,
    "tags": []
   },
   "source": [
    "4.2 -  Create an empty model called `empty.model` for `PSS_Dif` in the coding cell, and write it in your word equation in the markdown cell below. **(1 point)**"
   ]
  },
  {
   "cell_type": "code",
   "execution_count": 0,
   "metadata": {
    "application/vnd.databricks.v1+cell": {
     "cellMetadata": {},
     "inputWidgets": {},
     "nuid": "8c391bbe-c27a-4b09-b83e-ce88ee5b6e6a",
     "showTitle": false,
     "title": ""
    },
    "deletable": false,
    "nbgrader": {
     "cell_type": "code",
     "checksum": "e658c6b1c2d30c3c1d060136efb12e2a",
     "grade": false,
     "grade_id": "cell-a8f35f3529f5a70f",
     "locked": false,
     "schema_version": 3,
     "solution": true,
     "task": false
    }
   },
   "outputs": [],
   "source": [
    "empty.model <- lm(PSS_Dif ~ NULL, data = mindfulness)\n",
    "empty.model"
   ]
  },
  {
   "cell_type": "code",
   "execution_count": 0,
   "metadata": {
    "application/vnd.databricks.v1+cell": {
     "cellMetadata": {},
     "inputWidgets": {},
     "nuid": "b8b92448-3f77-4ab7-a2d2-e9a5599375bc",
     "showTitle": false,
     "title": ""
    },
    "deletable": false,
    "editable": false,
    "nbgrader": {
     "cell_type": "code",
     "checksum": "06dd1c0ad0c10760a999c85c56edaff3",
     "grade": true,
     "grade_id": "cell-813503411d381695",
     "locked": true,
     "points": 0.5,
     "schema_version": 3,
     "solution": false,
     "task": false
    }
   },
   "outputs": [],
   "source": []
  },
  {
   "cell_type": "markdown",
   "metadata": {
    "application/vnd.databricks.v1+cell": {
     "cellMetadata": {},
     "inputWidgets": {},
     "nuid": "aa3af4cc-6b39-4c01-9488-e00d9fe10fc5",
     "showTitle": false,
     "title": ""
    },
    "deletable": false,
    "nbgrader": {
     "cell_type": "markdown",
     "checksum": "0fab717cd1ddc58d43f9c0d93e153173",
     "grade": true,
     "grade_id": "cell-064504cf6f291356",
     "locked": false,
     "points": 0.5,
     "schema_version": 3,
     "solution": true,
     "task": false
    }
   },
   "source": [
    "> `PSS_Dif` = -1.161 + error"
   ]
  },
  {
   "cell_type": "markdown",
   "metadata": {
    "application/vnd.databricks.v1+cell": {
     "cellMetadata": {},
     "inputWidgets": {},
     "nuid": "3292986f-1e51-4a34-a9ef-a2589bacbb3e",
     "showTitle": false,
     "title": ""
    },
    "cell_id": "c3f1a46f-ea22-4478-a704-10aa0d6fdb08",
    "deletable": false,
    "editable": false,
    "nbgrader": {
     "cell_type": "markdown",
     "checksum": "da12d0d2b3b31f419c7be11f9f0a9616",
     "grade": false,
     "grade_id": "cell-6364107a68f04b38",
     "locked": true,
     "schema_version": 3,
     "solution": false,
     "task": false
    },
    "tags": []
   },
   "source": [
    "4.3 - Add your empty model to the histogram you made of `PSS_Dif` above. **(0.5 points)**"
   ]
  },
  {
   "cell_type": "code",
   "execution_count": 0,
   "metadata": {
    "application/vnd.databricks.v1+cell": {
     "cellMetadata": {},
     "inputWidgets": {},
     "nuid": "ca1177ee-c75c-49e4-bb43-81b8f9a854d4",
     "showTitle": false,
     "title": ""
    },
    "deletable": false,
    "nbgrader": {
     "cell_type": "code",
     "checksum": "e5a7aac21fef2375ec142439ce07df11",
     "grade": true,
     "grade_id": "cell-0a867e9ba10b535e",
     "locked": false,
     "points": 0.5,
     "schema_version": 3,
     "solution": true,
     "task": false
    }
   },
   "outputs": [],
   "source": [
    "mindfulness %>%\n",
    "ggplot(aes(x = PSS_Dif)) +\n",
    "geom_histogram(bins = 10, color = \"black\", fill = \"palevioletred1\") +\n",
    "geom_vline(aes(xintercept = mean(PSS_Dif)), color = \"blue\", size = 1)"
   ]
  },
  {
   "cell_type": "markdown",
   "metadata": {
    "application/vnd.databricks.v1+cell": {
     "cellMetadata": {},
     "inputWidgets": {},
     "nuid": "57d1e294-45ad-4402-b1d6-695dbd69b424",
     "showTitle": false,
     "title": ""
    },
    "cell_id": "1e21b06c-7239-4069-b2a9-795eeb1033ba",
    "deletable": false,
    "editable": false,
    "nbgrader": {
     "cell_type": "markdown",
     "checksum": "73f372085de6b54f9582bae4a5dede1c",
     "grade": false,
     "grade_id": "cell-9bae070ca33bc7ac",
     "locked": true,
     "schema_version": 3,
     "solution": false,
     "task": false
    },
    "tags": []
   },
   "source": [
    "4.4 - What will this model predict as the `PSS_Dif` for each person? Use the `predict()` function to generate predictions for each person in the data set, and save them back to the dataset as a variable called `$PSS_Difpred`. **(1 point)**"
   ]
  },
  {
   "cell_type": "code",
   "execution_count": 0,
   "metadata": {
    "application/vnd.databricks.v1+cell": {
     "cellMetadata": {},
     "inputWidgets": {},
     "nuid": "d369a9ea-25b3-4a29-b881-19f893b2622a",
     "showTitle": false,
     "title": ""
    },
    "deletable": false,
    "nbgrader": {
     "cell_type": "code",
     "checksum": "fbd79c362332694fca99ac4cc9d57b2d",
     "grade": false,
     "grade_id": "cell-fa848d42171c71e3",
     "locked": false,
     "schema_version": 3,
     "solution": true,
     "task": false
    }
   },
   "outputs": [],
   "source": [
    "mindfulness <- mindfulness %>%\n",
    "mutate(PSS_Difpred = predict(empty.model))\n"
   ]
  },
  {
   "cell_type": "code",
   "execution_count": 0,
   "metadata": {
    "application/vnd.databricks.v1+cell": {
     "cellMetadata": {},
     "inputWidgets": {},
     "nuid": "9749b3a8-fdc5-4b29-8a02-34e0c68c9cb2",
     "showTitle": false,
     "title": ""
    },
    "deletable": false,
    "editable": false,
    "nbgrader": {
     "cell_type": "code",
     "checksum": "c66a54126f017decdfa13103de93fd96",
     "grade": true,
     "grade_id": "cell-91a80f0566f366f5",
     "locked": true,
     "points": 0.5,
     "schema_version": 3,
     "solution": false,
     "task": false
    }
   },
   "outputs": [],
   "source": []
  },
  {
   "cell_type": "markdown",
   "metadata": {
    "application/vnd.databricks.v1+cell": {
     "cellMetadata": {},
     "inputWidgets": {},
     "nuid": "88b6c3cf-9ac5-41ef-8821-6ded01819ee6",
     "showTitle": false,
     "title": ""
    },
    "deletable": false,
    "nbgrader": {
     "cell_type": "markdown",
     "checksum": "c9632083ee05541efc4b6ed94a317e1f",
     "grade": true,
     "grade_id": "cell-630e8aa80e2e781f",
     "locked": false,
     "points": 0.5,
     "schema_version": 3,
     "solution": true,
     "task": false
    }
   },
   "source": [
    "> This model will predict -1.161 for everyone because it is the mean of `PSS_Dif`."
   ]
  },
  {
   "cell_type": "markdown",
   "metadata": {
    "application/vnd.databricks.v1+cell": {
     "cellMetadata": {},
     "inputWidgets": {},
     "nuid": "c32b065e-1790-4c03-989a-1bf9dc984bdd",
     "showTitle": false,
     "title": ""
    },
    "cell_id": "cdf63f11-8921-45f4-9ce2-3cb514175707",
    "deletable": false,
    "editable": false,
    "nbgrader": {
     "cell_type": "markdown",
     "checksum": "d394b7b3fd33b817c6342b625af2f64e",
     "grade": false,
     "grade_id": "cell-27f6a835082e9098",
     "locked": true,
     "schema_version": 3,
     "solution": false,
     "task": false
    },
    "tags": []
   },
   "source": [
    "4.5 - The empty model will probably be wrong -- but it’s better than nothing. The nice thing about actually having a model is that we can quantify exactly how wrong we are! Manually compute the residuals for each score and save them to a variable in the dataframe called `$residMan`. **(0.5 points)**"
   ]
  },
  {
   "cell_type": "code",
   "execution_count": 0,
   "metadata": {
    "application/vnd.databricks.v1+cell": {
     "cellMetadata": {},
     "inputWidgets": {},
     "nuid": "15e76bf0-caa9-4ebc-9799-0c90cf60494b",
     "showTitle": false,
     "title": ""
    },
    "deletable": false,
    "nbgrader": {
     "cell_type": "code",
     "checksum": "66f36e478946107b75992799705a6347",
     "grade": false,
     "grade_id": "cell-91ef5af9d1e6b9b4",
     "locked": false,
     "schema_version": 3,
     "solution": true,
     "task": false
    }
   },
   "outputs": [],
   "source": [
    "mindfulness <- mindfulness %>%\n",
    "mutate(residMan = PSS_Dif - PSS_Difpred)\n"
   ]
  },
  {
   "cell_type": "code",
   "execution_count": 0,
   "metadata": {
    "application/vnd.databricks.v1+cell": {
     "cellMetadata": {},
     "inputWidgets": {},
     "nuid": "c51e83f7-432e-4ff5-9141-323dd71f4fbe",
     "showTitle": false,
     "title": ""
    },
    "deletable": false,
    "editable": false,
    "nbgrader": {
     "cell_type": "code",
     "checksum": "5b538b330804187c72cd77d28f50bd3c",
     "grade": true,
     "grade_id": "cell-689c4d66bf1176cd",
     "locked": true,
     "points": 0.5,
     "schema_version": 3,
     "solution": false,
     "task": false
    }
   },
   "outputs": [],
   "source": []
  },
  {
   "cell_type": "markdown",
   "metadata": {
    "application/vnd.databricks.v1+cell": {
     "cellMetadata": {},
     "inputWidgets": {},
     "nuid": "bd132688-d022-4100-aed0-fc4301e17f20",
     "showTitle": false,
     "title": ""
    },
    "deletable": false,
    "editable": false,
    "nbgrader": {
     "cell_type": "markdown",
     "checksum": "ec02dfa8a68aebab7eeb9feefcef3798",
     "grade": false,
     "grade_id": "cell-7cb7dc609f641c07",
     "locked": true,
     "schema_version": 3,
     "solution": false,
     "task": false
    }
   },
   "source": [
    "4.6 - Now use an r function to compute the residuals, and save them to `$residFun`. **(0.5 points)**"
   ]
  },
  {
   "cell_type": "code",
   "execution_count": 0,
   "metadata": {
    "application/vnd.databricks.v1+cell": {
     "cellMetadata": {},
     "inputWidgets": {},
     "nuid": "3ed5be7b-9860-4a35-a2a8-5ddfe00c5de8",
     "showTitle": false,
     "title": ""
    },
    "deletable": false,
    "nbgrader": {
     "cell_type": "code",
     "checksum": "c4c41a85e1f753c37408edc9aef471c3",
     "grade": false,
     "grade_id": "cell-f4c3f69cf41fb1f2",
     "locked": false,
     "schema_version": 3,
     "solution": true,
     "task": false
    }
   },
   "outputs": [],
   "source": [
    "mindfulness <- mindfulness %>%\n",
    "mutate(residFun = resid(empty.model))\n"
   ]
  },
  {
   "cell_type": "code",
   "execution_count": 0,
   "metadata": {
    "application/vnd.databricks.v1+cell": {
     "cellMetadata": {},
     "inputWidgets": {},
     "nuid": "a1ccd435-7b6e-4a9a-b9f1-91198f02a524",
     "showTitle": false,
     "title": ""
    },
    "deletable": false,
    "editable": false,
    "nbgrader": {
     "cell_type": "code",
     "checksum": "19aeeab4083df7ded0feffa1dc058d68",
     "grade": true,
     "grade_id": "cell-c8134df892f5ba8c",
     "locked": true,
     "points": 0.5,
     "schema_version": 3,
     "solution": false,
     "task": false
    }
   },
   "outputs": [],
   "source": []
  },
  {
   "cell_type": "markdown",
   "metadata": {
    "application/vnd.databricks.v1+cell": {
     "cellMetadata": {},
     "inputWidgets": {},
     "nuid": "ea9014ee-f29d-43c0-bd9e-a249c5adbda6",
     "showTitle": false,
     "title": ""
    },
    "deletable": false,
    "editable": false,
    "nbgrader": {
     "cell_type": "markdown",
     "checksum": "8bf9f365bc92d3837c07e1b479e80a4b",
     "grade": false,
     "grade_id": "cell-653d9daf8199eeda",
     "locked": true,
     "schema_version": 3,
     "solution": false,
     "task": false
    }
   },
   "source": [
    "Make a histogram of the residuals from the empty model. Are the errors balanced in each direction? What is the standard amount that an observation in this distribution deviates from its predicted score? **(1 point)**"
   ]
  },
  {
   "cell_type": "code",
   "execution_count": 0,
   "metadata": {
    "application/vnd.databricks.v1+cell": {
     "cellMetadata": {},
     "inputWidgets": {},
     "nuid": "62c77c99-0be4-48c2-ad55-962c9e145516",
     "showTitle": false,
     "title": ""
    },
    "deletable": false,
    "nbgrader": {
     "cell_type": "code",
     "checksum": "3b83cdeac70e54606f3ec444bbd2b069",
     "grade": true,
     "grade_id": "cell-dc208a1206fdc406",
     "locked": false,
     "points": 0.5,
     "schema_version": 3,
     "solution": true,
     "task": false
    }
   },
   "outputs": [],
   "source": [
    "mindfulness %>%\n",
    "ggplot(aes(x = residFun)) +\n",
    "geom_histogram(bins = 10, color = \"black\", fill = \"deepskyblue3\") \n"
   ]
  },
  {
   "cell_type": "markdown",
   "metadata": {
    "application/vnd.databricks.v1+cell": {
     "cellMetadata": {},
     "inputWidgets": {},
     "nuid": "1d8b3acf-88a7-452e-a954-5fe337178744",
     "showTitle": false,
     "title": ""
    },
    "deletable": false,
    "nbgrader": {
     "cell_type": "markdown",
     "checksum": "d586f15a637665bd3c962186df72d0f4",
     "grade": true,
     "grade_id": "cell-ba17aba32ec3dfed",
     "locked": false,
     "points": 0.5,
     "schema_version": 3,
     "solution": true,
     "task": false
    }
   },
   "source": [
    "> The errors are not completely balanced in each direction. More people seem to be overestimated by the mean than underestimated. The standard amount that an observation in this distribution deviates from its predicted score is slightly below 0 points."
   ]
  },
  {
   "cell_type": "markdown",
   "metadata": {
    "application/vnd.databricks.v1+cell": {
     "cellMetadata": {},
     "inputWidgets": {},
     "nuid": "02f315a5-e0d8-487e-9bc6-8cc23e53235a",
     "showTitle": false,
     "title": ""
    },
    "cell_id": "9da4100d-c7ac-4889-829a-f59d08db63b7",
    "deletable": false,
    "editable": false,
    "nbgrader": {
     "cell_type": "markdown",
     "checksum": "e6e34c408b175bdaefb94be184b8103e",
     "grade": false,
     "grade_id": "cell-627657b830cb7ff0",
     "locked": true,
     "schema_version": 3,
     "solution": false,
     "task": false
    },
    "tags": []
   },
   "source": [
    "4.7 - Explain why the histograms of `PSS_Dif` and `residFun / residMan` have the same shape but different values on the x-axis. **(1 point)**"
   ]
  },
  {
   "cell_type": "markdown",
   "metadata": {
    "application/vnd.databricks.v1+cell": {
     "cellMetadata": {},
     "inputWidgets": {},
     "nuid": "df198840-050e-474a-9578-24687c6390c3",
     "showTitle": false,
     "title": ""
    },
    "deletable": false,
    "nbgrader": {
     "cell_type": "markdown",
     "checksum": "1549b49d268ac786ed66f199c7adeebd",
     "grade": true,
     "grade_id": "cell-f5133a264504110e",
     "locked": false,
     "points": 1,
     "schema_version": 3,
     "solution": true,
     "task": false
    }
   },
   "source": [
    "- Explain why the distribution of a variable and the distribution of residuals around the empty model have the same shape. Will the x-axis always be the same too? Why or why not?”\n",
    "\n",
    "> The `PSS_Dif` and `residFun` / `residMan` distributions have a similar shape and distribution since the mean is being subtracted from every point in the distribution to get the residuals. Therefore, the residual distribution shape will be the same as the original distribution. The values on the x-axis will always be different becuase the `PSS_Dif` histogram shows the actual data points and the `residFun` / `residMan` histogram shows the difference between the actual data and the predicted value. "
   ]
  },
  {
   "cell_type": "markdown",
   "metadata": {
    "application/vnd.databricks.v1+cell": {
     "cellMetadata": {},
     "inputWidgets": {},
     "nuid": "a5976533-11fc-4a85-9562-aa7c48623e7b",
     "showTitle": false,
     "title": ""
    },
    "cell_id": "a12863a9-eae1-4055-a440-df19fa858a0f",
    "deletable": false,
    "editable": false,
    "nbgrader": {
     "cell_type": "markdown",
     "checksum": "02c05743b25462d78b1a04b2e946064c",
     "grade": false,
     "grade_id": "cell-f2bccaf83316e5b0",
     "locked": true,
     "schema_version": 3,
     "solution": false,
     "task": false
    },
    "tags": []
   },
   "source": [
    "4.8 - Are the estimates from our model considered statistics or parameters? Do you think these estimates reflect the true population distribution of `PSS_Dif`? Explain your answer. **(1 point)**"
   ]
  },
  {
   "cell_type": "markdown",
   "metadata": {
    "application/vnd.databricks.v1+cell": {
     "cellMetadata": {},
     "inputWidgets": {},
     "nuid": "1f5e7c9d-9830-42ee-acbf-a83e9ed9cd31",
     "showTitle": false,
     "title": ""
    },
    "deletable": false,
    "nbgrader": {
     "cell_type": "markdown",
     "checksum": "1aca54ec52205adeb63612639c7c42b1",
     "grade": true,
     "grade_id": "cell-b7df48a14819144a",
     "locked": false,
     "points": 1,
     "schema_version": 3,
     "solution": true,
     "task": false
    }
   },
   "source": [
    "> The estimates from the model are considered parameters since they are estimating an indiviual's score. These estimates will probably not reflect the true population distribution of `PSS_Dif` due to sampling variation."
   ]
  },
  {
   "cell_type": "markdown",
   "metadata": {
    "application/vnd.databricks.v1+cell": {
     "cellMetadata": {},
     "inputWidgets": {},
     "nuid": "b03473ae-ebea-48fc-938d-b845be40e836",
     "showTitle": false,
     "title": ""
    },
    "deletable": false,
    "editable": false,
    "nbgrader": {
     "cell_type": "markdown",
     "checksum": "01dd3273229f9d3432b39e74933daf87",
     "grade": false,
     "grade_id": "cell-1287f253982c3bb2",
     "locked": true,
     "schema_version": 3,
     "solution": false,
     "task": false
    }
   },
   "source": [
    "4.9 - Write the empty model in General Linear Model (GLM) notation. Which parts correspond to our word equation? To Data? Model? Error? **(1 point)**"
   ]
  },
  {
   "cell_type": "markdown",
   "metadata": {
    "application/vnd.databricks.v1+cell": {
     "cellMetadata": {},
     "inputWidgets": {},
     "nuid": "48f597c4-0a87-4e80-afac-2cff413318cd",
     "showTitle": false,
     "title": ""
    },
    "deletable": false,
    "nbgrader": {
     "cell_type": "markdown",
     "checksum": "f13e712b1df5e2f0b790713b63a75e47",
     "grade": true,
     "grade_id": "cell-86095ca207cbb8eb",
     "locked": false,
     "points": 1,
     "schema_version": 3,
     "solution": true,
     "task": false
    }
   },
   "source": [
    "> - $Y_i = b_0 + e_i$\n",
    "> - $Y_i$ is the data, $b_0$ is the model, and $e_i$ is the error."
   ]
  },
  {
   "cell_type": "markdown",
   "metadata": {
    "application/vnd.databricks.v1+cell": {
     "cellMetadata": {},
     "inputWidgets": {},
     "nuid": "bb39d7ef-ccae-4514-9efd-ebcedad4f996",
     "showTitle": false,
     "title": ""
    },
    "deletable": false,
    "editable": false,
    "nbgrader": {
     "cell_type": "markdown",
     "checksum": "1fa0625b788c147341e7ace1c81f6768",
     "grade": false,
     "grade_id": "cell-1bcfd458529dcbec",
     "locked": true,
     "schema_version": 3,
     "solution": false,
     "task": false
    }
   },
   "source": [
    "4.10 - Express the model in GLM notation for the first participant in the dataset. **(0.5 points)**"
   ]
  },
  {
   "cell_type": "code",
   "execution_count": 0,
   "metadata": {
    "application/vnd.databricks.v1+cell": {
     "cellMetadata": {},
     "inputWidgets": {},
     "nuid": "69e1efbf-fe56-46c8-993c-898b06a0c59d",
     "showTitle": false,
     "title": ""
    }
   },
   "outputs": [],
   "source": [
    "mindfulness[1:1, \"PSS_Dif\"]"
   ]
  },
  {
   "cell_type": "markdown",
   "metadata": {
    "application/vnd.databricks.v1+cell": {
     "cellMetadata": {},
     "inputWidgets": {},
     "nuid": "9e2f12e7-4354-46a0-8e9c-849895519930",
     "showTitle": false,
     "title": ""
    },
    "deletable": false,
    "nbgrader": {
     "cell_type": "markdown",
     "checksum": "333aad1cae4ea7c351259a4db1c2f8b2",
     "grade": true,
     "grade_id": "cell-92d74ffabbd1d503",
     "locked": false,
     "points": 0.5,
     "schema_version": 3,
     "solution": true,
     "task": false
    }
   },
   "source": [
    "> $-5 = -1.161 + (-3.839)$"
   ]
  },
  {
   "cell_type": "markdown",
   "metadata": {
    "application/vnd.databricks.v1+cell": {
     "cellMetadata": {},
     "inputWidgets": {},
     "nuid": "43d6d699-79f4-46da-bfa7-90c284ad8c83",
     "showTitle": false,
     "title": ""
    },
    "deletable": false,
    "editable": false,
    "nbgrader": {
     "cell_type": "markdown",
     "checksum": "9eab5d4e16e3e5d0eb60e7f344206586",
     "grade": false,
     "grade_id": "cell-352bf6e073ee7f46",
     "locked": true,
     "schema_version": 3,
     "solution": false,
     "task": false
    }
   },
   "source": [
    "4.11 - If we were to shuffle `PSS_Dif` and plot the data and mean, and then reshuffle and plot the data and mean again, would the mean **<u>definitely</u>** be in the same place on both graphs? Why or why not? **(1 point)**"
   ]
  },
  {
   "cell_type": "markdown",
   "metadata": {
    "application/vnd.databricks.v1+cell": {
     "cellMetadata": {},
     "inputWidgets": {},
     "nuid": "42196b72-d63b-4d0e-88a0-516435aca7b6",
     "showTitle": false,
     "title": ""
    },
    "deletable": false,
    "nbgrader": {
     "cell_type": "markdown",
     "checksum": "a8d036f348f77a5f34fac40e6478f75d",
     "grade": true,
     "grade_id": "cell-3e8b5cc6cd0662fb",
     "locked": false,
     "points": 1,
     "schema_version": 3,
     "solution": true,
     "task": false
    }
   },
   "source": [
    "> Yes, the mean would definitely be in the same place on both graphs because the `PSS_Dif` values are only being shuffled to different observations, they are not being changed to different values."
   ]
  },
  {
   "cell_type": "markdown",
   "metadata": {
    "application/vnd.databricks.v1+cell": {
     "cellMetadata": {},
     "inputWidgets": {},
     "nuid": "7f6ac342-84c1-4618-888c-88c1c8714004",
     "showTitle": false,
     "title": ""
    },
    "deletable": false,
    "editable": false,
    "nbgrader": {
     "cell_type": "markdown",
     "checksum": "fee899704d27891f8601a7ab5e5eb1a9",
     "grade": false,
     "grade_id": "cell-79cb3d8e844e9e30",
     "locked": true,
     "schema_version": 3,
     "solution": false,
     "task": false
    }
   },
   "source": [
    "4.12 - Why is the empty model a stand-in for a DGP of randomness? **(1 point)**"
   ]
  },
  {
   "cell_type": "markdown",
   "metadata": {
    "application/vnd.databricks.v1+cell": {
     "cellMetadata": {},
     "inputWidgets": {},
     "nuid": "7323afd9-75eb-4e0c-a997-8f27e9cf3523",
     "showTitle": false,
     "title": ""
    },
    "deletable": false,
    "nbgrader": {
     "cell_type": "markdown",
     "checksum": "ad7f57bc8f62f25247f1832b1c8dd83d",
     "grade": true,
     "grade_id": "cell-3c9eb4084f417d7a",
     "locked": false,
     "points": 1,
     "schema_version": 3,
     "solution": true,
     "task": false
    }
   },
   "source": [
    "> The empty model is a stand-in for a DGP of randomness because it does not take into account any variation explained by explanatory variables."
   ]
  },
  {
   "cell_type": "markdown",
   "metadata": {
    "application/vnd.databricks.v1+cell": {
     "cellMetadata": {},
     "inputWidgets": {},
     "nuid": "3ea50b47-5474-4809-befb-cf25b8bb84a7",
     "showTitle": false,
     "title": ""
    },
    "deletable": false,
    "editable": false,
    "nbgrader": {
     "cell_type": "markdown",
     "checksum": "f6723af55c11485c183dde1232a15298",
     "grade": false,
     "grade_id": "cell-bd23e2df6a29119f",
     "locked": true,
     "schema_version": 3,
     "solution": false,
     "task": false
    }
   },
   "source": [
    "## 5.0 -  Predicting Probabilities"
   ]
  },
  {
   "cell_type": "markdown",
   "metadata": {
    "application/vnd.databricks.v1+cell": {
     "cellMetadata": {},
     "inputWidgets": {},
     "nuid": "90da7c80-d749-4901-a6d3-b507349c3428",
     "showTitle": false,
     "title": ""
    },
    "cell_id": "00019-45623eca-5ef6-4096-8eaa-bb24706647ad",
    "deletable": false,
    "editable": false,
    "nbgrader": {
     "cell_type": "markdown",
     "checksum": "58cc7e98acdbd631a041aff69c8bcd15",
     "grade": false,
     "grade_id": "cell-9373683a8df1b126",
     "locked": true,
     "schema_version": 3,
     "solution": false,
     "task": false
    },
    "tags": []
   },
   "source": [
    "5.1 - Fit a normal distribution over the histogram of `PSS_Dif`, add the empty model in blue, and the first participant in another color of your choosing. **(1.5 points)**"
   ]
  },
  {
   "cell_type": "code",
   "execution_count": 0,
   "metadata": {
    "application/vnd.databricks.v1+cell": {
     "cellMetadata": {},
     "inputWidgets": {},
     "nuid": "0c00dd4e-456c-407d-828f-5c36e741d8a2",
     "showTitle": false,
     "title": ""
    },
    "deletable": false,
    "nbgrader": {
     "cell_type": "code",
     "checksum": "a5208300c1ff501c20c0f11fa14f184e",
     "grade": true,
     "grade_id": "cell-fbd357eda7ac683d",
     "locked": false,
     "points": 1.5,
     "schema_version": 3,
     "solution": true,
     "task": false
    }
   },
   "outputs": [],
   "source": [
    "P1_PSS_Dif <- mindfulness[1:1, \"PSS_Dif\"] %>%\n",
    "pull()\n",
    "\n",
    "mindfulness %>%\n",
    "ggplot(aes(x = PSS_Dif)) +\n",
    "geom_histogram(aes(y = ..density..), bins = 10, color = \"black\", fill = \"palevioletred1\") +\n",
    "geom_vline(aes(xintercept = mean(PSS_Dif)), color = \"blue\", size = 2) +\n",
    "geom_vline(xintercept = P1_PSS_Dif, color = \"green\", size = 2) +\n",
    "geom_vline(xintercept = mean(mindfulness$PSS_Dif) - sd(mindfulness$PSS_Dif), color = \"red\", size = 2) +\n",
    "stat_function(fun = dnorm, args = list(mean = mean(mindfulness$PSS_Dif), \n",
    "                                       sd = sd(mindfulness$PSS_Dif)), color = \"purple\", size = 2)\n",
    "\n",
    "           \n",
    "#First participant indicated by the green line."
   ]
  },
  {
   "cell_type": "markdown",
   "metadata": {
    "application/vnd.databricks.v1+cell": {
     "cellMetadata": {},
     "inputWidgets": {},
     "nuid": "b27424fc-cbc6-4344-aba4-32cb2cf6a0e2",
     "showTitle": false,
     "title": ""
    },
    "cell_id": "00022-d3870a14-8548-468e-a150-d8209d0674b5",
    "deletable": false,
    "editable": false,
    "nbgrader": {
     "cell_type": "markdown",
     "checksum": "16814eb6c7d92e2907eaa83926bc43b4",
     "grade": false,
     "grade_id": "cell-8c8290a24694c218",
     "locked": true,
     "schema_version": 3,
     "solution": false,
     "task": false
    },
    "tags": []
   },
   "source": [
    "5.2 - Is this participant within 1 standard deviation of the mean (e.g., zone 1)? \n",
    "If so, save \"yes\" to the object `ans.5.2`. If no, save \"no\". **(0.5 points)**"
   ]
  },
  {
   "cell_type": "code",
   "execution_count": 0,
   "metadata": {
    "application/vnd.databricks.v1+cell": {
     "cellMetadata": {},
     "inputWidgets": {},
     "nuid": "7c354ebf-5567-4b81-9f64-9b118156e70c",
     "showTitle": false,
     "title": ""
    },
    "deletable": false,
    "nbgrader": {
     "cell_type": "code",
     "checksum": "f90f4bc3899403480a2246147c7c634c",
     "grade": false,
     "grade_id": "cell-d12987f500dee5e3",
     "locked": false,
     "schema_version": 3,
     "solution": true,
     "task": false
    }
   },
   "outputs": [],
   "source": [
    "ans.5.2 <- \"yes\""
   ]
  },
  {
   "cell_type": "code",
   "execution_count": 0,
   "metadata": {
    "application/vnd.databricks.v1+cell": {
     "cellMetadata": {},
     "inputWidgets": {},
     "nuid": "2e685001-0615-4c6c-a14a-0d9af4a466a5",
     "showTitle": false,
     "title": ""
    },
    "deletable": false,
    "editable": false,
    "nbgrader": {
     "cell_type": "code",
     "checksum": "2cc48d63efed3d6d2fe6ae0773894919",
     "grade": true,
     "grade_id": "cell-e9d5661ea6b4ee4c",
     "locked": true,
     "points": 0.5,
     "schema_version": 3,
     "solution": false,
     "task": false
    }
   },
   "outputs": [],
   "source": []
  },
  {
   "cell_type": "markdown",
   "metadata": {
    "application/vnd.databricks.v1+cell": {
     "cellMetadata": {},
     "inputWidgets": {},
     "nuid": "3d536f52-4a44-412b-9f02-0d4d1e2155bc",
     "showTitle": false,
     "title": ""
    },
    "cell_id": "00023-e0275a63-ad8d-40d0-b90a-c5c0dab6a762",
    "deletable": false,
    "editable": false,
    "nbgrader": {
     "cell_type": "markdown",
     "checksum": "6253994f83abfd8b5a315d18c39f0e6b",
     "grade": false,
     "grade_id": "cell-40fb80c08af2a113",
     "locked": true,
     "schema_version": 3,
     "solution": false,
     "task": false
    },
    "tags": []
   },
   "source": [
    "5.3 - The area under the normal curve is 1 (you can think about it as 100%). Estimate of the percentage of participants that have a higher `PSS_Dif` than participant 1 **just by looking at your histogram.** Explain how you made your estimate. **(1 point)**"
   ]
  },
  {
   "cell_type": "markdown",
   "metadata": {
    "application/vnd.databricks.v1+cell": {
     "cellMetadata": {},
     "inputWidgets": {},
     "nuid": "7d593b3a-011c-4376-a3da-05aa913f1a79",
     "showTitle": false,
     "title": ""
    },
    "deletable": false,
    "nbgrader": {
     "cell_type": "markdown",
     "checksum": "5ba164d9e1b84f96fbf5493f03e10452",
     "grade": true,
     "grade_id": "cell-1aff91c8b5bb9b24",
     "locked": false,
     "points": 1,
     "schema_version": 3,
     "solution": true,
     "task": false
    }
   },
   "source": [
    "> - 67% of the particpants have a higher `PSS_Diff` than participant 1.\n",
    "> - In a normal curve, the mean and the median are the same, and 50% of the scores will fall above it and 50% below. The space between the first standard deviation below the mean and mean is 34%. Since participant 1 falls right between the mean and one standard deviation below the mean the scores between participant 1 and the mean will represent 17% of the data. As a result, it can be estimated that 50% + 17% = 67% of the particpants have a higher `PSS_Diff` than participant 1."
   ]
  },
  {
   "cell_type": "markdown",
   "metadata": {
    "application/vnd.databricks.v1+cell": {
     "cellMetadata": {},
     "inputWidgets": {},
     "nuid": "ea9a4095-ec41-4a35-a6b9-cad4877fbfb9",
     "showTitle": false,
     "title": ""
    },
    "cell_id": "a1e129e8-c06d-43ee-8eed-551f0444ee56",
    "deletable": false,
    "editable": false,
    "nbgrader": {
     "cell_type": "markdown",
     "checksum": "31e4cafdb3ddc9746a264a80260ce874",
     "grade": false,
     "grade_id": "cell-031d32bae40e5c57",
     "locked": true,
     "schema_version": 3,
     "solution": false,
     "task": false
    },
    "tags": []
   },
   "source": [
    "5.4 - What is the *discrete probability* that a randomly selected participant will have a `PSS_Dif` less than or equal to participant 1? Answer this question **using the data as a model**. Round your answer to 2 decimal places and save to an object called `ans.5.4`. **(1 point)**"
   ]
  },
  {
   "cell_type": "code",
   "execution_count": 0,
   "metadata": {
    "application/vnd.databricks.v1+cell": {
     "cellMetadata": {},
     "inputWidgets": {},
     "nuid": "b40c4e2a-495a-43c7-ac03-348bfbc372d8",
     "showTitle": false,
     "title": ""
    },
    "deletable": false,
    "nbgrader": {
     "cell_type": "code",
     "checksum": "985f70d3bcde6e69a645447027c41bf9",
     "grade": false,
     "grade_id": "cell-efe6959e86ddf9d2",
     "locked": false,
     "schema_version": 3,
     "solution": true,
     "task": false
    }
   },
   "outputs": [],
   "source": [
    "ans.5.4 <- mindfulness %>%\n",
    "filter(PSS_Dif <= P1_PSS_Dif) %>%\n",
    "nrow() / nrow(mindfulness)\n",
    "\n",
    "ans.5.4 <- format(round(ans.5.4, 2), nsmall = 2) %>%\n",
    "as.numeric()\n",
    "\n",
    "ans.5.4"
   ]
  },
  {
   "cell_type": "code",
   "execution_count": 0,
   "metadata": {
    "application/vnd.databricks.v1+cell": {
     "cellMetadata": {},
     "inputWidgets": {},
     "nuid": "2cb4d497-938e-466f-934b-119bccc49c2c",
     "showTitle": false,
     "title": ""
    },
    "deletable": false,
    "editable": false,
    "nbgrader": {
     "cell_type": "code",
     "checksum": "83299f34bcee7bc0e7502a99f3b2dab9",
     "grade": true,
     "grade_id": "cell-52b78066e18ecccf",
     "locked": true,
     "points": 1,
     "schema_version": 3,
     "solution": false,
     "task": false
    }
   },
   "outputs": [],
   "source": []
  },
  {
   "cell_type": "markdown",
   "metadata": {
    "application/vnd.databricks.v1+cell": {
     "cellMetadata": {},
     "inputWidgets": {},
     "nuid": "e147455b-cd3c-4b46-8551-5eb9d1118c08",
     "showTitle": false,
     "title": ""
    },
    "cell_id": "b8d199da-5b92-4101-bfdb-5f0ff1212c78",
    "deletable": false,
    "editable": false,
    "nbgrader": {
     "cell_type": "markdown",
     "checksum": "0bbe14ca4b37f4cc90dbf905eee0599d",
     "grade": false,
     "grade_id": "cell-0b199560d2bc8d40",
     "locked": true,
     "schema_version": 3,
     "solution": false,
     "task": false
    },
    "tags": []
   },
   "source": [
    "5.5 - Now find the probability **using the normal distribution as a model**. Round your answer to 2 decimal places and save to ab object called `ans.5.5`. **(1 point)**"
   ]
  },
  {
   "cell_type": "code",
   "execution_count": 0,
   "metadata": {
    "application/vnd.databricks.v1+cell": {
     "cellMetadata": {},
     "inputWidgets": {},
     "nuid": "54069bf4-60ae-48d7-ae78-41fea49a9c6a",
     "showTitle": false,
     "title": ""
    },
    "deletable": false,
    "nbgrader": {
     "cell_type": "code",
     "checksum": "43094430022b0198bc219596e7e5e9de",
     "grade": false,
     "grade_id": "cell-37427dc9f800e100",
     "locked": false,
     "schema_version": 3,
     "solution": true,
     "task": false
    }
   },
   "outputs": [],
   "source": [
    "ans.5.5 <- pnorm(P1_PSS_Dif, mean(mindfulness$PSS_Dif), sd(mindfulness$PSS_Dif))\n",
    "ans.5.5 <- format(round(ans.5.5, 2), nsmall = 2) %>%\n",
    "as.numeric()\n",
    "ans.5.5"
   ]
  },
  {
   "cell_type": "code",
   "execution_count": 0,
   "metadata": {
    "application/vnd.databricks.v1+cell": {
     "cellMetadata": {},
     "inputWidgets": {},
     "nuid": "ea8b0bb4-29bd-4e3e-8dac-9c16bf008e23",
     "showTitle": false,
     "title": ""
    },
    "deletable": false,
    "editable": false,
    "nbgrader": {
     "cell_type": "code",
     "checksum": "366e85df2a74840788c3c07f5b239378",
     "grade": true,
     "grade_id": "cell-3ce73517219c6ce5",
     "locked": true,
     "points": 1,
     "schema_version": 3,
     "solution": false,
     "task": false
    }
   },
   "outputs": [],
   "source": []
  },
  {
   "cell_type": "markdown",
   "metadata": {
    "application/vnd.databricks.v1+cell": {
     "cellMetadata": {},
     "inputWidgets": {},
     "nuid": "3bad1fd8-e3e3-4429-9e77-1f21abbe23d6",
     "showTitle": false,
     "title": ""
    },
    "deletable": false,
    "editable": false,
    "nbgrader": {
     "cell_type": "markdown",
     "checksum": "adc075a84fc29f619865f5999d85a2e9",
     "grade": false,
     "grade_id": "cell-e3da2a3804f4f41e",
     "locked": true,
     "schema_version": 3,
     "solution": false,
     "task": false
    }
   },
   "source": [
    "5.6 - Compute the z-score for all participants and save them to a variable in the dataframe called `$zScore` **(1 point)**"
   ]
  },
  {
   "cell_type": "code",
   "execution_count": 0,
   "metadata": {
    "application/vnd.databricks.v1+cell": {
     "cellMetadata": {},
     "inputWidgets": {},
     "nuid": "9a9cd0c1-98c7-4bf8-acc4-7424b97fc605",
     "showTitle": false,
     "title": ""
    },
    "deletable": false,
    "nbgrader": {
     "cell_type": "code",
     "checksum": "7e4218eb9836f73051671a32d9fed3c3",
     "grade": false,
     "grade_id": "cell-adbfdef247b8bf42",
     "locked": false,
     "schema_version": 3,
     "solution": true,
     "task": false
    }
   },
   "outputs": [],
   "source": [
    "mindfulness <- mindfulness %>%\n",
    "mutate(zScore = (PSS_Dif - mean(mindfulness$PSS_Dif)) / sd(mindfulness$PSS_Dif)) \n",
    "\n",
    "mindfulness$zScore <- round(mindfulness$zScore ,digit=2)\n"
   ]
  },
  {
   "cell_type": "code",
   "execution_count": 0,
   "metadata": {
    "application/vnd.databricks.v1+cell": {
     "cellMetadata": {},
     "inputWidgets": {},
     "nuid": "78d05033-cc0a-48e8-a5e2-019953d4c7af",
     "showTitle": false,
     "title": ""
    },
    "deletable": false,
    "editable": false,
    "nbgrader": {
     "cell_type": "code",
     "checksum": "8cece3e68d5798d58bd336a11721210e",
     "grade": true,
     "grade_id": "cell-1751205549629df5",
     "locked": true,
     "points": 1,
     "schema_version": 3,
     "solution": false,
     "task": false
    }
   },
   "outputs": [],
   "source": []
  },
  {
   "cell_type": "markdown",
   "metadata": {
    "application/vnd.databricks.v1+cell": {
     "cellMetadata": {},
     "inputWidgets": {},
     "nuid": "2882d8f2-8ddf-407e-abba-a83804325379",
     "showTitle": false,
     "title": ""
    },
    "cell_id": "febecbdb-e794-4930-9067-7dd2708bea7a",
    "deletable": false,
    "editable": false,
    "nbgrader": {
     "cell_type": "markdown",
     "checksum": "e872769b39282c122ce3eb8d143e086f",
     "grade": false,
     "grade_id": "cell-3bf890b8c47a847d",
     "locked": true,
     "schema_version": 3,
     "solution": false,
     "task": false
    },
    "tags": []
   },
   "source": [
    "5.7 - What does the z-score of participant 1 mean? **(1 point)**"
   ]
  },
  {
   "cell_type": "markdown",
   "metadata": {
    "application/vnd.databricks.v1+cell": {
     "cellMetadata": {},
     "inputWidgets": {},
     "nuid": "d4db310b-6e65-4dcc-a26e-ce5e62d122b1",
     "showTitle": false,
     "title": ""
    },
    "deletable": false,
    "nbgrader": {
     "cell_type": "markdown",
     "checksum": "4a182f02870bf2fafa0fc24c175a3fbe",
     "grade": true,
     "grade_id": "cell-15c9c5f3da8059c5",
     "locked": false,
     "points": 1,
     "schema_version": 3,
     "solution": true,
     "task": false
    }
   },
   "source": [
    "> It means that participant 1's score is 0.52 standard deviations below the mean."
   ]
  },
  {
   "cell_type": "markdown",
   "metadata": {
    "application/vnd.databricks.v1+cell": {
     "cellMetadata": {},
     "inputWidgets": {},
     "nuid": "ac88dd8d-9132-4ee5-bb47-0728bc974a4d",
     "showTitle": false,
     "title": ""
    },
    "cell_id": "00032-065868d6-a0b3-4641-9058-42176090d6da",
    "deletable": false,
    "editable": false,
    "nbgrader": {
     "cell_type": "markdown",
     "checksum": "6ff56ad0d6d1fc55ebc6eb917633fb9f",
     "grade": false,
     "grade_id": "cell-a98a39fa28313f11",
     "locked": true,
     "schema_version": 3,
     "solution": false,
     "task": false
    },
    "tags": []
   },
   "source": [
    "5.8 - Why is the normal distribution helpful for predicting future observations? **(1 point)**"
   ]
  },
  {
   "cell_type": "markdown",
   "metadata": {
    "application/vnd.databricks.v1+cell": {
     "cellMetadata": {},
     "inputWidgets": {},
     "nuid": "3d897fa6-39d6-41fb-84ec-0275ba57c42d",
     "showTitle": false,
     "title": ""
    },
    "deletable": false,
    "nbgrader": {
     "cell_type": "markdown",
     "checksum": "f84d47f1f0096eb14cd6e13829054220",
     "grade": true,
     "grade_id": "cell-9a084fa1142dfae9",
     "locked": false,
     "points": 1,
     "schema_version": 3,
     "solution": true,
     "task": false
    }
   },
   "source": [
    "> The normal distribution is helpful for predicting future observations because sample distributions have variability. By assuming that the distribution of residuals is normal, we can make predictions that can be generalized to our data."
   ]
  },
  {
   "cell_type": "markdown",
   "metadata": {
    "application/vnd.databricks.v1+cell": {
     "cellMetadata": {},
     "inputWidgets": {},
     "nuid": "5b757344-1256-4c41-812f-399eb79ff09a",
     "showTitle": false,
     "title": ""
    },
    "cell_id": "35556b28-3a81-4a73-88c5-223f9b5b80bc",
    "deletable": false,
    "editable": false,
    "nbgrader": {
     "cell_type": "markdown",
     "checksum": "4ee6a716e3cb5fd50cbb8541a62ce911",
     "grade": false,
     "grade_id": "cell-e319b22e1f9bc61d",
     "locked": true,
     "schema_version": 3,
     "solution": false,
     "task": false
    },
    "tags": []
   },
   "source": [
    "5.9 - Do samples from a normal distribution **always look** normal? Explain why or why not. **(1 point)**"
   ]
  },
  {
   "cell_type": "markdown",
   "metadata": {
    "application/vnd.databricks.v1+cell": {
     "cellMetadata": {},
     "inputWidgets": {},
     "nuid": "9446b3a5-dcdf-4abf-a4a8-20f354ef7e1d",
     "showTitle": false,
     "title": ""
    },
    "deletable": false,
    "nbgrader": {
     "cell_type": "markdown",
     "checksum": "b20e8272d77928a9e6561962149e9e7d",
     "grade": true,
     "grade_id": "cell-3eb85c08bbccbfae",
     "locked": false,
     "points": 1,
     "schema_version": 3,
     "solution": true,
     "task": false
    }
   },
   "source": [
    "> Samples from a normal distribution do not always look normal due to sampling variation. No sample will perfectly  represent the population or larger sample it is taken from."
   ]
  },
  {
   "cell_type": "markdown",
   "metadata": {
    "application/vnd.databricks.v1+cell": {
     "cellMetadata": {},
     "inputWidgets": {},
     "nuid": "92ce4ad5-4592-4ecb-835e-00ed55f8699f",
     "showTitle": false,
     "title": ""
    },
    "cell_id": "b428b93c-3dc2-4c8b-87df-63c630b6a841",
    "deletable": false,
    "editable": false,
    "nbgrader": {
     "cell_type": "markdown",
     "checksum": "b2e94d4819f24871d2ba648d958ea6e0",
     "grade": false,
     "grade_id": "cell-8a2dba35332347e9",
     "locked": true,
     "schema_version": 3,
     "solution": false,
     "task": false
    },
    "tags": []
   },
   "source": [
    "5.10 - Even though the distribution of `PSS_Dif` doesn't look perfectly normal, could the DGP of `PSS_Dif` be roughly normal? Explain why or why not. **(1 point)**"
   ]
  },
  {
   "cell_type": "markdown",
   "metadata": {
    "application/vnd.databricks.v1+cell": {
     "cellMetadata": {},
     "inputWidgets": {},
     "nuid": "3ac3d27c-44bb-4d5f-acf6-cbb86c367b4c",
     "showTitle": false,
     "title": ""
    },
    "deletable": false,
    "nbgrader": {
     "cell_type": "markdown",
     "checksum": "963b2e7a72edd7350022fa815af69ac4",
     "grade": true,
     "grade_id": "cell-0cd0b6b8ced06b22",
     "locked": false,
     "points": 1,
     "schema_version": 3,
     "solution": true,
     "task": false
    }
   },
   "source": [
    "> The DGP of `PSS_Dif` could be roughly normal even though the distribution of `PSS_Dif` doesn't look perfectly normal. The sample of `PSS_Dif` is relatively small, leaving more room for sampling variation. As the sample size increases, sampling error will decrease to be closer to the population distribution which could be normal."
   ]
  },
  {
   "cell_type": "markdown",
   "metadata": {
    "application/vnd.databricks.v1+cell": {
     "cellMetadata": {},
     "inputWidgets": {},
     "nuid": "4955bf19-920d-4682-8c86-2d7c55ae79e2",
     "showTitle": false,
     "title": ""
    },
    "cell_id": "00007-ebf7ff3f-c285-4abc-94ae-483ab89650f8",
    "deletable": false,
    "editable": false,
    "nbgrader": {
     "cell_type": "markdown",
     "checksum": "f894c628c7f34e101bbf6718e8b9ea0b",
     "grade": false,
     "grade_id": "cell-0a1deb1d63c7dfac",
     "locked": true,
     "schema_version": 3,
     "solution": false,
     "task": false
    },
    "tags": []
   },
   "source": [
    "## 6.0 - Explanatory Model <SPAN STYLE=\"font-size:18px\">(modeling variation)"
   ]
  },
  {
   "cell_type": "markdown",
   "metadata": {
    "application/vnd.databricks.v1+cell": {
     "cellMetadata": {},
     "inputWidgets": {},
     "nuid": "2d637ea1-76d6-4895-b9fb-e11891f13d6a",
     "showTitle": false,
     "title": ""
    },
    "cell_id": "99f0008c-5f07-45f9-b371-b29187e16a12",
    "deletable": false,
    "editable": false,
    "nbgrader": {
     "cell_type": "markdown",
     "checksum": "5bfbce9d87065fd266ccac2581e36ebb",
     "grade": false,
     "grade_id": "cell-f9861acd665ae5ae",
     "locked": true,
     "schema_version": 3,
     "solution": false,
     "task": false
    }
   },
   "source": [
    "6.1 - If we think `Group` can help us explain the variation we see in `PSS_Dif`, how can we write this idea as a word equation? Which is the outcome and which is the explanatory variable? **(1 point)**"
   ]
  },
  {
   "cell_type": "markdown",
   "metadata": {
    "application/vnd.databricks.v1+cell": {
     "cellMetadata": {},
     "inputWidgets": {},
     "nuid": "e413953d-cb8b-4a04-a479-e6b68ef427a3",
     "showTitle": false,
     "title": ""
    },
    "deletable": false,
    "nbgrader": {
     "cell_type": "markdown",
     "checksum": "2a2c99b429217110a498f0a343767b71",
     "grade": true,
     "grade_id": "cell-01d145f3aa28839b",
     "locked": false,
     "points": 1,
     "schema_version": 3,
     "solution": true,
     "task": false
    }
   },
   "source": [
    "> `PSS_Dif` = `Group` + other stuff\n",
    "> - `PSS_Dif` is the outcome variable\n",
    "> - `Group` is the explanatory variable"
   ]
  },
  {
   "cell_type": "markdown",
   "metadata": {
    "application/vnd.databricks.v1+cell": {
     "cellMetadata": {},
     "inputWidgets": {},
     "nuid": "fe491971-80b9-4580-85be-95a80374faf2",
     "showTitle": false,
     "title": ""
    },
    "cell_id": "eac9821f-6674-45bb-9826-93b6b1dcfdb0",
    "deletable": false,
    "editable": false,
    "nbgrader": {
     "cell_type": "markdown",
     "checksum": "dab7ce9d7ce139887312da2b9046d58b",
     "grade": false,
     "grade_id": "cell-465470fd3fea903e",
     "locked": true,
     "schema_version": 3,
     "solution": false,
     "task": false
    }
   },
   "source": [
    "6.2 - Create a histogram to help us see whether `Group` might be related to `PSS_Dif`. **(0.5 points)**"
   ]
  },
  {
   "cell_type": "code",
   "execution_count": 0,
   "metadata": {
    "application/vnd.databricks.v1+cell": {
     "cellMetadata": {},
     "inputWidgets": {},
     "nuid": "44e6071e-b962-41b5-a73f-486f58de69ac",
     "showTitle": false,
     "title": ""
    },
    "deletable": false,
    "nbgrader": {
     "cell_type": "code",
     "checksum": "ce8b24d74a73fdb0b1b81a9b2b19ac03",
     "grade": true,
     "grade_id": "cell-228f0c42cd2036ea",
     "locked": false,
     "points": 0.5,
     "schema_version": 3,
     "solution": true,
     "task": false
    }
   },
   "outputs": [],
   "source": [
    "mindfulness %>%\n",
    "ggplot(aes(x = PSS_Dif, fill = Group)) +\n",
    "geom_histogram(bins = 10, color = \"black\") +\n",
    "facet_grid(rows = vars(Group))"
   ]
  },
  {
   "cell_type": "markdown",
   "metadata": {
    "application/vnd.databricks.v1+cell": {
     "cellMetadata": {},
     "inputWidgets": {},
     "nuid": "aa1d91c0-6b32-43f8-ba5e-67f45295771c",
     "showTitle": false,
     "title": ""
    },
    "cell_id": "13b5c3cb-a5ab-464a-b380-8582e324edf9",
    "deletable": false,
    "editable": false,
    "nbgrader": {
     "cell_type": "markdown",
     "checksum": "9f922bc02457bc8f252193e1a0bf437e",
     "grade": false,
     "grade_id": "cell-f84d1ad239f77958",
     "locked": true,
     "schema_version": 3,
     "solution": false,
     "task": false
    }
   },
   "source": [
    "6.3 - Looking at the histograms, what do you notice about these distributions? Does any `Group` seem like it tends to have higher or lower `PSS_Dif` scores? **(0.5 points)**"
   ]
  },
  {
   "cell_type": "markdown",
   "metadata": {
    "application/vnd.databricks.v1+cell": {
     "cellMetadata": {},
     "inputWidgets": {},
     "nuid": "3d47a3ad-4b7b-4703-96e5-078420fa541a",
     "showTitle": false,
     "title": ""
    },
    "deletable": false,
    "nbgrader": {
     "cell_type": "markdown",
     "checksum": "368eb1b4cd6714cb574921890a492be1",
     "grade": true,
     "grade_id": "cell-b0d57bdcaad19ef4",
     "locked": false,
     "points": 0.5,
     "schema_version": 3,
     "solution": true,
     "task": false
    }
   },
   "source": [
    "> The waitlist group has higher `PSS_Dif` scores. The app group has a center around -5 while the waitlist group has a center around 5. This indicates that people in the waitlist group experienced an increase in perceived stress while people in the app group experienced a decrease in perceived stress by the end of the experiment."
   ]
  },
  {
   "cell_type": "markdown",
   "metadata": {
    "application/vnd.databricks.v1+cell": {
     "cellMetadata": {},
     "inputWidgets": {},
     "nuid": "ce6089c7-0ce8-4b9c-a028-e70f8fac8b11",
     "showTitle": false,
     "title": ""
    },
    "cell_id": "3f78a2ed-08ef-45a4-85cb-4e865535a685",
    "deletable": false,
    "editable": false,
    "nbgrader": {
     "cell_type": "markdown",
     "checksum": "52d59c0e67adfee83521e3b2e1d1552a",
     "grade": false,
     "grade_id": "cell-60c0ebcff85bf985",
     "locked": true,
     "schema_version": 3,
     "solution": false,
     "task": false
    }
   },
   "source": [
    "6.4 - Now create a boxplot with an overlaid jitterplot to explore the same hypothesis. **(1 point)**"
   ]
  },
  {
   "cell_type": "code",
   "execution_count": 0,
   "metadata": {
    "application/vnd.databricks.v1+cell": {
     "cellMetadata": {},
     "inputWidgets": {},
     "nuid": "acbf2d22-6320-4ff6-81cf-da90ebe232d9",
     "showTitle": false,
     "title": ""
    },
    "deletable": false,
    "nbgrader": {
     "cell_type": "code",
     "checksum": "25d438f681f79c8ade076bd8f2e18afc",
     "grade": true,
     "grade_id": "cell-8a0d0aadf97df7ab",
     "locked": false,
     "points": 1,
     "schema_version": 3,
     "solution": true,
     "task": false
    }
   },
   "outputs": [],
   "source": [
    "mindfulness %>%\n",
    "ggplot(aes(y = PSS_Dif, x = Group, fill = Group)) +\n",
    "geom_boxplot(color = \"black\") +\n",
    "geom_jitter() "
   ]
  },
  {
   "cell_type": "markdown",
   "metadata": {
    "application/vnd.databricks.v1+cell": {
     "cellMetadata": {},
     "inputWidgets": {},
     "nuid": "f1c7d6c2-5fc9-405f-8128-4b0d5a12dd9a",
     "showTitle": false,
     "title": ""
    },
    "cell_id": "6af85e71-1994-4ed2-b821-6e46103457e5",
    "deletable": false,
    "editable": false,
    "nbgrader": {
     "cell_type": "markdown",
     "checksum": "2ac6e32821d14ec8b21bf161d68a4d00",
     "grade": false,
     "grade_id": "cell-d1aa5c5da86e491e",
     "locked": true,
     "schema_version": 3,
     "solution": false,
     "task": false
    }
   },
   "source": [
    "6.5 - Based on these visualizations, if you knew that a person was in the App group and had to guess their `PSS_Dif` score, would you adjust your guess to be a little lower or a little higher? Why? **(1 point)**"
   ]
  },
  {
   "cell_type": "markdown",
   "metadata": {
    "application/vnd.databricks.v1+cell": {
     "cellMetadata": {},
     "inputWidgets": {},
     "nuid": "2f20d451-31c6-4f8b-ab93-8e2f933a0d1a",
     "showTitle": false,
     "title": ""
    },
    "deletable": false,
    "nbgrader": {
     "cell_type": "markdown",
     "checksum": "76b753fe714ad0f69b6ff0dd6bc921b0",
     "grade": true,
     "grade_id": "cell-5d7d4b570d5ba875",
     "locked": false,
     "points": 1,
     "schema_version": 3,
     "solution": true,
     "task": false
    }
   },
   "source": [
    "> I would adjust my guess to be lower because the interquartile range and median of the app group are lower than that of the waitlist group."
   ]
  },
  {
   "cell_type": "markdown",
   "metadata": {
    "application/vnd.databricks.v1+cell": {
     "cellMetadata": {},
     "inputWidgets": {},
     "nuid": "36a41075-1f1a-4a0a-8054-2a5ba86c6a9c",
     "showTitle": false,
     "title": ""
    },
    "cell_id": "2d0b1fec-2f0b-4b77-addb-dea07a12fcd7",
    "deletable": false,
    "editable": false,
    "nbgrader": {
     "cell_type": "markdown",
     "checksum": "3333678add3c3ab8dba9c6c640539d83",
     "grade": false,
     "grade_id": "cell-12a8ea9e71b6a045",
     "locked": true,
     "schema_version": 3,
     "solution": false,
     "task": false
    }
   },
   "source": [
    "6.6 - One definition of “explain variation” is that if we know a little bit more about some observation, we can use that information to make a better prediction of some outcome. Now that we’ve *visualized* the Group Hypothesis, does Group help us explain variation on `PSS_Dif`? **(1 point)**"
   ]
  },
  {
   "cell_type": "markdown",
   "metadata": {
    "application/vnd.databricks.v1+cell": {
     "cellMetadata": {},
     "inputWidgets": {},
     "nuid": "2d5b94f5-df5f-46de-9339-a267b7b9bd78",
     "showTitle": false,
     "title": ""
    },
    "deletable": false,
    "nbgrader": {
     "cell_type": "markdown",
     "checksum": "14c5d89e25691d2e8b0b64f1719c0248",
     "grade": true,
     "grade_id": "cell-afcf9f802eacdeea",
     "locked": false,
     "points": 1,
     "schema_version": 3,
     "solution": true,
     "task": false
    }
   },
   "source": [
    "> `Group` does help explain some of the variation in `PSS_Dif`. People in the app group tend to have lower `PSS_Dif` scores than those in the waitlist group. The interquartile range of the app group was approximately between -5 and -9 while the interquartile range of the waitlist group was approximately between -5 and 6. This indiates that most people in the app group experienced a decrease in stress compared to the waitlist group."
   ]
  },
  {
   "cell_type": "markdown",
   "metadata": {
    "application/vnd.databricks.v1+cell": {
     "cellMetadata": {},
     "inputWidgets": {},
     "nuid": "80fa64ef-6ed7-42e4-9fe7-bd5224c82403",
     "showTitle": false,
     "title": ""
    },
    "cell_id": "00012-e8a968d8-d6c8-4db6-9395-080c9e2cb271",
    "deletable": false,
    "editable": false,
    "nbgrader": {
     "cell_type": "markdown",
     "checksum": "ab85f325151e695cb3ec7289b11d8766",
     "grade": false,
     "grade_id": "cell-f93d471018280b71",
     "locked": true,
     "schema_version": 3,
     "solution": false,
     "task": false
    },
    "tags": []
   },
   "source": [
    "## 7.0 - Group Model Predictions"
   ]
  },
  {
   "cell_type": "markdown",
   "metadata": {
    "application/vnd.databricks.v1+cell": {
     "cellMetadata": {},
     "inputWidgets": {},
     "nuid": "2e5c9516-6a7e-4f0f-bd2a-6472f40aa345",
     "showTitle": false,
     "title": ""
    },
    "cell_id": "00009-b1ed034b-5601-4eaf-8a50-c2677fe0ee78",
    "deletable": false,
    "editable": false,
    "nbgrader": {
     "cell_type": "markdown",
     "checksum": "b293601ad205e7b21d0241fdfd13007e",
     "grade": false,
     "grade_id": "cell-048a949b7db2b027",
     "locked": true,
     "schema_version": 3,
     "solution": false,
     "task": false
    },
    "tags": []
   },
   "source": [
    "7.1 - Create a model for the `Group` hypothesis you visualized above and save it to a variable called `group.model`. **(0.5 points)**"
   ]
  },
  {
   "cell_type": "code",
   "execution_count": 0,
   "metadata": {
    "application/vnd.databricks.v1+cell": {
     "cellMetadata": {},
     "inputWidgets": {},
     "nuid": "3c1abd13-433b-4044-a47e-36682082292d",
     "showTitle": false,
     "title": ""
    },
    "deletable": false,
    "nbgrader": {
     "cell_type": "code",
     "checksum": "a0c2fb6b2f1a48e20a3dfd4af7e55b13",
     "grade": false,
     "grade_id": "cell-cfb8e2e63e572f18",
     "locked": false,
     "schema_version": 3,
     "solution": true,
     "task": false
    }
   },
   "outputs": [],
   "source": [
    "group.model <- lm(PSS_Dif ~ Group, data = mindfulness)\n",
    "group.model"
   ]
  },
  {
   "cell_type": "code",
   "execution_count": 0,
   "metadata": {
    "application/vnd.databricks.v1+cell": {
     "cellMetadata": {},
     "inputWidgets": {},
     "nuid": "b0b78b72-d069-467d-8f37-82811568f035",
     "showTitle": false,
     "title": ""
    },
    "deletable": false,
    "editable": false,
    "nbgrader": {
     "cell_type": "code",
     "checksum": "de6769fe87d4a4e43c26f493fa39efb3",
     "grade": true,
     "grade_id": "cell-071f4692fd65f7fe",
     "locked": true,
     "points": 0.5,
     "schema_version": 3,
     "solution": false,
     "task": false
    }
   },
   "outputs": [],
   "source": []
  },
  {
   "cell_type": "markdown",
   "metadata": {
    "application/vnd.databricks.v1+cell": {
     "cellMetadata": {},
     "inputWidgets": {},
     "nuid": "fe048cdc-ad52-4f7c-98b2-5073510a6fa3",
     "showTitle": false,
     "title": ""
    },
    "deletable": false,
    "editable": false,
    "nbgrader": {
     "cell_type": "markdown",
     "checksum": "3a7f8610494555e8c52769cdcda9f25d",
     "grade": false,
     "grade_id": "cell-1fb0d150fdde1f95",
     "locked": true,
     "schema_version": 3,
     "solution": false,
     "task": false
    }
   },
   "source": [
    "7.2 - Find the best fitting model parameters and put the numbers into GLM notation. **(0.5 points)**"
   ]
  },
  {
   "cell_type": "markdown",
   "metadata": {
    "application/vnd.databricks.v1+cell": {
     "cellMetadata": {},
     "inputWidgets": {},
     "nuid": "a8924583-208e-4d1f-8ee2-0ac6447fe4c1",
     "showTitle": false,
     "title": ""
    },
    "deletable": false,
    "nbgrader": {
     "cell_type": "markdown",
     "checksum": "729baca1aa0a539d32dbaa63a70a6692",
     "grade": true,
     "grade_id": "cell-58da0671c25d6e06",
     "locked": false,
     "points": 0.5,
     "schema_version": 3,
     "solution": true,
     "task": false
    }
   },
   "source": [
    "> $Y_i = -5.483 + 8.119X_1i + e_i$"
   ]
  },
  {
   "cell_type": "markdown",
   "metadata": {
    "application/vnd.databricks.v1+cell": {
     "cellMetadata": {},
     "inputWidgets": {},
     "nuid": "867d7ef2-d3bf-473d-8146-83fc987d58f9",
     "showTitle": false,
     "title": ""
    },
    "cell_id": "00011-60965c8e-a51b-4b0f-968a-324c1bf4bf12",
    "deletable": false,
    "editable": false,
    "nbgrader": {
     "cell_type": "markdown",
     "checksum": "4443de808495987480204d7ab3853879",
     "grade": false,
     "grade_id": "cell-e231ad516c183baf",
     "locked": true,
     "schema_version": 3,
     "solution": false,
     "task": false
    },
    "tags": []
   },
   "source": [
    "7.3 - Interpret the Group model’s estimates from your code above. How are those numbers connected to the means from the two groups? **(1 point)**"
   ]
  },
  {
   "cell_type": "markdown",
   "metadata": {
    "application/vnd.databricks.v1+cell": {
     "cellMetadata": {},
     "inputWidgets": {},
     "nuid": "49b0626c-ee5a-4c03-9984-12020ad5c0d7",
     "showTitle": false,
     "title": ""
    },
    "deletable": false,
    "nbgrader": {
     "cell_type": "markdown",
     "checksum": "93145b274b4d5f5706857740f5fc41f0",
     "grade": true,
     "grade_id": "cell-2001957530a4940c",
     "locked": false,
     "points": 1,
     "schema_version": 3,
     "solution": true,
     "task": false
    }
   },
   "source": [
    "> - -5.483 is the `PSS_Dif` mean of the app group. 8.119 is the distance of the waitlist group `PSS_Dif` mean from the app group mean. This means that the waitlist group `PSS_Dif` mean is 2.636."
   ]
  },
  {
   "cell_type": "markdown",
   "metadata": {
    "application/vnd.databricks.v1+cell": {
     "cellMetadata": {},
     "inputWidgets": {},
     "nuid": "5c28479e-0134-4a75-9113-8d7f952261dd",
     "showTitle": false,
     "title": ""
    },
    "cell_id": "00013-d5c4ad0e-fe3b-4018-a712-5563b5c142bc",
    "deletable": false,
    "editable": false,
    "nbgrader": {
     "cell_type": "markdown",
     "checksum": "f4052a0f1380f24a45a06244a67f0d6f",
     "grade": false,
     "grade_id": "cell-91a175875fc2db6c",
     "locked": true,
     "schema_version": 3,
     "solution": false,
     "task": false
    },
    "tags": []
   },
   "source": [
    "7.4 - What is the model predicting for each person? **(0.5 points)**"
   ]
  },
  {
   "cell_type": "markdown",
   "metadata": {
    "application/vnd.databricks.v1+cell": {
     "cellMetadata": {},
     "inputWidgets": {},
     "nuid": "ec63f1ab-f0fb-4b19-a5c2-121a3c5f87b3",
     "showTitle": false,
     "title": ""
    },
    "deletable": false,
    "nbgrader": {
     "cell_type": "markdown",
     "checksum": "09380a18ba2780622be44b7d9cca3147",
     "grade": true,
     "grade_id": "cell-ab7496322a5bc13f",
     "locked": false,
     "points": 0.5,
     "schema_version": 3,
     "solution": true,
     "task": false
    }
   },
   "source": [
    "> The model is predicting a `PSS_Dif` score of -5.483 for people in the app group and a `PSS_Dif` score of 2.636 for people in the waitlist group."
   ]
  },
  {
   "cell_type": "markdown",
   "metadata": {
    "application/vnd.databricks.v1+cell": {
     "cellMetadata": {},
     "inputWidgets": {},
     "nuid": "15707651-4849-4247-9d2f-92c8ebb2dcb2",
     "showTitle": false,
     "title": ""
    },
    "cell_id": "00014-a3b418f0-cfb7-4e75-b57c-3eda8ed3930c",
    "deletable": false,
    "editable": false,
    "nbgrader": {
     "cell_type": "markdown",
     "checksum": "e4ef21d2301172682ed9a945dbe13b75",
     "grade": false,
     "grade_id": "cell-8a270be21061d20a",
     "locked": true,
     "schema_version": 3,
     "solution": false,
     "task": false
    },
    "tags": []
   },
   "source": [
    "7.5 - What would $X_i$ be for someone in the **waitlist** group? What would the group model predict for someone in the waitlist group? How do you find that information? **(1 point)**"
   ]
  },
  {
   "cell_type": "markdown",
   "metadata": {
    "application/vnd.databricks.v1+cell": {
     "cellMetadata": {},
     "inputWidgets": {},
     "nuid": "5714b137-f986-49ea-84bf-e9cc991c6aad",
     "showTitle": false,
     "title": ""
    },
    "deletable": false,
    "nbgrader": {
     "cell_type": "markdown",
     "checksum": "6534cf8c033cb41bc8158b767271e7f1",
     "grade": true,
     "grade_id": "cell-870c848d99686f62",
     "locked": false,
     "points": 1,
     "schema_version": 3,
     "solution": true,
     "task": false
    }
   },
   "source": [
    "> $X_i$ would be 1 for someone in the waitlist group. The group model would predict 2.636 for someone in the waitlist group. It can be calculated by adding -5.483 + 8.119(1)."
   ]
  },
  {
   "cell_type": "markdown",
   "metadata": {
    "application/vnd.databricks.v1+cell": {
     "cellMetadata": {},
     "inputWidgets": {},
     "nuid": "40409592-a069-4a35-a636-ea647da4e0ee",
     "showTitle": false,
     "title": ""
    },
    "cell_id": "00014-1abfa86b-3480-4a41-8b92-eebf47e55ee7",
    "deletable": false,
    "editable": false,
    "nbgrader": {
     "cell_type": "markdown",
     "checksum": "2bc8ffc3674b1beeeddad8e0228d4579",
     "grade": false,
     "grade_id": "cell-6494e685c4ff048b",
     "locked": true,
     "schema_version": 3,
     "solution": false,
     "task": false
    },
    "tags": []
   },
   "source": [
    "7.6 - What would $X_i$ be for someone in the **app** group? What would the group model predict for someone in the app group? How do you find that information? **(1 point)**"
   ]
  },
  {
   "cell_type": "markdown",
   "metadata": {
    "application/vnd.databricks.v1+cell": {
     "cellMetadata": {},
     "inputWidgets": {},
     "nuid": "5b9347d8-ce4c-4c1c-9e54-ec448c8903c5",
     "showTitle": false,
     "title": ""
    },
    "deletable": false,
    "nbgrader": {
     "cell_type": "markdown",
     "checksum": "943f1d1546788dd059d4940744d5f084",
     "grade": true,
     "grade_id": "cell-65bbe3a9cbea71a6",
     "locked": false,
     "points": 1,
     "schema_version": 3,
     "solution": true,
     "task": false
    }
   },
   "source": [
    "> > $X_i$ would be 0 for someone in the app group. The group model would predict -5.483 for someone in the waitlist group. It can be calculated by adding -5.483 + 8.119(0)."
   ]
  },
  {
   "cell_type": "markdown",
   "metadata": {
    "application/vnd.databricks.v1+cell": {
     "cellMetadata": {},
     "inputWidgets": {},
     "nuid": "ca508742-bec0-4fb2-8876-3ed3cce5914f",
     "showTitle": false,
     "title": ""
    },
    "cell_id": "00017-a6160489-2bc5-4593-923d-b24393b96ddb",
    "deletable": false,
    "editable": false,
    "nbgrader": {
     "cell_type": "markdown",
     "checksum": "4a5d87571df4907d8c7261aaa1b4ea33",
     "grade": false,
     "grade_id": "cell-27e1900d240f7042",
     "locked": true,
     "schema_version": 3,
     "solution": false,
     "task": false
    },
    "tags": []
   },
   "source": [
    "## 8.0 - How good is this model?"
   ]
  },
  {
   "cell_type": "markdown",
   "metadata": {
    "application/vnd.databricks.v1+cell": {
     "cellMetadata": {},
     "inputWidgets": {},
     "nuid": "069b1021-0776-42fb-a677-d154d5a83e71",
     "showTitle": false,
     "title": ""
    },
    "deletable": false,
    "editable": false,
    "nbgrader": {
     "cell_type": "markdown",
     "checksum": "1de45dedcbfcf4904a5de95f5e621f92",
     "grade": false,
     "grade_id": "cell-fbfb3fb2c1eda508",
     "locked": true,
     "schema_version": 3,
     "solution": false,
     "task": false
    }
   },
   "source": [
    "8.1 - A: Save the predictions of the group model into the data frame as `$groupPred`, and save the residuals of the model as `$groupResid`. **(1 point)**"
   ]
  },
  {
   "cell_type": "code",
   "execution_count": 0,
   "metadata": {
    "application/vnd.databricks.v1+cell": {
     "cellMetadata": {},
     "inputWidgets": {},
     "nuid": "bfba7751-f56f-465d-8bdb-50ff8ae0857d",
     "showTitle": false,
     "title": ""
    },
    "deletable": false,
    "nbgrader": {
     "cell_type": "code",
     "checksum": "da8b440c624e43e5896e9e786f4958ae",
     "grade": false,
     "grade_id": "cell-fac4bc1bf11fe4b2",
     "locked": false,
     "schema_version": 3,
     "solution": true,
     "task": false
    }
   },
   "outputs": [],
   "source": [
    "mindfulness <- mindfulness %>%\n",
    "mutate(groupPred = predict(group.model))\n",
    "\n",
    "mindfulness <- mindfulness %>%\n",
    "mutate(groupResid = resid(group.model))\n"
   ]
  },
  {
   "cell_type": "code",
   "execution_count": 0,
   "metadata": {
    "application/vnd.databricks.v1+cell": {
     "cellMetadata": {},
     "inputWidgets": {},
     "nuid": "04297e95-c2d1-449f-b2de-156a621f84d1",
     "showTitle": false,
     "title": ""
    },
    "deletable": false,
    "editable": false,
    "nbgrader": {
     "cell_type": "code",
     "checksum": "31b540f3d7682b962c6e3edeb7a6436b",
     "grade": true,
     "grade_id": "cell-d08ddb260c986e00",
     "locked": true,
     "points": 1,
     "schema_version": 3,
     "solution": false,
     "task": false
    }
   },
   "outputs": [],
   "source": []
  },
  {
   "cell_type": "markdown",
   "metadata": {
    "application/vnd.databricks.v1+cell": {
     "cellMetadata": {},
     "inputWidgets": {},
     "nuid": "8e701193-4884-4815-9cb5-64a86f39e819",
     "showTitle": false,
     "title": ""
    }
   },
   "source": [
    "8.1 - B: Add the predictions from the empty model (in blue) and the group model (different color for each group) to your faceted histogram from above. What part of the visualization depicts: \n",
    "\n",
    "- the residuals from the empty model?\n",
    "- the residuals from the group model?\n",
    "- the part of the error that has been explained? Which model did the explaining? \n",
    "\n",
    "**(1.5 points)**"
   ]
  },
  {
   "cell_type": "code",
   "execution_count": 0,
   "metadata": {
    "application/vnd.databricks.v1+cell": {
     "cellMetadata": {},
     "inputWidgets": {},
     "nuid": "c549decd-460b-4dd3-98f9-bda36ef0fb5a",
     "showTitle": false,
     "title": ""
    },
    "deletable": false,
    "nbgrader": {
     "cell_type": "code",
     "checksum": "15b88e59c2357671c41832d338f3aade",
     "grade": true,
     "grade_id": "cell-9d2af9354229af6a",
     "locked": false,
     "points": 0.75,
     "schema_version": 3,
     "solution": true,
     "task": false
    }
   },
   "outputs": [],
   "source": [
    "groupPred.mean <- mindfulness %>%\n",
    "        group_by(Group) %>%\n",
    "        summarise(Mean = mean(groupPred))\n",
    "\n",
    "mindfulness %>%\n",
    "ggplot(aes(x = PSS_Dif, fill = Group)) +\n",
    "geom_histogram(bins = 10, color = \"black\", alpha = 0.4) +\n",
    "geom_vline(aes(xintercept = mean(PSS_Dif)), color = \"blue\", size = 1.7) +\n",
    "geom_vline(data = groupPred.mean, aes(xintercept = Mean, color = Group), size = 1.7) +\n",
    "facet_grid(rows = vars(Group))\n",
    "\n"
   ]
  },
  {
   "cell_type": "markdown",
   "metadata": {
    "application/vnd.databricks.v1+cell": {
     "cellMetadata": {},
     "inputWidgets": {},
     "nuid": "c08cfbde-e4da-4949-9ead-be922202d73d",
     "showTitle": false,
     "title": ""
    },
    "deletable": false,
    "nbgrader": {
     "cell_type": "markdown",
     "checksum": "411153b7b6522c0a7b619a8726c0e928",
     "grade": true,
     "grade_id": "cell-1e658d2fb1b5b279",
     "locked": false,
     "points": 0.75,
     "schema_version": 3,
     "solution": true,
     "task": false
    }
   },
   "source": [
    "> The residuals from the empty model are depicted by the distance between each bar and the blue line. The residuals from the group model for the app group are depicted by the distance between each bar and the red line. The residuals from the group model for the waitlist group are depicted by the distance between each bar and the turquoise line. The part of error that has been explained is the distance between the blue line and the group prediction line for each group. The group model did the explaining."
   ]
  },
  {
   "cell_type": "markdown",
   "metadata": {
    "application/vnd.databricks.v1+cell": {
     "cellMetadata": {},
     "inputWidgets": {},
     "nuid": "12e73bf0-ceeb-40ef-a453-376050e8e0c2",
     "showTitle": false,
     "title": ""
    },
    "cell_id": "00024-b2e02d90-03dc-4047-b603-bd77714a0849",
    "deletable": false,
    "editable": false,
    "nbgrader": {
     "cell_type": "markdown",
     "checksum": "4ba319c14dcd67f288c2d6885d11223c",
     "grade": false,
     "grade_id": "cell-b2d43b9694b13d99",
     "locked": true,
     "schema_version": 3,
     "solution": false,
     "task": false
    },
    "tags": []
   },
   "source": [
    "8.2 - Why do we quantify error in this model with the sum of squares rather than the sum of the residuals? **(1 point)**"
   ]
  },
  {
   "cell_type": "markdown",
   "metadata": {
    "application/vnd.databricks.v1+cell": {
     "cellMetadata": {},
     "inputWidgets": {},
     "nuid": "a37e9dfc-5599-4fa5-932e-99383362c9e0",
     "showTitle": false,
     "title": ""
    },
    "deletable": false,
    "nbgrader": {
     "cell_type": "markdown",
     "checksum": "e6df096ce0e96d645f5d759ba8fb22a1",
     "grade": true,
     "grade_id": "cell-3aa1876f44d4caf4",
     "locked": false,
     "points": 1,
     "schema_version": 3,
     "solution": true,
     "task": false
    }
   },
   "source": [
    "> This model is quantified with sum of squares because sum of squares model represents the variation explained by the group model and leaves us with sum of sqaures error which tells us how much variation is left unexplained."
   ]
  },
  {
   "cell_type": "markdown",
   "metadata": {
    "application/vnd.databricks.v1+cell": {
     "cellMetadata": {},
     "inputWidgets": {},
     "nuid": "fe620b11-4740-4722-acb9-5c784867a63d",
     "showTitle": false,
     "title": ""
    },
    "cell_id": "00026-f96223c6-f781-4cbc-ad43-94fae25e55ca",
    "deletable": false,
    "editable": false,
    "nbgrader": {
     "cell_type": "markdown",
     "checksum": "2c4a301981f067457a6dc8bae5559167",
     "grade": false,
     "grade_id": "cell-bbb176110dd249d8",
     "locked": true,
     "schema_version": 3,
     "solution": false,
     "task": false
    },
    "tags": []
   },
   "source": [
    "8.3 - Now run `anova()` or `supernova()` on the group model. Find the three sums of squares.\n",
    " \n",
    "- Which tells us the SS (the leftover error) in the empty model? Save the value rounded to 2 decimal places to an object called `SS.empty`.\n",
    "- Which tells us the SS (the leftover error) in the group model? Save the value rounded to 2 decimal places to an object called `SS.unexplained`.\n",
    "- Which tells us how much of the error has been explained by the group model? Save the value rounded to 2 decimal places to an object called `SS.explained`.\n",
    "\n",
    "**(1.5 points)**"
   ]
  },
  {
   "cell_type": "code",
   "execution_count": 0,
   "metadata": {
    "application/vnd.databricks.v1+cell": {
     "cellMetadata": {},
     "inputWidgets": {},
     "nuid": "c743a881-229b-4e46-8742-8a3682b3e469",
     "showTitle": false,
     "title": ""
    },
    "deletable": false,
    "nbgrader": {
     "cell_type": "code",
     "checksum": "13b3095356bc3063790fa62ef52ee4cb",
     "grade": false,
     "grade_id": "cell-1bfcf7721f6a2ed8",
     "locked": false,
     "schema_version": 3,
     "solution": true,
     "task": false
    }
   },
   "outputs": [],
   "source": [
    "anova.mindfulness <- anova(group.model)\n",
    "anova.mindfulness\n",
    "\n",
    "SS.empty <- anova.mindfulness[[2]][1] + anova.mindfulness[[2]][2]\n",
    "SS.empty <- format(round(SS.empty, 2), nsmall = 2) %>%\n",
    "as.numeric()\n",
    "SS.empty\n",
    "\n",
    "SS.unexplained <- sum(resid(group.model)^2)\n",
    "SS.unexplained <- format(round(SS.unexplained, 2), nsmall = 2) %>%\n",
    "as.numeric()\n",
    "SS.unexplained\n",
    "\n",
    "SS.explained <- sum((predict(group.model) - mean(mindfulness$PSS_Dif))^2) \n",
    "SS.explained <- format(round(SS.explained, 2), nsmall = 2) %>%\n",
    "as.numeric()\n",
    "SS.explained\n"
   ]
  },
  {
   "cell_type": "code",
   "execution_count": 0,
   "metadata": {
    "application/vnd.databricks.v1+cell": {
     "cellMetadata": {},
     "inputWidgets": {},
     "nuid": "7b0966f1-87e5-4d66-9383-77655548d2e8",
     "showTitle": false,
     "title": ""
    },
    "deletable": false,
    "editable": false,
    "nbgrader": {
     "cell_type": "code",
     "checksum": "d522d31f150ae8ef146ef28308fe8d55",
     "grade": true,
     "grade_id": "cell-f20e5e908548b8e6",
     "locked": true,
     "points": 0.75,
     "schema_version": 3,
     "solution": false,
     "task": false
    }
   },
   "outputs": [],
   "source": []
  },
  {
   "cell_type": "markdown",
   "metadata": {
    "application/vnd.databricks.v1+cell": {
     "cellMetadata": {},
     "inputWidgets": {},
     "nuid": "dd63f4ec-add6-4a53-9a7c-b29c9cc2e81f",
     "showTitle": false,
     "title": ""
    },
    "deletable": false,
    "nbgrader": {
     "cell_type": "markdown",
     "checksum": "798611482819a06d3b72b7a7bfe5df08",
     "grade": true,
     "grade_id": "cell-8b49519fff98b76b",
     "locked": false,
     "points": 0.75,
     "schema_version": 3,
     "solution": true,
     "task": false
    }
   },
   "source": [
    "> - The sum of the Sum Sq Group and Sum Sq Residuals tells us the SS in the empty model (3302.39).\n",
    "> - Sum Sq Residuals tells us the SS in the group model (2284.88). \n",
    "> - The Sum Sq Group tells us how much of the error has been explained by the group model (1017.51)."
   ]
  },
  {
   "cell_type": "markdown",
   "metadata": {
    "application/vnd.databricks.v1+cell": {
     "cellMetadata": {},
     "inputWidgets": {},
     "nuid": "4dd490ea-0bf9-4a26-bccf-b877a1ca82d6",
     "showTitle": false,
     "title": ""
    },
    "cell_id": "00028-f7d716ef-dfcd-4e13-ae7f-d6d19cf4a12a",
    "deletable": false,
    "editable": false,
    "nbgrader": {
     "cell_type": "markdown",
     "checksum": "9dfb9858032dc5ce6f4602f958338b50",
     "grade": false,
     "grade_id": "cell-bdf9245d8d1b3b27",
     "locked": true,
     "schema_version": 3,
     "solution": false,
     "task": false
    },
    "tags": []
   },
   "source": [
    "8.4 - What is the relationship between SS Model, SS Error, and SS Total? Take a look at the word equation for the group hypothesis. Any similarities? **(1 point)**"
   ]
  },
  {
   "cell_type": "markdown",
   "metadata": {
    "application/vnd.databricks.v1+cell": {
     "cellMetadata": {},
     "inputWidgets": {},
     "nuid": "1759e8f9-aba3-40d8-904c-fb1de712378d",
     "showTitle": false,
     "title": ""
    },
    "deletable": false,
    "nbgrader": {
     "cell_type": "markdown",
     "checksum": "5302087c128a7808c39d79826f3b4e90",
     "grade": true,
     "grade_id": "cell-96b00eb86e7a840a",
     "locked": false,
     "points": 1,
     "schema_version": 3,
     "solution": true,
     "task": false
    }
   },
   "source": [
    "> SS Total is the sum of SS Model and SS Error. Looking at the word equation for the group model, SS Model is similar to `Group` because `Group` is the explantory variable and SS Model is explained variation. SS Error is similar to `other stuff`, because SS Error is unexplained error and other stuff is unexplained variation."
   ]
  },
  {
   "cell_type": "markdown",
   "metadata": {
    "application/vnd.databricks.v1+cell": {
     "cellMetadata": {},
     "inputWidgets": {},
     "nuid": "b814360a-c64c-47c7-80ee-90269a265c65",
     "showTitle": false,
     "title": ""
    },
    "cell_id": "00036-c5e11f46-5430-4cdf-9e82-82eb0c025b49",
    "deletable": false,
    "editable": false,
    "nbgrader": {
     "cell_type": "markdown",
     "checksum": "9056f4ebb8bb2a8a3782d0088f311309",
     "grade": false,
     "grade_id": "cell-d7a9c9a95bd77b80",
     "locked": true,
     "schema_version": 3,
     "solution": false,
     "task": false
    },
    "tags": []
   },
   "source": [
    "8.5 - What is the relationship between PRE and the different sums of squares? **(1 point)**"
   ]
  },
  {
   "cell_type": "markdown",
   "metadata": {
    "application/vnd.databricks.v1+cell": {
     "cellMetadata": {},
     "inputWidgets": {},
     "nuid": "9f603eaf-94f5-4a90-af64-5f17880eaa74",
     "showTitle": false,
     "title": ""
    },
    "deletable": false,
    "nbgrader": {
     "cell_type": "markdown",
     "checksum": "3cb2b725b727dce6cb443f3b4b448bd1",
     "grade": true,
     "grade_id": "cell-6622b97458481923",
     "locked": false,
     "points": 1,
     "schema_version": 3,
     "solution": true,
     "task": false
    }
   },
   "source": [
    "> PRE is the  proportion of the total error from the empty model that can be explained by explanatory variables in the group model, so it is equal to SS Model / SS Total."
   ]
  },
  {
   "cell_type": "markdown",
   "metadata": {
    "application/vnd.databricks.v1+cell": {
     "cellMetadata": {},
     "inputWidgets": {},
     "nuid": "f2082647-bc84-4f8e-810f-8be88c5c052d",
     "showTitle": false,
     "title": ""
    },
    "cell_id": "00029-8588fd30-ee6e-4b7b-9187-10d007f7d68d",
    "deletable": false,
    "editable": false,
    "nbgrader": {
     "cell_type": "markdown",
     "checksum": "dedcaf2800fb6bcb3844b2732b38208b",
     "grade": false,
     "grade_id": "cell-b8d5adf9f54990bb",
     "locked": true,
     "schema_version": 3,
     "solution": false,
     "task": false
    },
    "tags": []
   },
   "source": [
    "8.6 - Interpret the PRE for the group model. Is that a lot? Is that a little? Is it hard to tell? **(1 point)**"
   ]
  },
  {
   "cell_type": "markdown",
   "metadata": {
    "application/vnd.databricks.v1+cell": {
     "cellMetadata": {},
     "inputWidgets": {},
     "nuid": "bfcc1225-5df2-43bb-a53e-e080423ad7e0",
     "showTitle": false,
     "title": ""
    },
    "deletable": false,
    "nbgrader": {
     "cell_type": "markdown",
     "checksum": "187e34098b7dcfe4ba1c9ef004ee6d66",
     "grade": true,
     "grade_id": "cell-d7ee1149a94cb57c",
     "locked": false,
     "points": 1,
     "schema_version": 3,
     "solution": true,
     "task": false
    }
   },
   "source": [
    "> PRE for the group model is 0.31. It means 31% of the variation in `PSS_Dif` scores can be explained by `Group`. It is not a little, but it is hard to tell its significance. The effect size can be better analyzed by calculating Cohen's D."
   ]
  },
  {
   "cell_type": "markdown",
   "metadata": {
    "application/vnd.databricks.v1+cell": {
     "cellMetadata": {},
     "inputWidgets": {},
     "nuid": "e5583310-a15f-4238-aebe-9bec71cb872a",
     "showTitle": false,
     "title": ""
    },
    "cell_id": "00030-dc8f5fca-101d-47dc-a1ed-d747bfbf5bc8",
    "deletable": false,
    "editable": false,
    "nbgrader": {
     "cell_type": "markdown",
     "checksum": "ae28658237a6746b700911b4b2ebeeaf",
     "grade": false,
     "grade_id": "cell-b5c7c9b933eee37f",
     "locked": true,
     "schema_version": 3,
     "solution": false,
     "task": false
    },
    "tags": []
   },
   "source": [
    "8.7 - Is it likely that we could have gotten this PRE from a random process \n",
    "(where these groups are essentially the same but they are just a little \n",
    "different because of randomness)? Explain your answer. **(1 point)**"
   ]
  },
  {
   "cell_type": "markdown",
   "metadata": {
    "application/vnd.databricks.v1+cell": {
     "cellMetadata": {},
     "inputWidgets": {},
     "nuid": "6eb58608-3f91-4c12-92ac-f7b9bc79fccc",
     "showTitle": false,
     "title": ""
    },
    "deletable": false,
    "nbgrader": {
     "cell_type": "markdown",
     "checksum": "439fa1c2baf4af6fb6817da703cb2e51",
     "grade": true,
     "grade_id": "cell-c215f9be89513bc0",
     "locked": false,
     "points": 1,
     "schema_version": 3,
     "solution": true,
     "task": false
    }
   },
   "source": [
    "> It is unlikley that this PRE could have resulted from a random process because it is not a low value, but it is possible due to sampling variation and a small sample size."
   ]
  },
  {
   "cell_type": "markdown",
   "metadata": {
    "application/vnd.databricks.v1+cell": {
     "cellMetadata": {},
     "inputWidgets": {},
     "nuid": "802d1f3b-43a3-431e-a8c7-3982118a7848",
     "showTitle": false,
     "title": ""
    },
    "deletable": false,
    "editable": false,
    "nbgrader": {
     "cell_type": "markdown",
     "checksum": "1de1062051a1c3ac96cd761646a92c22",
     "grade": false,
     "grade_id": "cell-e2090656fa62663e",
     "locked": true,
     "schema_version": 3,
     "solution": false,
     "task": false
    }
   },
   "source": [
    "## 9.0 - More Than 2 Groups"
   ]
  },
  {
   "cell_type": "markdown",
   "metadata": {
    "application/vnd.databricks.v1+cell": {
     "cellMetadata": {},
     "inputWidgets": {},
     "nuid": "66d58b1d-5d19-403b-a4c1-510eeaaf5ae8",
     "showTitle": false,
     "title": ""
    },
    "deletable": false,
    "editable": false,
    "nbgrader": {
     "cell_type": "markdown",
     "checksum": "11fbbbaa91e6856cd86ffa19d9d5dec5",
     "grade": false,
     "grade_id": "cell-c4d4189532fcf3b7",
     "locked": true,
     "schema_version": 3,
     "solution": false,
     "task": false
    }
   },
   "source": [
    "9.1 Let's now consider another question with this data. Maybe `Age` is important. Let's consider whether satisfaction with life change `SWLS_Dif` is explained by participant's `Age`.\n",
    "\n",
    "1. Write this as a word equation.\n",
    "2. What is wrong with using `Age` as is?\n",
    "\n",
    "**(1 point)**"
   ]
  },
  {
   "cell_type": "markdown",
   "metadata": {
    "application/vnd.databricks.v1+cell": {
     "cellMetadata": {},
     "inputWidgets": {},
     "nuid": "7a5dd4db-4363-4e2c-8f1b-ed3f1825b9d4",
     "showTitle": false,
     "title": ""
    },
    "deletable": false,
    "nbgrader": {
     "cell_type": "markdown",
     "checksum": "5d42cf1798cc7591362d032a2c324bc4",
     "grade": true,
     "grade_id": "cell-342c1e12d51a1eff",
     "locked": false,
     "points": 1,
     "schema_version": 3,
     "solution": true,
     "task": false
    }
   },
   "source": [
    "> `SWLS_Dif` = `Age` + other stuff\n",
    "> - Age is a quantitative variable so it would need to be coded into groups."
   ]
  },
  {
   "cell_type": "markdown",
   "metadata": {
    "application/vnd.databricks.v1+cell": {
     "cellMetadata": {},
     "inputWidgets": {},
     "nuid": "06f94471-c8c6-42c5-9134-dbdd193bed5a",
     "showTitle": false,
     "title": ""
    },
    "deletable": false,
    "editable": false,
    "nbgrader": {
     "cell_type": "markdown",
     "checksum": "c991b3b0fe70bbe151af6fec90668aeb",
     "grade": false,
     "grade_id": "cell-6266f10f217701b9",
     "locked": true,
     "schema_version": 3,
     "solution": false,
     "task": false
    }
   },
   "source": [
    "9.2 Use some R code to create 3 distinct groups for `Age` with the levels `low`, `medium`, and `high`, and save it in the dataframe as a variable called `$Age3`. **(0.5 points)**"
   ]
  },
  {
   "cell_type": "code",
   "execution_count": 0,
   "metadata": {
    "application/vnd.databricks.v1+cell": {
     "cellMetadata": {},
     "inputWidgets": {},
     "nuid": "4de37684-a388-4569-88f2-8045fcada0cf",
     "showTitle": false,
     "title": ""
    },
    "deletable": false,
    "nbgrader": {
     "cell_type": "code",
     "checksum": "d7b4791408a8ce29a1f4daaa3fe0cd6a",
     "grade": false,
     "grade_id": "cell-9172df18d0e0ed5c",
     "locked": false,
     "schema_version": 3,
     "solution": true,
     "task": false
    }
   },
   "outputs": [],
   "source": [
    "mindfulness$Age3 <- ntile(mindfulness$Age, 3)\n",
    "\n",
    "mindfulness <- mindfulness %>%\n",
    "mutate(Age3 = factor(mindfulness$Age3, levels = 1:3, labels = c(\"low\", \"medium\", \"high\")))\n"
   ]
  },
  {
   "cell_type": "code",
   "execution_count": 0,
   "metadata": {
    "application/vnd.databricks.v1+cell": {
     "cellMetadata": {},
     "inputWidgets": {},
     "nuid": "4adfe099-a310-42ac-99f4-76a10ac90ec5",
     "showTitle": false,
     "title": ""
    },
    "deletable": false,
    "editable": false,
    "nbgrader": {
     "cell_type": "code",
     "checksum": "49bf4d06acd2af5b1e895e640da1adae",
     "grade": true,
     "grade_id": "cell-3d8b746ef711228f",
     "locked": true,
     "points": 0.5,
     "schema_version": 3,
     "solution": false,
     "task": false
    }
   },
   "outputs": [],
   "source": []
  },
  {
   "cell_type": "markdown",
   "metadata": {
    "application/vnd.databricks.v1+cell": {
     "cellMetadata": {},
     "inputWidgets": {},
     "nuid": "a633fa50-1204-4f08-bab0-878ad2090329",
     "showTitle": false,
     "title": ""
    },
    "deletable": false,
    "editable": false,
    "nbgrader": {
     "cell_type": "markdown",
     "checksum": "511f330f56a3ed7542250c7487a11de6",
     "grade": false,
     "grade_id": "cell-0b61a678273bacdb",
     "locked": true,
     "schema_version": 3,
     "solution": false,
     "task": false
    }
   },
   "source": [
    "9.3 Fit a model predicting `SWLS_Dif` from `Age3` and save it to a variable called `model.Age3`. Then use this model to make predictions for each participant, and save them to the dataframe as a variable called `$Age3pred`. **(1 point)**"
   ]
  },
  {
   "cell_type": "code",
   "execution_count": 0,
   "metadata": {
    "application/vnd.databricks.v1+cell": {
     "cellMetadata": {},
     "inputWidgets": {},
     "nuid": "69319acb-62d3-4167-b99c-767b4a20d67c",
     "showTitle": false,
     "title": ""
    },
    "deletable": false,
    "nbgrader": {
     "cell_type": "code",
     "checksum": "98a3b5f1c4d6d1b169d2f738a08be8b3",
     "grade": false,
     "grade_id": "cell-7f79d66084143efe",
     "locked": false,
     "schema_version": 3,
     "solution": true,
     "task": false
    }
   },
   "outputs": [],
   "source": [
    "model.Age3 <- lm(SWLS_Dif ~ Age3, data = mindfulness)\n",
    "model.Age3\n",
    "\n",
    "mindfulness <- mindfulness %>%\n",
    "mutate(Age3pred = predict(model.Age3))\n"
   ]
  },
  {
   "cell_type": "code",
   "execution_count": 0,
   "metadata": {
    "application/vnd.databricks.v1+cell": {
     "cellMetadata": {},
     "inputWidgets": {},
     "nuid": "e8ee66f6-60f1-4320-9ab1-c9e69f8009af",
     "showTitle": false,
     "title": ""
    },
    "deletable": false,
    "editable": false,
    "nbgrader": {
     "cell_type": "code",
     "checksum": "6428728edbad42670359ed7fc03a427b",
     "grade": true,
     "grade_id": "cell-91b7af710d240342",
     "locked": true,
     "points": 1,
     "schema_version": 3,
     "solution": false,
     "task": false
    }
   },
   "outputs": [],
   "source": []
  },
  {
   "cell_type": "markdown",
   "metadata": {
    "application/vnd.databricks.v1+cell": {
     "cellMetadata": {},
     "inputWidgets": {},
     "nuid": "45555f4e-fa84-468f-852d-4554bf5c95ed",
     "showTitle": false,
     "title": ""
    }
   },
   "source": [
    "9.4 Create a visualization to represent the variation in `SWLS_Dif` by `Age3`. Include the actual data and the predicted values. \n",
    "\n",
    "*HINT: make sure you can identify the actual data*\n",
    "\n",
    "**(0.5 points)**"
   ]
  },
  {
   "cell_type": "code",
   "execution_count": 0,
   "metadata": {
    "application/vnd.databricks.v1+cell": {
     "cellMetadata": {},
     "inputWidgets": {},
     "nuid": "ae30d730-eafe-4381-b232-e82afdf6c6e7",
     "showTitle": false,
     "title": ""
    },
    "deletable": false,
    "nbgrader": {
     "cell_type": "code",
     "checksum": "b0b96522a5a6449f1a4ed9901afffa74",
     "grade": true,
     "grade_id": "cell-09d03c09c419d19f",
     "locked": false,
     "points": 0.5,
     "schema_version": 3,
     "solution": true,
     "task": false
    }
   },
   "outputs": [],
   "source": [
    "groupPred.mean.Age3 <- mindfulness %>%\n",
    "        group_by(Age3) %>%\n",
    "        summarise(Mean.Age3pred = mean(Age3pred))\n",
    "\n",
    "mindfulness %>%\n",
    "ggplot(aes(x = SWLS_Dif, fill = Age3)) +\n",
    "geom_histogram(bins = 10, color = \"black\") +\n",
    "geom_vline(data = groupPred.mean.Age3, aes(xintercept = Mean.Age3pred), size = 1) +\n",
    "facet_grid(rows = vars(Age3))"
   ]
  },
  {
   "cell_type": "markdown",
   "metadata": {
    "application/vnd.databricks.v1+cell": {
     "cellMetadata": {},
     "inputWidgets": {},
     "nuid": "b63fea83-e19a-4f70-8e40-1b15a896eacb",
     "showTitle": false,
     "title": ""
    },
    "deletable": false,
    "editable": false,
    "nbgrader": {
     "cell_type": "markdown",
     "checksum": "414704ac6600ed5a632d0c6a4bf3dfc7",
     "grade": false,
     "grade_id": "cell-ea1af5848a928476",
     "locked": true,
     "schema_version": 3,
     "solution": false,
     "task": false
    }
   },
   "source": [
    "9.5 Print out the parameter estimates from the model. What does $b_0$ tell us? How about $b_1$ and $b_2$? \n",
    "What part of the graph above corresponds to these numbers? **(2 points)**"
   ]
  },
  {
   "cell_type": "markdown",
   "metadata": {
    "application/vnd.databricks.v1+cell": {
     "cellMetadata": {},
     "inputWidgets": {},
     "nuid": "d7190e85-b335-4560-8142-7e870f162988",
     "showTitle": false,
     "title": ""
    },
    "deletable": false,
    "nbgrader": {
     "cell_type": "markdown",
     "checksum": "506627ea6eb3578b4050440a4984d43a",
     "grade": true,
     "grade_id": "cell-6144b627de909067",
     "locked": false,
     "points": 2,
     "schema_version": 3,
     "solution": true,
     "task": false
    }
   },
   "source": [
    "> - $b_0$ tells us the mean `SWLS_Dif` score of people in the low age group. It is 0.04762\n",
    "> - $b_1$ tells us how far away the mean `SWLS_Dif` score of people in the medium age group is away from that of the low age group. Since $b_1$ is 2.52381, the mean `SWLS_Dif` of the medium age group is 0.04762 + 2.52381 = 2.57143.\n",
    "> - $b_2$ tells us how far away the mean `SWLS_Dif` score of people in the high age group is away from that of the low age group. Since $b_2$ is 2.65238 , the mean `SWLS_Dif` of the medium age group is 0.04762 + 2.65238  = 2.7.\n",
    "> - The predicted values are the black lines. $b_0$ is the line on the low age graph. $b_1$ is the distance between the black lines on the low age graph and the medium age graph. $b_2$ is the distance between the black lines on the low age graph and the high age graph. "
   ]
  },
  {
   "cell_type": "markdown",
   "metadata": {
    "application/vnd.databricks.v1+cell": {
     "cellMetadata": {},
     "inputWidgets": {},
     "nuid": "9e7a271a-ae04-4cfe-854a-71734baba091",
     "showTitle": false,
     "title": ""
    },
    "deletable": false,
    "editable": false,
    "nbgrader": {
     "cell_type": "markdown",
     "checksum": "019425747dd84811160fd6b76d4747e1",
     "grade": false,
     "grade_id": "cell-54cc14af4c6a75ee",
     "locked": true,
     "schema_version": 3,
     "solution": false,
     "task": false
    }
   },
   "source": [
    "9.6 Run `anova()` or `supernova()` on the `Age3` model. How does the PRE compare to a 2-group model? *(Hint: you need to make a new model to answer this.)* **(0.5 points)**"
   ]
  },
  {
   "cell_type": "code",
   "execution_count": 0,
   "metadata": {
    "application/vnd.databricks.v1+cell": {
     "cellMetadata": {},
     "inputWidgets": {},
     "nuid": "8a4cb339-ff22-4606-b949-33e1eac8c8d7",
     "showTitle": false,
     "title": ""
    }
   },
   "outputs": [],
   "source": [
    "mindfulness$Age2 <- ntile(mindfulness$Age, 2)\n",
    "\n",
    "mindfulness <- mindfulness %>%\n",
    "mutate(Age2 = factor(mindfulness$Age2, levels = 1:2, labels = c(\"low\", \"high\")))\n",
    "\n",
    "model.Age2 <- lm(SWLS_Dif ~ Age2, data = mindfulness)\n",
    "\n",
    "anova(model.Age3)\n",
    "anova(model.Age2)\n"
   ]
  },
  {
   "cell_type": "markdown",
   "metadata": {
    "application/vnd.databricks.v1+cell": {
     "cellMetadata": {},
     "inputWidgets": {},
     "nuid": "6e13dba7-e138-4a41-8355-5558917deef2",
     "showTitle": false,
     "title": ""
    },
    "deletable": false,
    "nbgrader": {
     "cell_type": "markdown",
     "checksum": "50c666808c4478aa524267d8d996e3e6",
     "grade": true,
     "grade_id": "cell-4958d034ba1ae257",
     "locked": false,
     "points": 0.5,
     "schema_version": 3,
     "solution": true,
     "task": false
    }
   },
   "source": [
    "> The PRE for the 3-group model is higher than that of the 2-group model. This means that more variation is explained by 3-group model."
   ]
  },
  {
   "cell_type": "markdown",
   "metadata": {
    "application/vnd.databricks.v1+cell": {
     "cellMetadata": {},
     "inputWidgets": {},
     "nuid": "803b707c-c450-4d04-907a-9f586819cd3e",
     "showTitle": false,
     "title": ""
    },
    "deletable": false,
    "editable": false,
    "nbgrader": {
     "cell_type": "markdown",
     "checksum": "3b57e1689ca2363221e9b92c7bb248df",
     "grade": false,
     "grade_id": "cell-ca7ad59e36628695",
     "locked": true,
     "schema_version": 3,
     "solution": false,
     "task": false
    }
   },
   "source": [
    "9.7 - A: Create a variable called `$Age20` with 20 distinct groups for `Age` (no need to name them), use it in a model to generate predictions (save to `$Age20pred`). **(0.5 points)**"
   ]
  },
  {
   "cell_type": "code",
   "execution_count": 0,
   "metadata": {
    "application/vnd.databricks.v1+cell": {
     "cellMetadata": {},
     "inputWidgets": {},
     "nuid": "5b0dcb49-4b71-40ad-b844-a6e4103551e0",
     "showTitle": false,
     "title": ""
    },
    "deletable": false,
    "nbgrader": {
     "cell_type": "code",
     "checksum": "3b670666b1218c939a8af3ea67be350e",
     "grade": false,
     "grade_id": "cell-c4419b251ad55189",
     "locked": false,
     "schema_version": 3,
     "solution": true,
     "task": false
    }
   },
   "outputs": [],
   "source": [
    "mindfulness$Age20 <- ntile(mindfulness$Age, 20)\n",
    "model.Age20 <- lm(SWLS_Dif ~ Age20, data = mindfulness)\n",
    "\n",
    "mindfulness <- mindfulness %>%\n",
    "mutate(Age20pred = predict(model.Age20))\n",
    "\n",
    "mindfulness\n"
   ]
  },
  {
   "cell_type": "code",
   "execution_count": 0,
   "metadata": {
    "application/vnd.databricks.v1+cell": {
     "cellMetadata": {},
     "inputWidgets": {},
     "nuid": "f874014d-e29c-4b28-b9b9-77e6aaf6f195",
     "showTitle": false,
     "title": ""
    },
    "deletable": false,
    "editable": false,
    "nbgrader": {
     "cell_type": "code",
     "checksum": "00891a0edad48801c30c88e562a0dea3",
     "grade": true,
     "grade_id": "cell-f4be40ef7bd45604",
     "locked": true,
     "points": 0.5,
     "schema_version": 3,
     "solution": false,
     "task": false
    }
   },
   "outputs": [],
   "source": []
  },
  {
   "cell_type": "markdown",
   "metadata": {
    "application/vnd.databricks.v1+cell": {
     "cellMetadata": {},
     "inputWidgets": {},
     "nuid": "0f2ec2b1-e266-48c6-95a5-873e9baefce0",
     "showTitle": false,
     "title": ""
    },
    "deletable": false,
    "editable": false,
    "nbgrader": {
     "cell_type": "markdown",
     "checksum": "6897f0edf2e95896f463a277fa6e74ce",
     "grade": false,
     "grade_id": "cell-8f1cc99bdd0ddfa5",
     "locked": true,
     "schema_version": 3,
     "solution": false,
     "task": false
    }
   },
   "source": [
    "9.7 - B: Create a visualization to represent the variation in `SWLS_Dif` by `Age20`. Include the actual data and the predicted values. **(0.5 points)**"
   ]
  },
  {
   "cell_type": "code",
   "execution_count": 0,
   "metadata": {
    "application/vnd.databricks.v1+cell": {
     "cellMetadata": {},
     "inputWidgets": {},
     "nuid": "08898e08-9df2-4804-aae6-1ed63041e337",
     "showTitle": false,
     "title": ""
    },
    "deletable": false,
    "nbgrader": {
     "cell_type": "code",
     "checksum": "37df7737b25d20dfcdb48a18d6226e0c",
     "grade": true,
     "grade_id": "cell-993e508c03c58a67",
     "locked": false,
     "points": 0.5,
     "schema_version": 3,
     "solution": true,
     "task": false
    }
   },
   "outputs": [],
   "source": [
    "groupPred.mean.Age20 <- mindfulness %>%\n",
    "        group_by(Age20) %>%\n",
    "        summarise(Mean.Age20pred = mean(Age20pred))\n",
    "\n",
    "mindfulness %>%\n",
    "ggplot(aes(x = SWLS_Dif, fill = Age20)) +\n",
    "geom_histogram(bins = 10, color = \"black\") +\n",
    "geom_vline(data = groupPred.mean.Age20, aes(xintercept = Mean.Age20pred), size = 1) +\n",
    "facet_grid(rows = vars(Age20))\n",
    "\n",
    "anova(model.Age20)"
   ]
  },
  {
   "cell_type": "markdown",
   "metadata": {
    "application/vnd.databricks.v1+cell": {
     "cellMetadata": {},
     "inputWidgets": {},
     "nuid": "0993be92-0aed-4280-aa64-19b581b20c4f",
     "showTitle": false,
     "title": ""
    },
    "cell_id": "00048-cd957007-83a9-46d8-8f00-45ec0215ad3d",
    "deletable": false,
    "editable": false,
    "nbgrader": {
     "cell_type": "markdown",
     "checksum": "75b6322853aa7a35ad355120b03ac55e",
     "grade": false,
     "grade_id": "cell-dd6d1554a02ced08",
     "locked": true,
     "schema_version": 3,
     "solution": false,
     "task": false
    },
    "output_cleared": false,
    "tags": []
   },
   "source": [
    "9.8 - How many more parameter estimates (the $b$s) will this model have compared to the empty model? How can you tell? **(1 point)**"
   ]
  },
  {
   "cell_type": "markdown",
   "metadata": {
    "application/vnd.databricks.v1+cell": {
     "cellMetadata": {},
     "inputWidgets": {},
     "nuid": "731d9121-03df-4cb1-9dab-04c7903e5a3a",
     "showTitle": false,
     "title": ""
    },
    "deletable": false,
    "nbgrader": {
     "cell_type": "markdown",
     "checksum": "9d98c44ae9702876f7f2e14800a6badb",
     "grade": true,
     "grade_id": "cell-7ab8bb8fa5c2ea5c",
     "locked": false,
     "points": 1,
     "schema_version": 3,
     "solution": true,
     "task": false
    }
   },
   "source": [
    "> The empty model is estimating one parameter: $b_0$. The `Age20` model is estimating 20 parameters: $b_0$, $b_1$, $b_2$, $b_3$, etc. Therefore this model will have 19 more paramenter estimates than the empty model."
   ]
  },
  {
   "cell_type": "markdown",
   "metadata": {
    "application/vnd.databricks.v1+cell": {
     "cellMetadata": {},
     "inputWidgets": {},
     "nuid": "e6ceb5b3-10f9-4259-9d8d-893d34c59b43",
     "showTitle": false,
     "title": ""
    },
    "cell_id": "00052-85b1c6c0-1f05-41a9-afa5-0e75ca244533",
    "deletable": false,
    "editable": false,
    "nbgrader": {
     "cell_type": "markdown",
     "checksum": "ef3df073304f41852fc17afef7eeba23",
     "grade": false,
     "grade_id": "cell-a9c596724183501f",
     "locked": true,
     "schema_version": 3,
     "solution": false,
     "task": false
    },
    "output_cleared": false,
    "tags": []
   },
   "source": [
    "## 10.0 - Comparing Models and the F Ratio"
   ]
  },
  {
   "cell_type": "markdown",
   "metadata": {
    "application/vnd.databricks.v1+cell": {
     "cellMetadata": {},
     "inputWidgets": {},
     "nuid": "1125bb23-76d7-4c38-9738-4c7299d5935e",
     "showTitle": false,
     "title": ""
    },
    "cell_id": "00053-396a83f7-d98f-4fe5-99e3-6f905e908f38",
    "deletable": false,
    "editable": false,
    "nbgrader": {
     "cell_type": "markdown",
     "checksum": "516b42fd7f6a78e95d255403c1a73ee9",
     "grade": false,
     "grade_id": "cell-e3386a011bc86095",
     "locked": true,
     "schema_version": 3,
     "solution": false,
     "task": false
    },
    "output_cleared": false,
    "tags": []
   },
   "source": [
    "10.1 - Compare the anova output of the models you created above (`Age3`, `Age20`, and the model with 2 groups for `Age`).Which model explains more error? Which model is least likely to be well-explained by a random DGP? **(1 point)**"
   ]
  },
  {
   "cell_type": "markdown",
   "metadata": {
    "application/vnd.databricks.v1+cell": {
     "cellMetadata": {},
     "inputWidgets": {},
     "nuid": "dff1e10f-3f67-4cc7-898d-9b9cbca563b3",
     "showTitle": false,
     "title": ""
    },
    "deletable": false,
    "nbgrader": {
     "cell_type": "markdown",
     "checksum": "086b92b1a670ac13b1c7abc3e968cf32",
     "grade": true,
     "grade_id": "cell-4242699e73522e5d",
     "locked": false,
     "points": 1,
     "schema_version": 3,
     "solution": true,
     "task": false
    }
   },
   "source": [
    "> The Age20 model explains more error because it has a higher PRE. The Age20 model is least likely to be well-explained by a random DGP because it has the smallest sum of squares error."
   ]
  },
  {
   "cell_type": "markdown",
   "metadata": {
    "application/vnd.databricks.v1+cell": {
     "cellMetadata": {},
     "inputWidgets": {},
     "nuid": "f309958c-1485-40d8-93b5-7a29e934c4d0",
     "showTitle": false,
     "title": ""
    },
    "cell_id": "00055-4baa8543-06ba-44bd-85a9-ec7c083db81e",
    "deletable": false,
    "editable": false,
    "nbgrader": {
     "cell_type": "markdown",
     "checksum": "2ba43dc5012e03c8db574ffddfbf03ec",
     "grade": false,
     "grade_id": "cell-4bac9d201a2d8996",
     "locked": true,
     "schema_version": 3,
     "solution": false,
     "task": false
    },
    "output_cleared": false,
    "tags": []
   },
   "source": [
    "10.2 - Why is F smaller in the `Age20` model? **(1 point)**"
   ]
  },
  {
   "cell_type": "markdown",
   "metadata": {
    "application/vnd.databricks.v1+cell": {
     "cellMetadata": {},
     "inputWidgets": {},
     "nuid": "af4cacb0-01e5-44ad-82d6-c122547b5db6",
     "showTitle": false,
     "title": ""
    },
    "deletable": false,
    "nbgrader": {
     "cell_type": "markdown",
     "checksum": "fce5fdf7f65d0f156781dc1207c9953d",
     "grade": true,
     "grade_id": "cell-a703f5d19011a77a",
     "locked": false,
     "points": 1,
     "schema_version": 3,
     "solution": true,
     "task": false
    }
   },
   "source": [
    "> F is smaller in the `Age20` model because the degrees of freedom is larger since it is estimating more parameters than the other two models."
   ]
  },
  {
   "cell_type": "markdown",
   "metadata": {
    "application/vnd.databricks.v1+cell": {
     "cellMetadata": {},
     "inputWidgets": {},
     "nuid": "fe9fd5af-8ad3-43b7-80c8-260059a5d7ce",
     "showTitle": false,
     "title": ""
    },
    "cell_id": "00057-e31753cb-2ca1-42e9-ba8c-46bbd6dcfeee",
    "deletable": false,
    "editable": false,
    "nbgrader": {
     "cell_type": "markdown",
     "checksum": "f459a5e0bd724bc7107db32e64fa6512",
     "grade": false,
     "grade_id": "cell-7bfef6bf1565ea67",
     "locked": true,
     "schema_version": 3,
     "solution": false,
     "task": false
    },
    "output_cleared": false,
    "tags": []
   },
   "source": [
    "10.3 - Are models with a high PRE always better? Why or why not? **(2 points)**"
   ]
  },
  {
   "cell_type": "markdown",
   "metadata": {
    "application/vnd.databricks.v1+cell": {
     "cellMetadata": {},
     "inputWidgets": {},
     "nuid": "3e2ba252-af85-4579-8bd9-8ae236d1ab1b",
     "showTitle": false,
     "title": ""
    },
    "deletable": false,
    "nbgrader": {
     "cell_type": "markdown",
     "checksum": "29a30ddc59ec0e0987cd645f1be3abff",
     "grade": true,
     "grade_id": "cell-149f7057945b32c4",
     "locked": false,
     "points": 2,
     "schema_version": 3,
     "solution": true,
     "task": false
    }
   },
   "source": [
    "> Models with a high PRE are not always better if it was acheived by splitting the data up into many groups. Creating more groups would attribute more variation to differences among age, and there might be other variables affecting `SWLS_Dif` outside of Age."
   ]
  },
  {
   "cell_type": "code",
   "execution_count": 0,
   "metadata": {
    "application/vnd.databricks.v1+cell": {
     "cellMetadata": {},
     "inputWidgets": {},
     "nuid": "4812842a-de80-4e83-8d92-3c97cf919d6b",
     "showTitle": false,
     "title": ""
    }
   },
   "outputs": [],
   "source": []
  }
 ],
 "metadata": {
  "application/vnd.databricks.v1+notebook": {
   "dashboards": [],
   "language": "python",
   "notebookMetadata": {},
   "notebookName": "testfile",
   "widgets": {}
  },
  "kernelspec": {
   "display_name": "R",
   "language": "R",
   "name": "ir"
  },
  "language_info": {
   "codemirror_mode": "r",
   "file_extension": ".r",
   "mimetype": "text/x-r-source",
   "name": "R",
   "pygments_lexer": "r",
   "version": "3.6.3"
  }
 },
 "nbformat": 4,
 "nbformat_minor": 0
}
